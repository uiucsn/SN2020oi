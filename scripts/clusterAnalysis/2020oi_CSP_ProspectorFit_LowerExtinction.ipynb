{
 "cells": [
  {
   "cell_type": "markdown",
   "metadata": {},
   "source": [
    "# Interactive Demo\n",
    "This is a deconstructed version of the demo that is intended to show a bit more detail about the operation of *prospector*."
   ]
  },
  {
   "cell_type": "markdown",
   "metadata": {},
   "source": [
    "First let's set up some environmental dependencies. These just make the numerics easier and adjust some of the plotting defaults to make things more legible."
   ]
  },
  {
   "cell_type": "code",
   "execution_count": 2,
   "metadata": {},
   "outputs": [],
   "source": [
    "import numpy as np\n",
    "def find_nearest(array, value):\n",
    "    array = np.asarray(array)\n",
    "    idx = (np.abs(array - value)).argmin()\n",
    "    return array[idx]\n"
   ]
  },
  {
   "cell_type": "code",
   "execution_count": 3,
   "metadata": {},
   "outputs": [],
   "source": [
    "import time, sys, os\n",
    "import h5py\n",
    "import numpy as np\n",
    "import scipy\n",
    "from matplotlib.pyplot import *\n",
    "\n",
    "%matplotlib inline\n",
    "\n",
    "# re-defining plotting defaults\n",
    "from matplotlib.font_manager import FontProperties\n",
    "from matplotlib import gridspec\n",
    "rcParams.update({'xtick.major.pad': '7.0'})\n",
    "rcParams.update({'xtick.major.size': '7.5'})\n",
    "rcParams.update({'xtick.major.width': '1.5'})\n",
    "rcParams.update({'xtick.minor.pad': '7.0'})\n",
    "rcParams.update({'xtick.minor.size': '3.5'})\n",
    "rcParams.update({'xtick.minor.width': '1.0'})\n",
    "rcParams.update({'ytick.major.pad': '7.0'})\n",
    "rcParams.update({'ytick.major.size': '7.5'})\n",
    "rcParams.update({'ytick.major.width': '1.5'})\n",
    "rcParams.update({'ytick.minor.pad': '7.0'})\n",
    "rcParams.update({'ytick.minor.size': '3.5'})\n",
    "rcParams.update({'ytick.minor.width': '1.0'})\n",
    "rcParams.update({'xtick.color': 'k'})\n",
    "rcParams.update({'ytick.color': 'k'})\n",
    "rcParams.update({'font.size': 30})"
   ]
  },
  {
   "cell_type": "code",
   "execution_count": null,
   "metadata": {},
   "outputs": [],
   "source": []
  },
  {
   "cell_type": "markdown",
   "metadata": {},
   "source": [
    "**Prospector** utilizes three main packages:\n",
    "- **fsps**, which governs the fundamental stellar population synthesis models (via the **python-fsps** package),\n",
    "- **sedpy**, which contains some routines for computing projecting spectra onto filter bandpasses, and\n",
    "- **prospect**, which is where the likelihood evaluations, parameter priors, and posterior sampling takes place.\n",
    "\n",
    "Let's import those now."
   ]
  },
  {
   "cell_type": "code",
   "execution_count": 4,
   "metadata": {},
   "outputs": [],
   "source": [
    "import fsps\n",
    "import sedpy\n",
    "import prospect"
   ]
  },
  {
   "cell_type": "markdown",
   "metadata": {},
   "source": [
    "And now, let's just look at the versions so you know what's working for me"
   ]
  },
  {
   "cell_type": "code",
   "execution_count": 5,
   "metadata": {},
   "outputs": [
    {
     "name": "stdout",
     "output_type": "stream",
     "text": [
      "numpy: 1.20.1\n",
      "scipy: 1.6.1\n",
      "h5py: 2.10.0\n",
      "fsps: 0.4.0\n",
      "prospect: 1.0.0\n"
     ]
    }
   ],
   "source": [
    "vers = (np.__version__, scipy.__version__, h5py.__version__, fsps.__version__, prospect.__version__)\n",
    "print(\"numpy: {}\\nscipy: {}\\nh5py: {}\\nfsps: {}\\nprospect: {}\".format(*vers))"
   ]
  },
  {
   "cell_type": "markdown",
   "metadata": {},
   "source": [
    "We'll also use external packages for sampling the posterior.  Let's make sure we have those now."
   ]
  },
  {
   "cell_type": "code",
   "execution_count": 6,
   "metadata": {},
   "outputs": [],
   "source": [
    "import emcee\n",
    "import dynesty"
   ]
  },
  {
   "cell_type": "markdown",
   "metadata": {},
   "source": [
    "# Setup"
   ]
  },
  {
   "cell_type": "markdown",
   "metadata": {},
   "source": [
    "*Prospector* requires several ingredients to conduct a fit.  These are:\n",
    "  1. An `obs` dictionary (with the data we intend to fit)\n",
    "  2. A stellar population synthesis object (a *source*) to predict spectra from parameters\n",
    "  3. A `model` object (to describe, store, and translate parameters and priors)\n",
    "  4. A likelihood or posterior probability function\n",
    "  \n",
    "It can also useful to collect the meta-parameters controlling how these ingredients are created and how the fit is conducted in a ``run_params`` dictionary. We will do that as we go along.  We will also encapsulate each step of the setup in a series of `build_x()` functions."
   ]
  },
  {
   "cell_type": "markdown",
   "metadata": {},
   "source": [
    "## The data to be fit: `build_obs()`\n",
    "\n",
    "The data to be fit is stored in a dictionary that we will call `obs`.\n",
    "The `obs` dictionary stores the observed fluxes, uncertainties, and information about how those fluxes were measured.\n",
    "For spectra this means the wavelengths at which the fluxes were measured, while for photometry we must know the filters through which the fluxes were measured.\n",
    "This information is passed (via the `obs` dictionary) to the model object to specify which data to predict.  It is also passed to the likelihood functions for calculating the likelihood of the data for a given model.\n",
    "\n",
    "**Units:** The units of the fluxes and uncertainties are assumed to be maggies (i.e Jy/3631).\n",
    "The wavelength units are assumed to be observed frame vacuum angstroms.  Also note that mask values should be `True` for data that you want to fit, and `False` for data that is to be ignored in the likelihood calculation.\n",
    "\n",
    "We will create an `obs` dictionary below, with all of the required keys, starting with photometry.\n",
    "We will do this through a `build_obs` method, that takes some meta-parameters.\n",
    "In this example we use photometry from a row in Table 2 of Johnson et al. 2013"
   ]
  },
  {
   "cell_type": "code",
   "execution_count": 7,
   "metadata": {},
   "outputs": [],
   "source": [
    "#first, let's import our 2020oi data!\n",
    "import pandas as pd \n",
    "\n",
    "HST_20oi = pd.read_csv(\"/Users/alexgagliano/Documents/Research/2020oi/data/photometry/HST_preExplosionPhotometry_dataOnly.csv\", delim_whitespace=True)"
   ]
  },
  {
   "cell_type": "code",
   "execution_count": 8,
   "metadata": {},
   "outputs": [
    {
     "data": {
      "text/html": [
       "<div>\n",
       "<style scoped>\n",
       "    .dataframe tbody tr th:only-of-type {\n",
       "        vertical-align: middle;\n",
       "    }\n",
       "\n",
       "    .dataframe tbody tr th {\n",
       "        vertical-align: top;\n",
       "    }\n",
       "\n",
       "    .dataframe thead th {\n",
       "        text-align: right;\n",
       "    }\n",
       "</style>\n",
       "<table border=\"1\" class=\"dataframe\">\n",
       "  <thead>\n",
       "    <tr style=\"text-align: right;\">\n",
       "      <th></th>\n",
       "      <th>MJD</th>\n",
       "      <th>Instrument</th>\n",
       "      <th>Filter</th>\n",
       "      <th>Exposure</th>\n",
       "      <th>Magnitude</th>\n",
       "      <th>Uncertainty</th>\n",
       "      <th>Limit</th>\n",
       "    </tr>\n",
       "  </thead>\n",
       "  <tbody>\n",
       "    <tr>\n",
       "      <th>7</th>\n",
       "      <td>53155.80275</td>\n",
       "      <td>ACS/HRC</td>\n",
       "      <td>F814W</td>\n",
       "      <td>1200.0000</td>\n",
       "      <td>20.2918</td>\n",
       "      <td>0.0073</td>\n",
       "      <td>25.4303</td>\n",
       "    </tr>\n",
       "    <tr>\n",
       "      <th>8</th>\n",
       "      <td>53155.85137</td>\n",
       "      <td>ACS/HRC</td>\n",
       "      <td>F555W</td>\n",
       "      <td>1200.0000</td>\n",
       "      <td>19.7657</td>\n",
       "      <td>0.0050</td>\n",
       "      <td>25.8862</td>\n",
       "    </tr>\n",
       "    <tr>\n",
       "      <th>9</th>\n",
       "      <td>53761.41752</td>\n",
       "      <td>ACS/HRC</td>\n",
       "      <td>F330W</td>\n",
       "      <td>1200.0000</td>\n",
       "      <td>19.4359</td>\n",
       "      <td>0.0057</td>\n",
       "      <td>25.7278</td>\n",
       "    </tr>\n",
       "    <tr>\n",
       "      <th>15</th>\n",
       "      <td>55147.05483</td>\n",
       "      <td>WFC3/UVIS</td>\n",
       "      <td>F775W</td>\n",
       "      <td>270.0000</td>\n",
       "      <td>20.1646</td>\n",
       "      <td>0.0108</td>\n",
       "      <td>24.9512</td>\n",
       "    </tr>\n",
       "    <tr>\n",
       "      <th>16</th>\n",
       "      <td>55147.06410</td>\n",
       "      <td>WFC3/UVIS</td>\n",
       "      <td>F475W</td>\n",
       "      <td>970.0000</td>\n",
       "      <td>19.6349</td>\n",
       "      <td>0.0029</td>\n",
       "      <td>27.0455</td>\n",
       "    </tr>\n",
       "    <tr>\n",
       "      <th>17</th>\n",
       "      <td>55147.07855</td>\n",
       "      <td>WFC3/UVIS</td>\n",
       "      <td>F555W</td>\n",
       "      <td>970.0000</td>\n",
       "      <td>19.7655</td>\n",
       "      <td>0.0029</td>\n",
       "      <td>27.0396</td>\n",
       "    </tr>\n",
       "    <tr>\n",
       "      <th>18</th>\n",
       "      <td>58153.73135</td>\n",
       "      <td>WFC3/UVIS</td>\n",
       "      <td>F814W</td>\n",
       "      <td>500.0000</td>\n",
       "      <td>20.1115</td>\n",
       "      <td>0.0065</td>\n",
       "      <td>25.2520</td>\n",
       "    </tr>\n",
       "    <tr>\n",
       "      <th>19</th>\n",
       "      <td>58153.74275</td>\n",
       "      <td>WFC3/UVIS</td>\n",
       "      <td>F475W</td>\n",
       "      <td>700.0000</td>\n",
       "      <td>19.6704</td>\n",
       "      <td>0.0035</td>\n",
       "      <td>26.4999</td>\n",
       "    </tr>\n",
       "    <tr>\n",
       "      <th>20</th>\n",
       "      <td>58153.75476</td>\n",
       "      <td>WFC3/IR</td>\n",
       "      <td>F160W</td>\n",
       "      <td>596.9242</td>\n",
       "      <td>20.2951</td>\n",
       "      <td>0.0077</td>\n",
       "      <td>24.6273</td>\n",
       "    </tr>\n",
       "    <tr>\n",
       "      <th>21</th>\n",
       "      <td>58626.84034</td>\n",
       "      <td>ACS/WFC</td>\n",
       "      <td>F814W</td>\n",
       "      <td>2128.0000</td>\n",
       "      <td>19.9370</td>\n",
       "      <td>0.0020</td>\n",
       "      <td>26.5261</td>\n",
       "    </tr>\n",
       "  </tbody>\n",
       "</table>\n",
       "</div>"
      ],
      "text/plain": [
       "            MJD Instrument Filter   Exposure  Magnitude  Uncertainty    Limit\n",
       "7   53155.80275    ACS/HRC  F814W  1200.0000    20.2918       0.0073  25.4303\n",
       "8   53155.85137    ACS/HRC  F555W  1200.0000    19.7657       0.0050  25.8862\n",
       "9   53761.41752    ACS/HRC  F330W  1200.0000    19.4359       0.0057  25.7278\n",
       "15  55147.05483  WFC3/UVIS  F775W   270.0000    20.1646       0.0108  24.9512\n",
       "16  55147.06410  WFC3/UVIS  F475W   970.0000    19.6349       0.0029  27.0455\n",
       "17  55147.07855  WFC3/UVIS  F555W   970.0000    19.7655       0.0029  27.0396\n",
       "18  58153.73135  WFC3/UVIS  F814W   500.0000    20.1115       0.0065  25.2520\n",
       "19  58153.74275  WFC3/UVIS  F475W   700.0000    19.6704       0.0035  26.4999\n",
       "20  58153.75476    WFC3/IR  F160W   596.9242    20.2951       0.0077  24.6273\n",
       "21  58626.84034    ACS/WFC  F814W  2128.0000    19.9370       0.0020  26.5261"
      ]
     },
     "execution_count": 8,
     "metadata": {},
     "output_type": "execute_result"
    }
   ],
   "source": [
    "HST_20oi[HST_20oi['Instrument']!= 'WFPC2']"
   ]
  },
  {
   "cell_type": "code",
   "execution_count": 9,
   "metadata": {},
   "outputs": [],
   "source": [
    "#rough extinction corrections\n",
    "#[obs814_hrc, obs555_hrc, obs330_hrc, obs160_ir, obs555_wfc3, obs775_wfc3, obs475_wfc3\n",
    "#[-0.32325654, -0.56151884, -0.88481171, -0.10947365, -0.57856125,\n",
    "#       -0.35116551, -0.65482049]\n",
    "\n",
    "ext_corr = {'814_acs/hrc':-0.32325654,\n",
    " '160_ir':-0.10947365, \n",
    " '475_wfc3/uvis':-0.65482049,\n",
    " '555_wfc3/uvis':-0.57856125,\n",
    " '814_wfc3/uvis':-0.32599449}"
   ]
  },
  {
   "cell_type": "code",
   "execution_count": 10,
   "metadata": {},
   "outputs": [],
   "source": [
    "#find the data that has filters represented in prospector\n",
    "ext_corr = {'814_acs/hrc':-0.32325654,\n",
    " '160_ir':-0.10947365, \n",
    " '475_wfc3/uvis':-0.65482049,\n",
    " '555_wfc3/uvis':-0.57856125,\n",
    " '814_wfc3/uvis':-0.32599449}\n",
    "\n",
    "#'acs_wfc_f814w','wfc3_ir_f160w','wfc3_uvis_f475w','wfc3_uvis_f555w','wfc3_uvis_f814w','acs,hrc,f814w','acs,hrc,f555w','acs,hrc,f330w','wfc3,uvis1,f775w'\n",
    "#assuming RV = 3.1 and E(B-V) = 0.174\n",
    "RV = 3.1\n",
    "EBV = 0.133\n",
    "AV = RV*EBV\n",
    "\n",
    "HST_20oi[['Filter', 'Instrument']]\n",
    "#'acs_wfc_f555w','acs_wfc_f775w',\n",
    "#'acs_wfc_f814w','wfc3_ir_f160w','wfc3_uvis_f475w','wfc3_uvis_f555w','wfc3_uvis_f814w'\n",
    "obs_info = {'instrument':np.array(['ACS/WFC', 'WFC3/IR', 'WFC3/UVIS', 'WFC3/UVIS', 'WFC3/UVIS','ACS/HRC','ACS/HRC','ACS/HRC','WFC3/UVIS']), \n",
    "            'filter':np.array(['F814W', 'F160W', 'F475W', 'F555W', 'F814W','F814W','F555W','F330W','F775W'])}\n",
    "obs_set = []\n",
    "obs_err = []\n",
    "for i in np.arange(len(obs_info['filter'])):\n",
    "    obs = HST_20oi[(HST_20oi['Filter'] == obs_info['filter'][i]) & (HST_20oi['Instrument'] == obs_info['instrument'][i])]\n",
    "    #print(obs_info['instrument'][i])\n",
    "    #print(obs_info['filter'][i])\n",
    "    obs_set.append(obs.loc[obs['Uncertainty'] == np.nanmin(obs['Uncertainty']), 'Magnitude'].values[0])\n",
    "    obs_err.append(obs.loc[obs['Uncertainty'] == np.nanmin(obs['Uncertainty']), 'Uncertainty'].values[0])\n",
    "#convert to absolute magnitudes\n",
    "dm = 31.16 #distance of 1.71e7 pc\n",
    "#obs_abs = np.array(obs_set) - dm\n",
    "#rough extinction correction\n",
    "#obs_set -= np.array(list(ext_corr.values()))\n",
    "obs_set = np.array(obs_set)\n",
    "obs_set -= AV\n",
    "\n",
    "obs_err = np.array(obs_err)\n",
    "#ext_err = np.array([-0.0428461 , -0.01454937, -0.08677951, -0.07667928, -0.04321927])\n",
    "ext_err = np.ones(len(obs_err))*0.08\n",
    "#add some uncertainty to the photometry\n",
    "obs_err = np.sqrt(obs_err**2 + ext_err**2)"
   ]
  },
  {
   "cell_type": "code",
   "execution_count": 11,
   "metadata": {},
   "outputs": [
    {
     "name": "stdout",
     "output_type": "stream",
     "text": [
      "[0.080025   0.08036971 0.08005255 0.08005255 0.08026363 0.08033237\n",
      " 0.0801561  0.08020281 0.08072571]\n"
     ]
    }
   ],
   "source": [
    "print(obs_err)"
   ]
  },
  {
   "cell_type": "raw",
   "metadata": {},
   "source": []
  },
  {
   "cell_type": "code",
   "execution_count": 12,
   "metadata": {},
   "outputs": [],
   "source": [
    "def build_obs(snr=10, ldist=10.0, **extras):\n",
    "    \"\"\"Build a dictionary of observational data.  In this example \n",
    "    the data consist of photometry for a single nearby dwarf galaxy \n",
    "    from Johnson et al. 2013.\n",
    "    \n",
    "    :param snr:\n",
    "        The S/N to assign to the photometry, since none are reported \n",
    "        in Johnson et al. 2013\n",
    "        \n",
    "    :param ldist:\n",
    "        The luminosity distance to assume for translating absolute magnitudes \n",
    "        into apparent magnitudes.\n",
    "        \n",
    "    :returns obs:\n",
    "        A dictionary of observational data to use in the fit.\n",
    "    \"\"\"\n",
    "    from prospect.utils.obsutils import fix_obs\n",
    "    import sedpy\n",
    "\n",
    "    # The obs dictionary, empty for now\n",
    "    obs = {}\n",
    "\n",
    "    # These are the names of the relevant filters, \n",
    "    # in the same order as the photometric data (see below)\n",
    "    #galex = ['galex_FUV', 'galex_NUV']\n",
    "    #spitzer = ['spitzer_irac_ch'+n for n in ['1','2','3','4']]\n",
    "    #sdss = ['sdss_{0}0'.format(b) for b in ['u','g','r','i','z']]\n",
    "    #filternames = galex + sdss + spitzer\n",
    "    #20oi - load in HST filters\n",
    "    #last 4 bands were added manually by AG from pysynphot! 'acs,hrc,f814w','acs,hrc,f555w','acs,hrc,f330w','wfc3,uvis1,f775w'\n",
    "    filternames = ['acs_wfc_f814w','wfc3_ir_f160w','wfc3_uvis_f475w','wfc3_uvis_f555w','wfc3_uvis_f814w','acs_hrc_f814w','acs_hrc_f555w','acs_hrc_f330w','wfc3_uvis1_f775w']\n",
    "    # And here we instantiate the `Filter()` objects using methods in `sedpy`,\n",
    "    # and put the resultinf list of Filter objects in the \"filters\" key of the `obs` dictionary\n",
    "    obs[\"filters\"] = sedpy.observate.load_filters(filternames)\n",
    "\n",
    "    # Now we store the measured fluxes for a single object, **in the same order as \"filters\"**\n",
    "    # In this example we use a row of absolute AB magnitudes from Johnson et al. 2013 (NGC4163)\n",
    "    # We then turn them into apparent magnitudes based on the supplied `ldist` meta-parameter.\n",
    "    # You could also, e.g. read from a catalog.\n",
    "    # The units of the fluxes need to be maggies (Jy/3631) so we will do the conversion here too.\n",
    "    #M_AB = obs_abs\n",
    "    #dm = 25 + 5.0 * np.log10(ldist)\n",
    "    #mags = M_AB + dm\n",
    "    mags = np.array(obs_set)\n",
    "    obs[\"maggies\"] = 10**(-0.4*mags)\n",
    "\n",
    "    # And now we store the uncertainties (again in units of maggies)\n",
    "    # In this example we are going to fudge the uncertainties based on the supplied `snr` meta-parameter.\n",
    "    obs[\"maggies_unc\"] = np.array([3.20981202e-09, 2.31796209e-09, 4.24100791e-09, 3.76035704e-09,\n",
    "    2.74140200e-09, 2.32393795e-09, 3.76452776e-09, 5.10368072e-09,2.62558331e-09])\n",
    "    #Calculated as 2.303*obs['maggies']*obs_err #(1./snr) * obs[\"maggies\"]\n",
    "\n",
    "    # Now we need a mask, which says which flux values to consider in the likelihood.\n",
    "    # IMPORTANT: the mask is *True* for values that you *want* to fit, \n",
    "    # and *False* for values you want to ignore.  Here we ignore the spitzer bands.\n",
    "    obs[\"phot_mask\"] = np.array([True]*(len(obs_set)))\n",
    "\n",
    "    # This is an array of effective wavelengths for each of the filters.  \n",
    "    # It is not necessary, but it can be useful for plotting so we store it here as a convenience\n",
    "    obs[\"phot_wave\"] = np.array([f.wave_effective for f in obs[\"filters\"]])\n",
    "\n",
    "    # We do not have a spectrum, so we set some required elements of the obs dictionary to None.\n",
    "    # (this would be a vector of vacuum wavelengths in angstroms)\n",
    "    obs[\"wavelength\"] = None\n",
    "    # (this would be the spectrum in units of maggies)\n",
    "    obs[\"spectrum\"] = None\n",
    "    # (spectral uncertainties are given here)\n",
    "    obs['unc'] = None\n",
    "    # (again, to ignore a particular wavelength set the value of the \n",
    "    #  corresponding elemnt of the mask to *False*)\n",
    "    obs['mask'] = None\n",
    "\n",
    "    # This function ensures all required keys are present in the obs dictionary,\n",
    "    # adding default values if necessary\n",
    "    obs = fix_obs(obs)\n",
    "\n",
    "    return obs"
   ]
  },
  {
   "cell_type": "markdown",
   "metadata": {},
   "source": [
    "And we will store some meta-parameters that control the input arguments to this method:"
   ]
  },
  {
   "cell_type": "code",
   "execution_count": 13,
   "metadata": {},
   "outputs": [],
   "source": [
    "run_params = {}\n",
    "#run_params[\"snr\"] = 10.0\n",
    "#run_params[\"ldist\"] = 10.0"
   ]
  },
  {
   "cell_type": "markdown",
   "metadata": {},
   "source": [
    "Let's take a look at the final `obs` disctionary and also plot up our data."
   ]
  },
  {
   "cell_type": "code",
   "execution_count": 14,
   "metadata": {},
   "outputs": [
    {
     "name": "stdout",
     "output_type": "stream",
     "text": [
      "Obs Dictionary Keys:\n",
      "\n",
      "dict_keys(['filters', 'maggies', 'maggies_unc', 'phot_mask', 'phot_wave', 'wavelength', 'spectrum', 'unc', 'mask', 'filternames', 'logify_spectrum', 'ndof'])\n",
      "\n",
      "--------\n",
      "Filter objects:\n",
      "\n",
      "[<class 'sedpy.observate.Filter'>(acs_wfc_f814w), <class 'sedpy.observate.Filter'>(wfc3_ir_f160w), <class 'sedpy.observate.Filter'>(wfc3_uvis_f475w), <class 'sedpy.observate.Filter'>(wfc3_uvis_f555w), <class 'sedpy.observate.Filter'>(wfc3_uvis_f814w), <class 'sedpy.observate.Filter'>(acs_hrc_f814w), <class 'sedpy.observate.Filter'>(acs_hrc_f555w), <class 'sedpy.observate.Filter'>(acs_hrc_f330w), <class 'sedpy.observate.Filter'>(wfc3_uvis1_f775w)]\n"
     ]
    },
    {
     "data": {
      "image/png": "[encoded data removed]",
      "text/plain": [
       "<Figure size 1152x576 with 1 Axes>"
      ]
     },
     "metadata": {
      "needs_background": "light"
     },
     "output_type": "display_data"
    }
   ],
   "source": [
    "# Build the obs dictionary using the meta-parameters\n",
    "obs = build_obs(**run_params)\n",
    "\n",
    "# Look at the contents of the obs dictionary\n",
    "print(\"Obs Dictionary Keys:\\n\\n{}\\n\".format(obs.keys()))\n",
    "print(\"--------\\nFilter objects:\\n\")\n",
    "print(obs[\"filters\"])\n",
    "\n",
    "# --- Plot the Data ----\n",
    "# This is why we stored these...\n",
    "wphot = obs[\"phot_wave\"]\n",
    "\n",
    "# establish bounds\n",
    "xmin, xmax = np.min(wphot)*0.8, np.max(wphot)/0.8\n",
    "ymin, ymax = obs[\"maggies\"].min()*0.8, obs[\"maggies\"].max()/0.4\n",
    "figure(figsize=(16,8))\n",
    "\n",
    "# plot all the data\n",
    "plot(wphot, obs['maggies'],\n",
    "     label='All observed photometry',\n",
    "     marker='o', markersize=12, alpha=0.8, ls='', lw=3,\n",
    "     color='slateblue')\n",
    "\n",
    "# overplot only the data we intend to fit\n",
    "mask = obs[\"phot_mask\"]\n",
    "errorbar(wphot[mask], obs['maggies'][mask], \n",
    "         yerr=obs['maggies_unc'][mask], \n",
    "         label='Photometry to fit',\n",
    "         marker='o', markersize=8, alpha=0.8, ls='', lw=3,\n",
    "         ecolor='tomato', markerfacecolor='none', markeredgecolor='tomato', \n",
    "         markeredgewidth=3)\n",
    "\n",
    "# plot Filters\n",
    "for f in obs['filters']:\n",
    "    w, t = f.wavelength.copy(), f.transmission.copy()\n",
    "    t = t / t.max()\n",
    "    t = 10**(0.2*(np.log10(ymax/ymin)))*t * ymin\n",
    "    loglog(w, t, lw=3, color='gray', alpha=0.7)\n",
    "\n",
    "# prettify\n",
    "xlabel('Wavelength [A]')\n",
    "ylabel('Flux Density [maggies]')\n",
    "xlim([xmin, xmax])\n",
    "ylim([ymin, ymax])\n",
    "xscale(\"log\")\n",
    "yscale(\"log\")\n",
    "legend(loc='best', fontsize=20)\n",
    "tight_layout()"
   ]
  },
  {
   "cell_type": "code",
   "execution_count": 15,
   "metadata": {},
   "outputs": [
    {
     "data": {
      "text/plain": [
       "[<class 'sedpy.observate.Filter'>(acs_wfc_f814w),\n",
       " <class 'sedpy.observate.Filter'>(wfc3_ir_f160w),\n",
       " <class 'sedpy.observate.Filter'>(wfc3_uvis_f475w),\n",
       " <class 'sedpy.observate.Filter'>(wfc3_uvis_f555w),\n",
       " <class 'sedpy.observate.Filter'>(wfc3_uvis_f814w),\n",
       " <class 'sedpy.observate.Filter'>(acs_hrc_f814w),\n",
       " <class 'sedpy.observate.Filter'>(acs_hrc_f555w),\n",
       " <class 'sedpy.observate.Filter'>(acs_hrc_f330w),\n",
       " <class 'sedpy.observate.Filter'>(wfc3_uvis1_f775w)]"
      ]
     },
     "execution_count": 15,
     "metadata": {},
     "output_type": "execute_result"
    }
   ],
   "source": [
    "obs['filters']"
   ]
  },
  {
   "cell_type": "code",
   "execution_count": 16,
   "metadata": {},
   "outputs": [
    {
     "data": {
      "text/plain": [
       "array([ 8005.60843049, 15324.46877726,  4736.37692621,  5256.11107939,\n",
       "        7972.96177452,  8037.98253126,  5331.73210482,  3354.03701153,\n",
       "        7630.74012291])"
      ]
     },
     "execution_count": 16,
     "metadata": {},
     "output_type": "execute_result"
    }
   ],
   "source": [
    "obs['phot_wave']"
   ]
  },
  {
   "cell_type": "code",
   "execution_count": 17,
   "metadata": {},
   "outputs": [
    {
     "data": {
      "text/plain": [
       "array([1.54924463e-08, 1.11398669e-08, 2.04625616e-08, 1.81434553e-08,\n",
       "       1.31922842e-08, 1.11737770e-08, 1.81401135e-08, 2.45787618e-08,\n",
       "       1.25626135e-08])"
      ]
     },
     "execution_count": 17,
     "metadata": {},
     "output_type": "execute_result"
    }
   ],
   "source": [
    "obs['maggies']"
   ]
  },
  {
   "cell_type": "code",
   "execution_count": 18,
   "metadata": {},
   "outputs": [
    {
     "data": {
      "text/plain": [
       "array([3.20981202e-09, 2.31796209e-09, 4.24100791e-09, 3.76035704e-09,\n",
       "       2.74140200e-09, 2.32393795e-09, 3.76452776e-09, 5.10368072e-09,\n",
       "       2.62558331e-09])"
      ]
     },
     "execution_count": 18,
     "metadata": {},
     "output_type": "execute_result"
    }
   ],
   "source": [
    "obs['maggies_unc']"
   ]
  },
  {
   "cell_type": "markdown",
   "metadata": {},
   "source": [
    "## The model object: `build_model()`\n",
    "\n",
    "Now we need a set of model parameters, which will **define** the model we are tying to fit to the data.  The model object stores the parameters that are used by the SPS object to build a spectrum, as well as infomation about which parameters are to be varied during fitting, and priors on those parameters.  It efficiently converts between a vector of parameter values (the `theta` attribute) used by the MCMC samplers or optimizers and the dictionary of parameter names and values (the `params` attribute) that can be passed to the sps objects' `get_spectrum()` method.\n",
    "\n",
    "To create the model object we need a list or dictionary of model parameters and some infomation about them.  Each parameter must a have a `name`, a length `N` (vector parameters are possible), an initial value `ini`, and must be specified as either a free parameter or a fixed parameter via an `isfree` key.  If it is a free parameter it *must* have a prior specified as well, which we will get from the `priors` module.  Please see the documentation for that module for details on the available priors."
   ]
  },
  {
   "cell_type": "markdown",
   "metadata": {},
   "source": [
    "Let's start by creating a dictionary that describes a single parameter controlling the stellar mass."
   ]
  },
  {
   "cell_type": "code",
   "execution_count": 19,
   "metadata": {},
   "outputs": [],
   "source": [
    "from prospect.models import priors\n",
    "mass_param = {\"name\": \"mass\",\n",
    "              # The mass parameter here is a scalar, so it has N=1\n",
    "              \"N\": 1,\n",
    "              # We will be fitting for the mass, so it is a free parameter\n",
    "              \"isfree\": True,\n",
    "              # This is the initial value. For fixed parameters this is the\n",
    "              # value that will always be used. \n",
    "              \"init\": 1e8,\n",
    "              # This sets the prior probability for the parameter\n",
    "              \"prior\": priors.LogUniform(mini=1e6, maxi=1e12),\n",
    "              # this sets the initial dispersion to use when generating \n",
    "              # clouds of emcee \"walkers\".  It is not required, but can be very helpful.\n",
    "              \"init_disp\": 1e6, \n",
    "              # this sets the minimum dispersion to use when generating \n",
    "              #clouds of emcee \"walkers\".  It is not required, but can be useful if \n",
    "              # burn-in rounds leave the walker distribution too narrow for some reason.\n",
    "              \"disp_floor\": 1e6, \n",
    "              # This is not required, but can be helpful\n",
    "              \"units\": \"solar masses formed\",\n",
    "              }"
   ]
  },
  {
   "cell_type": "markdown",
   "metadata": {},
   "source": [
    "Ok, that's the description for one parameter.  Let's **build up the rest of our model** as a dictionary of these parameter descriptions, keyed by parameter name.  The type of model you build will depend on your data, the type of object you are looking at,  and your scientific question. For this data, at a minimum we will need some sort of distance or redshift information (which in this example is a fixed parameter), and something descibing the SFH.  We could also add parameters controlling metallicity, dust attenuation and emission, nebular emission, even the IMF. Note that any parameter whose value is not explicitly specified via a model parameter dictionary will be given the default value from python-FSPS."
   ]
  },
  {
   "cell_type": "markdown",
   "metadata": {},
   "source": [
    "While we could keep adding parameters by hand, the easiest way to build up this model is to start with some predefined parameter sets from the `prospect.models.templates` module, and then modify them to suit our needs. First, lets look at what pre-packaged parameter sets are available."
   ]
  },
  {
   "cell_type": "code",
   "execution_count": 20,
   "metadata": {},
   "outputs": [
    {
     "name": "stdout",
     "output_type": "stream",
     "text": [
      "'type_defaults':\n",
      "  Explicitly sets dust amd IMF types.\n",
      "'ssp':\n",
      "  Basic set of (free) parameters for a delta function SFH\n",
      "'parametric_sfh':\n",
      "  Basic set of (free) parameters for a delay-tau SFH.\n",
      "'dust_emission':\n",
      "  The set of (fixed) dust emission parameters.\n",
      "'nebular':\n",
      "  The set of nebular emission parameters, with gas_logz tied to stellar logzsol.\n",
      "'nebular_marginalization':\n",
      "  Marginalize over emission amplitudes line contained inthe observed spectrum\n",
      "'fit_eline_redshift':\n",
      "  Fit for the redshift of the emission lines separatelyfrom the stellar redshift\n",
      "'outlier_model':\n",
      "  The set of outlier (mixture) models for spectroscopy and photometry\n",
      "'agn':\n",
      "  The set of (fixed) AGN dusty torus emission parameters.\n",
      "'igm':\n",
      "  The set of (fixed) IGM absorption parameters.\n",
      "'spectral_smoothing':\n",
      "  Set of parameters for spectal smoothing.\n",
      "'optimize_speccal':\n",
      "  Set of parameters (most of which are fixed) for optimizing a polynomial calibration vector.\n",
      "'fit_speccal':\n",
      "  Set of parameters (most of which are free) for sampling the coefficients of a polynomial calibration vector.\n",
      "'burst_sfh':\n",
      "  The set of (fixed) parameters for an SF burst added to a parameteric SFH, with the burst time controlled by `fage_burst`.\n",
      "'logm_sfh':\n",
      "  Non-parameteric SFH fitting for log-mass in fixed time bins\n",
      "'continuity_sfh':\n",
      "  Non-parameteric SFH fitting for mass in fixed time bins with a smoothness prior\n",
      "'continuity_flex_sfh':\n",
      "  Non-parameteric SFH fitting for mass in flexible time bins with a smoothness prior\n",
      "'dirichlet_sfh':\n",
      "  Non-parameteric SFH with Dirichlet prior (fractional SFR)\n",
      "'alpha':\n",
      "  The prospector-alpha model, Leja et al. 2017\n"
     ]
    }
   ],
   "source": [
    "from prospect.models.templates import TemplateLibrary\n",
    "\n",
    "# Look at all the prepackaged parameter sets\n",
    "TemplateLibrary.show_contents()"
   ]
  },
  {
   "cell_type": "markdown",
   "metadata": {},
   "source": [
    "It looks like the `\"parametric_sfh\"` parameter set will do most of what we want.  Let's look at it in more detail."
   ]
  },
  {
   "cell_type": "code",
   "execution_count": 21,
   "metadata": {},
   "outputs": [
    {
     "name": "stdout",
     "output_type": "stream",
     "text": [
      "Free Parameters: (name: prior) \n",
      "-----------\n",
      "  mass: <class 'prospect.models.priors.LogUniform'>(mini=100000000.0,maxi=1000000000000.0)\n",
      "  logzsol: <class 'prospect.models.priors.TopHat'>(mini=-2,maxi=0.19)\n",
      "  dust2: <class 'prospect.models.priors.TopHat'>(mini=0.0,maxi=2.0)\n",
      "  tage: <class 'prospect.models.priors.TopHat'>(mini=0.001,maxi=13.8)\n",
      "  tau: <class 'prospect.models.priors.LogUniform'>(mini=0.1,maxi=30)\n",
      "\n",
      "Fixed Parameters: (name: value [, depends_on]) \n",
      "-----------\n",
      "  zred: 0.1 \n",
      "  sfh: 4 \n",
      "  imf_type: 2 \n",
      "  dust_type: 0 \n"
     ]
    }
   ],
   "source": [
    "TemplateLibrary.describe(\"parametric_sfh\")"
   ]
  },
  {
   "cell_type": "markdown",
   "metadata": {},
   "source": [
    "That looks pretty good, this model has 5 free parameters:\n",
    "- stellar mass *formed* $M_\\star$,\n",
    "- metallicity $\\log Z/Z_\\odot$, \n",
    "- age $t$ of the galaxy \n",
    "- star formation timescale $\\tau$ for an exponentially declining star formation history (SFH), and\n",
    "- dust attenuation optical depth for a foreground screen, $A_V$.\n",
    "\n",
    "Everything else here is fixed explicitly (e.g. Chabrier IMF via `imf_type:2`).  There are many other `sps` parameters that are set implicitly in the FSPS defaults.  See the python-FSPS documentation for a complete list and details on the default values.\n",
    "\n",
    "Note that by default the stellar mass here refers to the stellar mass *formed* by the given age, which will always be slightly higher than the *surviving* stellar mass, due to mass loss during stellar evolution (winds, SNe, etc.)\n",
    "\n",
    "To tailor this model to our data we'll want to just adjust a couple of the initial values and priors, and add a parameter that will set the distance even though the redshift of theses objects is zero (remember we used absolute magnitudes - these particular very nearby objects are decoupled from the Hubble flow and have very small redshifts, or even blueshifts).\n",
    "\n",
    "However, as for the ``obs`` dictionary we will do all this model building inside a method called ``build_model``.\n",
    "This is useful because then we can control (at run-time) how the model is built via more meta-parameters.  For example the redshift of the model can be specified, or we can decide to change a prior depending on which object the model is fitting. Let's do an example where we change whether the metallicity is a free parameter of the fit or fixed to a particular value, optionally turn on dust emission in the model, and where we can set the redshift by hand as well."
   ]
  },
  {
   "cell_type": "markdown",
   "metadata": {},
   "source": [
    "def build_model(object_redshift=None, ldist=10.0, fixed_metallicity=None, add_duste=False, \n",
    "                **extras):\n",
    "    \"\"\"Build a prospect.models.SedModel object\n",
    "    \n",
    "    :param object_redshift: (optional, default: None)\n",
    "        If given, produce spectra and observed frame photometry appropriate \n",
    "        for this redshift. Otherwise, the redshift will be zero.\n",
    "        \n",
    "    :param ldist: (optional, default: 10)\n",
    "        The luminosity distance (in Mpc) for the model.  Spectra and observed \n",
    "        frame (apparent) photometry will be appropriate for this luminosity distance.\n",
    "        \n",
    "    :param fixed_metallicity: (optional, default: None)\n",
    "        If given, fix the model metallicity (:math:`log(Z/Z_sun)`) to the given value.\n",
    "        \n",
    "    :param add_duste: (optional, default: False)\n",
    "        If `True`, add dust emission and associated (fixed) parameters to the model.\n",
    "        \n",
    "    :returns model:\n",
    "        An instance of prospect.models.SedModel\n",
    "    \"\"\"\n",
    "    from prospect.models.sedmodel import SedModel\n",
    "    from prospect.models.templates import TemplateLibrary\n",
    "    from prospect.models import priors\n",
    "\n",
    "    # Get (a copy of) one of the prepackaged model set dictionaries.\n",
    "    # This is, somewhat confusingly, a dictionary of dictionaries, keyed by parameter name\n",
    "    model_params = TemplateLibrary[\"parametric_sfh\"]\n",
    "    \n",
    "   # Now add the lumdist parameter by hand as another entry in the dictionary.\n",
    "   # This will control the distance since we are setting the redshift to zero.  \n",
    "   # In `build_obs` above we used a distance of 17.1Mpc to convert from absolute to apparent magnitudes, \n",
    "   # so we use that here too, since the `maggies` are appropriate for that distance.\n",
    "    ldist = 17.1\n",
    "    model_params[\"lumdist\"] = {\"N\": 1, \"isfree\": False, \"init\": ldist, \"units\":\"Mpc\"}\n",
    "    model_params['sfh']['init'] = [0]\n",
    "    \n",
    "    # Let's make some changes to initial values appropriate for our objects and data\n",
    "    model_params[\"zred\"][\"init\"] = 0.0\n",
    "    model_params[\"dust2\"][\"init\"] = 0.05\n",
    "    model_params[\"logzsol\"][\"init\"] = 0.0\n",
    "    model_params[\"tage\"][\"init\"] = 0.5\n",
    "    model_params['tage']['isfree'] = True\n",
    "    model_params[\"mass\"][\"init\"] = 1.e6\n",
    "    model_params['dust_type']['init'] = 1\n",
    "    model_params['dust_type']['isfree'] = False\n",
    "    #model_params[\"tburst\"][\"init\"] = 3.\n",
    "#    model_params['sfh']['init'] = 1\n",
    "    \n",
    "    # This is a stellar cluster, so lets also adjust the\n",
    "    # the tau parameter upward, and the mass prior downward\n",
    "    model_params[\"tage\"][\"prior\"] = priors.TopHat(mini=0.0001, maxi=0.5)\n",
    "#    model_params[\"tau\"][\"prior\"] = priors.LogUniform(mini=1e-1, maxi=1e2)\n",
    "    model_params[\"mass\"][\"prior\"] = priors.LogUniform(mini=1e4, maxi=1e10)\n",
    "\n",
    "    # If we are going to be using emcee, it is useful to provide a \n",
    "    # minimum scale for the cloud of walkers (the default is 0.1)\n",
    "    model_params[\"mass\"][\"disp_floor\"] = 1e4\n",
    "    model_params[\"tau\"][\"disp_floor\"] = 0.1\n",
    "    model_params[\"tage\"][\"disp_floor\"] = 0.1\n",
    "    \n",
    "    # Change the model parameter specifications based on some keyword arguments\n",
    "    if fixed_metallicity is not None:\n",
    "        # make it a fixed parameter\n",
    "        model_params[\"logzsol\"][\"isfree\"] = False\n",
    "        #And use value supplied by fixed_metallicity keyword\n",
    "        model_params[\"logzsol\"]['init'] = fixed_metallicity \n",
    "\n",
    "    if object_redshift is not None:\n",
    "        # make sure zred is fixed\n",
    "        model_params[\"zred\"]['isfree'] = False\n",
    "        # And set the value to the object_redshift keyword\n",
    "        model_params[\"zred\"]['init'] = object_redshift\n",
    "\n",
    "#if add_duste:\n",
    "        # Add dust emission (with fixed dust SED parameters)\n",
    "        # Since `model_params` is a dictionary of parameter specifications, \n",
    "        # and `TemplateLibrary` returns dictionaries of parameter specifications, \n",
    "        # we can just update `model_params` with the parameters described in the \n",
    "        # pre-packaged `dust_emission` parameter set.\n",
    "    #    model_params.update(TemplateLibrary[\"dust_emission\"])\n",
    "    model_params.update(TemplateLibrary[\"burst_sfh\"])\n",
    "        \n",
    "   # model_params[\"tburst\"]['isfree'] = True\n",
    "    model_params[\"dust2\"]['isfree'] = False\n",
    "    model_params[\"fage_burst\"]['isfree'] = True\n",
    "    model_params[\"fburst\"]['isfree'] = False\n",
    "    model_params['fburst']['init'] = 0.5 #[0.2, 0.2]\n",
    "    #model_params['fburst']['init'] = [0.2, 0.2]\n",
    "    model_params['tau']['init'] = 2.7\n",
    "    model_params['tage']['init'] = 1.0\n",
    "#   model_params['fage_burst']['init'] = 0.88 #[0.8, 0.9]\n",
    "    model_params['fage_burst']['init'] = 0.8 #[0.8, 0.9]\n",
    "    \n",
    "    # Now instantiate the model object using this dictionary of parameter specifications\n",
    "    model = SedModel(model_params)\n",
    "\n",
    "    return model\n",
    "\n",
    "\n",
    "run_params[\"object_redshift\"] = 0.0\n",
    "run_params[\"fixed_metallicity\"] = None\n",
    "#run_params[\"add_duste\"] = True"
   ]
  },
  {
   "cell_type": "code",
   "execution_count": 22,
   "metadata": {},
   "outputs": [],
   "source": [
    "def build_model(object_redshift=None, ldist=10.0, fixed_metallicity=None, add_duste=False, \n",
    "                **extras):\n",
    "    \"\"\"Build a prospect.models.SedModel object\n",
    "    \n",
    "    :param object_redshift: (optional, default: None)\n",
    "        If given, produce spectra and observed frame photometry appropriate \n",
    "        for this redshift. Otherwise, the redshift will be zero.\n",
    "        \n",
    "    :param ldist: (optional, default: 10)\n",
    "        The luminosity distance (in Mpc) for the model.  Spectra and observed \n",
    "        frame (apparent) photometry will be appropriate for this luminosity distance.\n",
    "        \n",
    "    :param fixed_metallicity: (optional, default: None)\n",
    "        If given, fix the model metallicity (:math:`log(Z/Z_sun)`) to the given value.\n",
    "        \n",
    "    :param add_duste: (optional, default: False)\n",
    "        If `True`, add dust emission and associated (fixed) parameters to the model.\n",
    "        \n",
    "    :returns model:\n",
    "        An instance of prospect.models.SedModel\n",
    "    \"\"\"\n",
    "    from prospect.models.sedmodel import SedModel\n",
    "    from prospect.models.templates import TemplateLibrary\n",
    "    from prospect.models import priors\n",
    "\n",
    "    # Get (a copy of) one of the prepackaged model set dictionaries.\n",
    "    # This is, somewhat confusingly, a dictionary of dictionaries, keyed by parameter name\n",
    "    model_params = TemplateLibrary[\"ssp\"]\n",
    "    \n",
    "   # Now add the lumdist parameter by hand as another entry in the dictionary.\n",
    "   # This will control the distance since we are setting the redshift to zero.  \n",
    "   # In `build_obs` above we used a distance of 17.1Mpc to convert from absolute to apparent magnitudes, \n",
    "   # so we use that here too, since the `maggies` are appropriate for that distance.\n",
    "    ldist = 17.1\n",
    "    model_params[\"lumdist\"] = {\"N\": 1, \"isfree\": False, \"init\": ldist, \"units\":\"Mpc\"}\n",
    "    model_params['sfh']['init'] = [0]\n",
    "    \n",
    "    # Let's make some changes to initial values appropriate for our objects and data\n",
    "    model_params[\"zred\"][\"init\"] = 0.0\n",
    "    model_params[\"dust2\"][\"init\"] = 0.0\n",
    "    model_params[\"logzsol\"][\"init\"] = 0.0\n",
    "    model_params[\"mass\"][\"init\"] = 1.e6\n",
    "    model_params['dust_type']['init'] = 1\n",
    "    model_params['dust_type']['isfree'] = False\n",
    "    #model_params[\"tburst\"][\"init\"] = 3.\n",
    "#    model_params['sfh']['init'] = 1\n",
    "    \n",
    "    # This is a stellar cluster, so lets also adjust the\n",
    "    # the tau parameter upward, and the mass prior downward\n",
    "    model_params[\"tage\"][\"prior\"] = priors.TopHat(mini=0.0001, maxi=0.3)\n",
    "#    model_params[\"tau\"][\"prior\"] = priors.LogUniform(mini=1e-1, maxi=1e2)\n",
    "    model_params[\"mass\"][\"prior\"] = priors.LogUniform(mini=1e4, maxi=1e11)\n",
    "\n",
    "    # If we are going to be using emcee, it is useful to provide a \n",
    "    # minimum scale for the cloud of walkers (the default is 0.1)\n",
    "    model_params[\"mass\"][\"disp_floor\"] = 1e4\n",
    "    model_params[\"tage\"][\"disp_floor\"] = 0.1\n",
    "    \n",
    "    # Change the model parameter specifications based on some keyword arguments\n",
    "    if fixed_metallicity is not None:\n",
    "        # make it a fixed parameter\n",
    "        model_params[\"logzsol\"][\"isfree\"] = False\n",
    "        #And use value supplied by fixed_metallicity keyword\n",
    "        model_params[\"logzsol\"]['init'] = fixed_metallicity \n",
    "\n",
    "    if object_redshift is not None:\n",
    "        # make sure zred is fixed\n",
    "        model_params[\"zred\"]['isfree'] = False\n",
    "        # And set the value to the object_redshift keyword\n",
    "        model_params[\"zred\"]['init'] = object_redshift\n",
    "        \n",
    "   # model_params[\"tburst\"]['isfree'] = True\n",
    "    model_params[\"dust2\"]['isfree'] = False\n",
    "    \n",
    "    # Now instantiate the model object using this dictionary of parameter specifications\n",
    "    model = SedModel(model_params)\n",
    "\n",
    "    return model\n",
    "\n",
    "\n",
    "run_params[\"object_redshift\"] = 0.0\n",
    "run_params[\"fixed_metallicity\"] = None\n",
    "#run_params[\"add_duste\"] = True"
   ]
  },
  {
   "cell_type": "markdown",
   "metadata": {},
   "source": [
    "Now let's build the model using this function and take a look at it:"
   ]
  },
  {
   "cell_type": "code",
   "execution_count": 23,
   "metadata": {},
   "outputs": [
    {
     "name": "stdout",
     "output_type": "stream",
     "text": [
      ":::::::\n",
      "<class 'prospect.models.sedmodel.SedModel'>\n",
      "\n",
      "Free Parameters: (name: prior) \n",
      "-----------\n",
      "  mass: <class 'prospect.models.priors.LogUniform'>(mini=10000.0,maxi=100000000000.0)\n",
      "  logzsol: <class 'prospect.models.priors.TopHat'>(mini=-2,maxi=0.19)\n",
      "  tage: <class 'prospect.models.priors.TopHat'>(mini=0.0001,maxi=0.3)\n",
      "\n",
      "Fixed Parameters: (name: value [, depends_on]) \n",
      "-----------\n",
      "  zred: [0.] \n",
      "  dust2: [0.] \n",
      "  sfh: [0] \n",
      "  imf_type: [2] \n",
      "  dust_type: [1] \n",
      "  lumdist: [17.1] \n",
      "\n",
      "Initial free parameter vector theta:\n",
      "  [1.e+06 0.e+00 1.e+00]\n",
      "\n",
      "Initial parameter dictionary:\n",
      "{'zred': array([0.]), 'mass': array([1000000.]), 'logzsol': array([0.]), 'dust2': array([0.]), 'sfh': array([0]), 'tage': array([1]), 'imf_type': array([2]), 'dust_type': array([1]), 'lumdist': array([17.1])}\n"
     ]
    }
   ],
   "source": [
    "model = build_model(**run_params)\n",
    "print(model)\n",
    "print(\"\\nInitial free parameter vector theta:\\n  {}\\n\".format(model.theta))\n",
    "print(\"Initial parameter dictionary:\\n{}\".format(model.params))"
   ]
  },
  {
   "cell_type": "markdown",
   "metadata": {},
   "source": [
    "## The source object: `build_sps()`\n",
    "\n",
    "We are almost there, but we need an object that will build SEDs for a given set of parameters.  In *prospector* we call these *sps* objects.  Given a dictionary of parameters (provided by the model object), they must be able to return a spectrum and photometry -- corresponding to the data in the `obs` dictionary -- and maybe some ancillary information.  The generation of spectra and photometry is often done using large spectral libraries and, for galaxies, isochrone information.  Typically in *prospector* we use `fsps.StellarPopulation` objects, under thin wrappers that add a little functionality and change the API a bit. The different wrappers correspond to different SFH parameterizations. Here we use `CSPSpecBasis` which works with (linear combinations of) composite stellar populations,  as described in the FSPS manual with `sfh_type` of 1, 4, or 5.  Other `sps` objects can be used for non-parameteric SFH, notably `prospect.sources.FastStepBasis`.\n",
    "\n",
    "Again, it can be helpful to encapsulate the loading of the sps object in a `load_sps` method, with meta-parameters controlling the how the object is instantiated"
   ]
  },
  {
   "cell_type": "code",
   "execution_count": 24,
   "metadata": {},
   "outputs": [],
   "source": [
    "def build_sps(zcontinuous=1, **extras):\n",
    "    \"\"\"\n",
    "    :param zcontinuous: \n",
    "        A vlue of 1 insures that we use interpolation between SSPs to \n",
    "        have a continuous metallicity parameter (`logzsol`)\n",
    "        See python-FSPS documentation for details\n",
    "    \"\"\"\n",
    "    from prospect.sources import CSPSpecBasis\n",
    "    sps = CSPSpecBasis(zcontinuous=zcontinuous)\n",
    "    return sps\n",
    "\n",
    "run_params[\"zcontinuous\"] = 1"
   ]
  },
  {
   "cell_type": "markdown",
   "metadata": {},
   "source": [
    "This object often has a large memory footprint, since it contains all the spectral libraries and isochrones.\n",
    "It has one very important method, `get_spectrum()`.  Indeed, the only definition of an `sps` object (for example if you want to make your own) is that it have this method.  In typical use, any FSPS parameter can be passed to this method as an extra keyword argument and the model will be built using that parameter.  Several additional parameters controlling, e.g., spectral smoothing or the wavelength calibration can also be passed to the default objects."
   ]
  },
  {
   "cell_type": "code",
   "execution_count": 25,
   "metadata": {
    "scrolled": true
   },
   "outputs": [],
   "source": [
    "sps = build_sps(**run_params)\n",
    "#help(sps.get_spectrum)"
   ]
  },
  {
   "cell_type": "markdown",
   "metadata": {},
   "source": [
    "## View the model\n",
    "Now that we have the `sps` object we can also generate a prediction for the data from any set of model parameters.  To see how this works, lets make an SED and plot it!  This will use the initial parameter values for the model we built before."
   ]
  },
  {
   "cell_type": "markdown",
   "metadata": {},
   "source": [
    "Note that creating a new model with FSPS is somewhat time-intensive (of order seconds), but once the relevant SSPs have been built they are subsequently stored in cache so similar models can be generated much more quickly (of order milliseconds, unless you are changing parameters that affect the SSPs, like the IMF)"
   ]
  },
  {
   "cell_type": "code",
   "execution_count": 26,
   "metadata": {},
   "outputs": [
    {
     "data": {
      "image/png": "[encoded data removed]",
      "text/plain": [
       "<Figure size 1152x576 with 1 Axes>"
      ]
     },
     "metadata": {
      "needs_background": "light"
     },
     "output_type": "display_data"
    }
   ],
   "source": [
    "# Generate the model SED at the initial value of theta\n",
    "theta = model.theta.copy()\n",
    "initial_spec, initial_phot, initial_mfrac = model.sed(theta, obs=obs, sps=sps)\n",
    "title_text = ','.join([\"{}={}\".format(p, model.params[p][0]) \n",
    "                       for p in model.free_params])\n",
    "\n",
    "a = 1.0 + model.params.get('zred', 0.0) # cosmological redshifting\n",
    "# photometric effective wavelengths\n",
    "wphot = obs[\"phot_wave\"]\n",
    "# spectroscopic wavelengths\n",
    "if obs[\"wavelength\"] is None:\n",
    "    # *restframe* spectral wavelengths, since obs[\"wavelength\"] is None\n",
    "    wspec = sps.wavelengths\n",
    "    wspec *= a #redshift them\n",
    "else:\n",
    "    wspec = obs[\"wavelength\"]\n",
    "\n",
    "# establish bounds\n",
    "xmin, xmax = np.min(wphot)*0.8, np.max(wphot)/0.8\n",
    "temp = np.interp(np.linspace(xmin,xmax,10000), wspec, initial_spec)\n",
    "ymin, ymax = temp.min()*0.8, temp.max()/0.4\n",
    "figure(figsize=(16,8))\n",
    "\n",
    "# plot model + data\n",
    "loglog(wspec, initial_spec, label='Model spectrum', \n",
    "       lw=0.7, color='navy', alpha=0.7)\n",
    "errorbar(wphot, initial_phot, label='Model photometry', \n",
    "         marker='s',markersize=10, alpha=0.8, ls='', lw=3,\n",
    "         markerfacecolor='none', markeredgecolor='blue', \n",
    "         markeredgewidth=3)\n",
    "errorbar(wphot, obs['maggies'], yerr=obs['maggies_unc'], \n",
    "         label='Observed photometry',\n",
    "         marker='o', markersize=10, alpha=0.8, ls='', lw=3,\n",
    "         ecolor='red', markerfacecolor='none', markeredgecolor='red', \n",
    "         markeredgewidth=3)\n",
    "title(title_text)\n",
    "\n",
    "# plot Filters\n",
    "for f in obs['filters']:\n",
    "    w, t = f.wavelength.copy(), f.transmission.copy()\n",
    "    t = t / t.max()\n",
    "    t = 10**(0.2*(np.log10(ymax/ymin)))*t * ymin\n",
    "    loglog(w, t, lw=3, color='gray', alpha=0.7)\n",
    "\n",
    "# prettify\n",
    "xlabel('Wavelength [A]')\n",
    "ylabel('Flux Density [maggies]')\n",
    "xlim([xmin, xmax])\n",
    "ylim(ymin=ymin, ymax=ymax)\n",
    "legend(loc='best', fontsize=20)\n",
    "tight_layout()"
   ]
  },
  {
   "cell_type": "markdown",
   "metadata": {},
   "source": [
    "## Likelihood function\n",
    "Now all we are missing is a likelihood function.  In most cases, this will simply be a function of the **spectral likelihood** and a **photometric likelihood** such that\n",
    "\n",
    "$$\n",
    "\\mathcal{L} = f(\\mathcal{L}_{\\textrm{spec}}, \\mathcal{L}_{\\textrm{phot}}) \\quad .\n",
    "$$\n",
    "\n",
    "Assuming our errors are Normal (i.e. Gaussian), the log-likelihoods for each component are extremely straightforward to define and can be imported directly from *prospector*.  How we choose to combine these likelihoods might vary depending on the particulars of our data. For the demo, our likelihood function for our model parameters $\\boldsymbol{\\theta}$ is just\n",
    "\n",
    "$$\n",
    "\\ln\\mathcal{L}(\\boldsymbol{\\theta}) = \\ln\\mathcal{L}_{\\textrm{spec}}(\\boldsymbol{\\theta}) + \\ln\\mathcal{L}_{\\textrm{phot}}(\\boldsymbol{\\theta}) \\quad .\n",
    "$$\n",
    "\n",
    "Below is a simple version of the likelihood function used in *prospector*.  Note that more complicated likelihoods including covariant noise and fitted noise parameters are possible, using special NoiseModel classes within *prospector*.\n",
    "\n",
    "For nested sampling `lnprobfn(theta, nested=True)` will return the likelihood (since the prior probability is accounted for by drawing proposals from the priors), while for other types of MCMC sampling `lnprobfn(theta, nested=False)` returns the posterior probability."
   ]
  },
  {
   "cell_type": "code",
   "execution_count": 27,
   "metadata": {},
   "outputs": [],
   "source": [
    "#added for debugging purposes\n",
    "\n",
    "def lnlike_phot(phot_mu, obs=None, phot_noise=None, f_outlier_phot=0.0, **vectors):\n",
    "\n",
    "    mask = obs.get('phot_mask', slice(None))\n",
    "    delta = (obs['maggies'] - phot_mu)[mask]\n",
    "    var = (obs['maggies_unc'][mask])**2\n",
    "\n",
    "    if phot_noise is not None:\n",
    "        filternames = [f.name for f in obs['filters']]\n",
    "        vectors['mask'] = mask\n",
    "        vectors['filternames'] = np.array(filternames)\n",
    "        try:\n",
    "            phot_noise.compute(**vectors)\n",
    "            if (f_outlier_phot == 0.0):\n",
    "                return phot_noise.lnlikelihood(delta)\n",
    "            # disallow (correlated noise model + mixture model)\n",
    "            # and redefine errors\n",
    "            assert phot_noise.Sigma.ndim == 1\n",
    "            var = phot_noise.Sigma\n",
    "\n",
    "        except(LinAlgError):\n",
    "            return np.nan_to_num(-np.inf)\n",
    "\n",
    "    # simple noise model\n",
    "    print(delta)\n",
    "    print(var)\n",
    "    lnp = -0.5*( (delta**2/var) + np.log(2*np.pi*var) )\n",
    "    print(lnp)\n",
    "    if (f_outlier_phot == 0.0):\n",
    "            return lnp.sum()\n",
    "            print(\"we're here!\")\n",
    "    else:\n",
    "        var_bad = var * (vectors[\"nsigma_outlier_phot\"]**2)\n",
    "        lnp_bad = -0.5*( (delta**2/var_bad) + np.log(2*np.pi*var_bad) )\n",
    "        lnp_tot = np.logaddexp(lnp + np.log(1-f_outlier_phot), lnp_bad + np.log(f_outlier_phot))\n",
    "\n",
    "        return lnp_tot.sum()\n"
   ]
  },
  {
   "cell_type": "code",
   "execution_count": 28,
   "metadata": {},
   "outputs": [],
   "source": [
    "#from prospect.likelihood import lnlike_spec, lnlike_phot, write_log\n",
    "\n",
    "verbose = False\n",
    "def lnprobfn(theta, model=None, obs=None, sps=None, \n",
    "             nested=False, verbose=verbose):\n",
    "    \"\"\"\n",
    "    Given a parameter vector, a model, a dictionary of observational \n",
    "    data, and an sps object, return the ln of the posterior. \n",
    "    \"\"\"\n",
    "\n",
    "    # Calculate prior probability and exit if not within prior\n",
    "    # Also if doing nested sampling, do not include the basic priors, \n",
    "    # since the drawing method includes the prior probability\n",
    "    lnp_prior = model.prior_product(theta, nested=nested)\n",
    "   # print(lnp_prior)\n",
    "    if not np.isfinite(lnp_prior):\n",
    "        return -np.infty\n",
    "        \n",
    "    # Generate \"mean\" model\n",
    "    spec, phot, mfrac = model.mean_model(theta, obs, sps=sps)\n",
    " \n",
    "    # Calculate likelihoods\n",
    "    lnp_spec = lnlike_spec(spec, obs=obs)\n",
    "   # print(lnp_spec)\n",
    "    #print(phot)\n",
    "    #print(obs)\n",
    "    lnp_phot = lnlike_phot(phot, obs=obs)\n",
    "   # print(lnp_phot)\n",
    "    return lnp_prior + lnp_phot + lnp_spec\n",
    "\n",
    "run_params[\"verbose\"] = verbose"
   ]
  },
  {
   "cell_type": "code",
   "execution_count": 29,
   "metadata": {},
   "outputs": [
    {
     "name": "stderr",
     "output_type": "stream",
     "text": [
      "/Users/alexgagliano/miniconda3/envs/prospector/lib/python3.8/site-packages/prospect-1.0.0-py3.8.egg/prospect/models/priors.py:104: RuntimeWarning: divide by zero encountered in log\n"
     ]
    },
    {
     "data": {
      "text/plain": [
       "-inf"
      ]
     },
     "execution_count": 29,
     "metadata": {},
     "output_type": "execute_result"
    }
   ],
   "source": [
    "theta = np.array([1.73383989e+06, -1.99999995e+00,  4.67507294e-01])\n",
    "\n",
    "lnprobfn(theta, model=model, obs=obs, sps=sps, nested=False, verbose=verbose)"
   ]
  },
  {
   "cell_type": "markdown",
   "metadata": {},
   "source": [
    "It can also be useful for some optimization methods (i.e. Levenberg-Marquardt) to define a function that returns the vector of chi-square residuals.  Let's do that."
   ]
  },
  {
   "cell_type": "code",
   "execution_count": 30,
   "metadata": {},
   "outputs": [],
   "source": [
    "from prospect.likelihood import chi_spec, chi_phot\n",
    "def chivecfn(theta):\n",
    "    \"\"\"A version of lnprobfn that returns the simple uncertainty \n",
    "    normalized residual instead of the log-posterior, for use with \n",
    "    least-squares optimization methods like Levenburg-Marquardt.\n",
    "    \n",
    "    It's important to note that the returned chi vector does not \n",
    "    include the prior probability.\n",
    "    \"\"\"\n",
    "    lnp_prior = model.prior_product(theta)\n",
    "    if not np.isfinite(lnp_prior):\n",
    "        return np.zeros(model.ndim) - np.infty\n",
    "\n",
    "    # Generate mean model\n",
    "    try:\n",
    "        spec, phot, x = model.mean_model(theta, obs, sps=sps)\n",
    "    except(ValueError):\n",
    "        return np.zeros(model.ndim) - np.infty\n",
    "\n",
    "    chispec = chi_spec(spec, obs)\n",
    "    chiphot = chi_phot(phot, obs)\n",
    "    return np.concatenate([chispec, chiphot])"
   ]
  },
  {
   "cell_type": "markdown",
   "metadata": {},
   "source": [
    "However, *prospector* comes with a pre-built `lnprobfn` that can incorporate more complex noise models, and can be either return ln-probability or chi-square or a vector of residuals depending on the algorithm being used.  So let's use that:"
   ]
  },
  {
   "cell_type": "code",
   "execution_count": 31,
   "metadata": {},
   "outputs": [],
   "source": [
    "from prospect.fitting import lnprobfn\n",
    "#help(lnprobfn)"
   ]
  },
  {
   "cell_type": "markdown",
   "metadata": {},
   "source": [
    "# Running Prospector\n",
    "Now that we have defined the model and set up the data that we want to fit, we are ready to run *prospector*.  We will do this in a few steps.  First we will run all the convenience functions we made earlier to get the fitting ingredients and set up the output.  Then we will fit the model using 1) $\\chi^2$ minimization; 2) ensemble MCMC sampler around the best location from the minimization 3) dynamic nested sampling with `dynesty`"
   ]
  },
  {
   "cell_type": "code",
   "execution_count": 32,
   "metadata": {},
   "outputs": [
    {
     "name": "stdout",
     "output_type": "stream",
     "text": [
      "(b'mist', b'miles')\n"
     ]
    }
   ],
   "source": [
    "# Here we will run all our building functions\n",
    "obs = build_obs(**run_params)\n",
    "sps = build_sps(**run_params)\n",
    "model = build_model(**run_params)\n",
    "\n",
    "# For fsps based sources it is useful to \n",
    "# know which stellar isochrone and spectral library\n",
    "# we are using\n",
    "print(sps.ssp.libraries)"
   ]
  },
  {
   "cell_type": "markdown",
   "metadata": {},
   "source": [
    "We will use, appropriately enough, the `fit_model` method (with different options) for each of the three different ways of fitting the model described above.  Let's take a look at this method. "
   ]
  },
  {
   "cell_type": "code",
   "execution_count": 33,
   "metadata": {},
   "outputs": [],
   "source": [
    "from prospect.fitting import fit_model\n",
    "#help(fit_model)"
   ]
  },
  {
   "cell_type": "markdown",
   "metadata": {},
   "source": [
    "Note in particular that the output is a dictionary with *both* optimization and sampling entries.  This is because one can do both within a single call to `fit_model`, and for ensemble sampling in particular it can be useful to do optimization first to get close to the data before beginnning the sampling."
   ]
  },
  {
   "cell_type": "markdown",
   "metadata": {},
   "source": [
    "## Minimization\n",
    "We can attempt to initialize our model reasonably close to the data by using some numerical minimization routines.\n",
    "Here we will use Levenberg-Marquardt. Keywords that control the optimization algorithm will again be stored in the `run_params` dictionary. Levenberg-Marquardt requires a likelihood function that returns a vector of chi values, not an actual likelihood, but the `lnprobfn` we imported supports that."
   ]
  },
  {
   "cell_type": "code",
   "execution_count": 34,
   "metadata": {},
   "outputs": [
    {
     "name": "stdout",
     "output_type": "stream",
     "text": [
      "Done optimization in 203.2500958442688s\n"
     ]
    }
   ],
   "source": [
    "# --- start minimization ----\n",
    "run_params[\"dynesty\"] = False\n",
    "run_params[\"emcee\"] = False\n",
    "run_params[\"optimize\"] = True\n",
    "run_params[\"min_method\"] = 'lm'\n",
    "# We'll start minimization from \"nmin\" separate places, \n",
    "# the first based on the current values of each parameter and the \n",
    "# rest drawn from the prior.  Starting from these extra draws \n",
    "# can guard against local minima, or problems caused by \n",
    "# starting at the edge of a prior (e.g. dust2=0.0)\n",
    "run_params[\"nmin\"] = 4\n",
    "\n",
    "output = fit_model(obs, model, sps, lnprobfn=lnprobfn, **run_params)\n",
    "\n",
    "print(\"Done optimization in {}s\".format(output[\"optimization\"][1]))"
   ]
  },
  {
   "cell_type": "markdown",
   "metadata": {},
   "source": [
    "### View model after minimization\n",
    "Now let's see how our model looks in the data space after minimization. The model should already be set to the result of the best optimization, but we can also find the best run and set the model parameters to that result by hand."
   ]
  },
  {
   "cell_type": "code",
   "execution_count": 35,
   "metadata": {},
   "outputs": [
    {
     "name": "stdout",
     "output_type": "stream",
     "text": [
      "[ 8.64724503e+05 -1.77829310e+00  7.07945749e-02]\n",
      "3\n",
      "Best-fit mass = 864724.50.\n",
      "Best-fit logzsol = -1.78.\n",
      "Best-fit tage = 0.07.\n"
     ]
    },
    {
     "data": {
      "image/png": "[encoded data removed]",
      "text/plain": [
       "<Figure size 1152x576 with 1 Axes>"
      ]
     },
     "metadata": {
      "needs_background": "light"
     },
     "output_type": "display_data"
    }
   ],
   "source": [
    "print(model.theta)\n",
    "(results, topt) = output[\"optimization\"]\n",
    "# Find which of the minimizations gave the best result, \n",
    "# and use the parameter vector for that minimization\n",
    "ind_best = np.argmin([r.cost for r in results])\n",
    "print(ind_best)\n",
    "theta_best = results[ind_best].x.copy()\n",
    "print(\"Best-fit mass = %.2f.\"%theta_best[0])\n",
    "print(\"Best-fit logzsol = %.2f.\"%theta_best[1])\n",
    "print(\"Best-fit tage = %.2f.\"%theta_best[2])\n",
    "#print(\"Best-fit tau = %.2f.\"%theta_best[3])\n",
    "#print(\"Best-fit fage_burst = %.2f.\"%theta_best[4])\n",
    "\n",
    "# generate model\n",
    "prediction = model.mean_model(theta_best, obs=obs, sps=sps)\n",
    "pspec, pphot, pfrac = prediction\n",
    "\n",
    "fig = figure(figsize=(16,8))\n",
    "\n",
    "# plot Data, best fit model, and old models\n",
    "loglog(wspec, initial_spec, label='Old model spectrum',\n",
    "       lw=0.7, color='gray', alpha=0.5)\n",
    "errorbar(wphot, initial_phot, label='Old model Photometry', \n",
    "         marker='s', markersize=10, alpha=0.6, ls='', lw=3, \n",
    "         markerfacecolor='none', markeredgecolor='gray', \n",
    "         markeredgewidth=3)\n",
    "loglog(wspec, pspec, label='Model spectrum', \n",
    "       lw=0.7, color='slateblue', alpha=0.7)\n",
    "errorbar(wphot, pphot, label='Model photometry', \n",
    "         marker='s', markersize=10, alpha=0.8, ls='', lw=3,\n",
    "         markerfacecolor='none', markeredgecolor='slateblue', \n",
    "         markeredgewidth=3)\n",
    "errorbar(wphot, obs['maggies'], yerr=obs['maggies_unc'],\n",
    "         label='Observed photometry', \n",
    "         marker='o', markersize=10, alpha=0.8, ls='', lw=3, \n",
    "         ecolor='tomato', markerfacecolor='none', markeredgecolor='tomato', \n",
    "         markeredgewidth=3)\n",
    "\n",
    "# plot filter transmission curves\n",
    "for f in obs['filters']:\n",
    "    w, t = f.wavelength.copy(), f.transmission.copy()\n",
    "    t = t / t.max()\n",
    "    t = 10**(0.2*(np.log10(ymax/ymin)))*t * ymin\n",
    "    loglog(w, t, lw=3, color='gray', alpha=0.7)\n",
    "\n",
    "# Prettify\n",
    "xlabel('Wavelength [A]')\n",
    "ylabel('Flux Density [maggies]')\n",
    "xlim([xmin, xmax])\n",
    "fig.gca().set_ylim(ymin=5.e-9, ymax=4.e-8)\n",
    "#ylim([ymin, y])\n",
    "legend(loc='best', fontsize=20)\n",
    "tight_layout()"
   ]
  },
  {
   "cell_type": "code",
   "execution_count": 36,
   "metadata": {},
   "outputs": [
    {
     "name": "stdout",
     "output_type": "stream",
     "text": [
      "149.39525462609953\n"
     ]
    }
   ],
   "source": [
    "print(lnprobfn(theta_best, model=model, obs=obs, sps=sps, nested=False, verbose=verbose))\n",
    "#Best-fit mass = 684624.62.\n",
    "#Best-fit logzsol = -1.39.\n",
    "#Best-fit tage = 0.45"
   ]
  },
  {
   "cell_type": "markdown",
   "metadata": {},
   "source": [
    "That should look much better, except maybe for the filters that we have masked out.  You can also run the minimization cell multiple times to see if the fit gets better."
   ]
  },
  {
   "cell_type": "markdown",
   "metadata": {},
   "source": [
    "## Sampling the Posterior: Ensemble sampling\n",
    "Now that we're somewhat burned in, we can begin sampling from the posterior using **Markov Chain Monte Carlo** (MCMC).  For this we will use the ensemble sampling agorithms in *emcee*"
   ]
  },
  {
   "cell_type": "markdown",
   "metadata": {},
   "source": [
    "The algorithm used in *emcee* requires several options to be specified, related to the number of walkers, the number of iterations, and to rounds of burn-in.  For convenience we will store these in the `run_params` meta-parameter dictionary that we've been using. Sampling will begin with a cloud of walkers initialized around the current `model.theta` value, but optionally another round of optmization can be done before sampling begins."
   ]
  },
  {
   "cell_type": "code",
   "execution_count": 37,
   "metadata": {},
   "outputs": [],
   "source": [
    "# Set this to False if you don't want to do another optimization\n",
    "# before emcee sampling (but note that the \"optimization\" entry \n",
    "# in the output dictionary will be (None, 0.) in this case)\n",
    "# If set to true then another round of optmization will be performed \n",
    "# before sampling begins and the \"optmization\" entry of the output\n",
    "# will be populated.\n",
    "run_params[\"optimize\"] = True\n",
    "run_params[\"emcee\"] = True\n",
    "run_params[\"dynesty\"] = False\n",
    "# Number of emcee walkers\n",
    "run_params[\"nwalkers\"] = 128\n",
    "# Number of iterations of the MCMC sampling\n",
    "run_params[\"niter\"] = 7500\n",
    "# Number of iterations in each round of burn-in\n",
    "# After each round, the walkers are reinitialized based on the \n",
    "# locations of the highest probablity half of the walkers.\n",
    "run_params[\"nburn\"] = [25,50,1000]\n",
    "#make nburn = [1000,] and run 128 walkers for 10K steps "
   ]
  },
  {
   "cell_type": "markdown",
   "metadata": {},
   "source": [
    "Let's go ahead and start sampling! (This should take of order 10 minutes)"
   ]
  },
  {
   "cell_type": "code",
   "execution_count": 38,
   "metadata": {},
   "outputs": [
    {
     "name": "stderr",
     "output_type": "stream",
     "text": [
      "/Users/alexgagliano/miniconda3/envs/prospector/lib/python3.8/site-packages/prospect-1.0.0-py3.8.egg/prospect/models/priors.py:104: RuntimeWarning: divide by zero encountered in log\n"
     ]
    },
    {
     "name": "stdout",
     "output_type": "stream",
     "text": [
      "done emcee in 2740.1703901290894s\n"
     ]
    }
   ],
   "source": [
    "output = fit_model(obs, model, sps, lnprobfn=lnprobfn, **run_params)\n",
    "print('done emcee in {0}s'.format(output[\"sampling\"][1]))"
   ]
  },
  {
   "cell_type": "markdown",
   "metadata": {},
   "source": [
    "### Write Output\n",
    "Now that everything's all set, let's save our results to disk.  These will be written to an hdf5 file with the given name."
   ]
  },
  {
   "cell_type": "code",
   "execution_count": 39,
   "metadata": {},
   "outputs": [
    {
     "name": "stdout",
     "output_type": "stream",
     "text": [
      "Finished\n"
     ]
    },
    {
     "name": "stderr",
     "output_type": "stream",
     "text": [
      "/Users/alexgagliano/miniconda3/envs/prospector/lib/python3.8/site-packages/prospect-1.0.0-py3.8.egg/prospect/io/write_results.py:60: RuntimeWarning: Could not store paramfile text\n",
      "/Users/alexgagliano/miniconda3/envs/prospector/lib/python3.8/site-packages/prospect-1.0.0-py3.8.egg/prospect/io/write_results.py:290: RuntimeWarning: Could not JSON serialize model_params, pickled instead\n"
     ]
    }
   ],
   "source": [
    "from prospect.io import write_results as writer\n",
    "hfile = \"2020oi_HSTpreExplosion_emcee_mcmc_VeryLongRun_RefinedGrid_newExtinction.h5\"\n",
    "writer.write_hdf5(hfile, run_params, model, obs,\n",
    "                  output[\"sampling\"][0], output[\"optimization\"][0],\n",
    "                  tsample=output[\"sampling\"][1],\n",
    "                  toptimize=output[\"optimization\"][1])\n",
    "\n",
    "print('Finished')"
   ]
  },
  {
   "cell_type": "markdown",
   "metadata": {},
   "source": [
    "## Sampling the Posterior: Nested sampling\n",
    "Instead of ensemble MCMC sampling we can sample using dynamic nested sampling via *dynesty*.  Dynamic nested sampling works by sampling from within successive iso-likelihood contours, transforming a distribution of live points from the prior to the posterior.  It does not benefit from burn-in via optimization.\n",
    "\n",
    "There are a number of parameters that control the operation of *dynesty*.  A listing and brief description of each is given in the default *prospector* arguments (see below), here we will set just a few of the most important"
   ]
  },
  {
   "cell_type": "code",
   "execution_count": 40,
   "metadata": {},
   "outputs": [],
   "source": [
    "run_params[\"dynesty\"] = True\n",
    "run_params[\"optimization\"] = True\n",
    "run_params[\"emcee\"] = False\n",
    "run_params[\"nested_method\"] = \"rwalk\"\n",
    "run_params[\"nlive_init\"] = 1000\n",
    "run_params[\"nlive_batch\"] = 500\n",
    "run_params[\"nested_dlogz_init\"] = 0.05\n",
    "run_params[\"nested_posterior_thresh\"] = 0.05\n",
    "run_params[\"nested_maxcall\"] = int(1e7)"
   ]
  },
  {
   "cell_type": "code",
   "execution_count": 41,
   "metadata": {},
   "outputs": [
    {
     "name": "stderr",
     "output_type": "stream",
     "text": [
      "iter: 4283 | batch: 9 | nc: 2 | ncall: 15737 | eff(%): 24.593 | loglstar: 160.812 < 166.059 < 165.272 | logz: 159.055 +/-  0.318 | stop:  1.088     "
     ]
    },
    {
     "name": "stdout",
     "output_type": "stream",
     "text": [
      "done dynesty in 73.54513597488403s\n"
     ]
    }
   ],
   "source": [
    "output = fit_model(obs, model, sps, lnprobfn=lnprobfn, **run_params)\n",
    "print('done dynesty in {0}s'.format(output[\"sampling\"][1]))"
   ]
  },
  {
   "cell_type": "code",
   "execution_count": 42,
   "metadata": {},
   "outputs": [
    {
     "name": "stdout",
     "output_type": "stream",
     "text": [
      "Finished\n"
     ]
    },
    {
     "name": "stderr",
     "output_type": "stream",
     "text": [
      "/Users/alexgagliano/miniconda3/envs/prospector/lib/python3.8/site-packages/prospect-1.0.0-py3.8.egg/prospect/io/write_results.py:60: RuntimeWarning: Could not store paramfile text\n",
      "/Users/alexgagliano/miniconda3/envs/prospector/lib/python3.8/site-packages/prospect-1.0.0-py3.8.egg/prospect/io/write_results.py:290: RuntimeWarning: Could not JSON serialize model_params, pickled instead\n"
     ]
    }
   ],
   "source": [
    "from prospect.io import write_results as writer\n",
    "hfile = \"2020oi_HSTpreExplosion_dynesty_mcmc_VeryLongRun_newExtinction.h5\"\n",
    "writer.write_hdf5(hfile, run_params, model, obs,\n",
    "                  output[\"sampling\"][0], output[\"optimization\"][0],\n",
    "                  tsample=output[\"sampling\"][1],\n",
    "                  toptimize=output[\"optimization\"][1])\n",
    "\n",
    "print('Finished')"
   ]
  },
  {
   "cell_type": "markdown",
   "metadata": {},
   "source": [
    "## Command-line operation\n",
    "\n",
    "The preferred way to use prospector is through command line operation.  This is difficult to demonstrate in a notebook, but essentially one would place the `build_obs`, `build_model`, and `build_sps` methods in a single **parameter file**.  Then, in the `__main__` portion of the **parameter file** the entries of the `run_params` dictionary would be set via command-line arguments (via `argparse`), the `build_*` methods would be run, and `fit_model` would be called. For an example please see `demo_params.py` and `demo_mock_params.py` in the prospector demo directory.\n",
    "\n",
    "A number of options used by the code are available in a prebuilt argument parser, which can be augmented with anything necessary for the `build_*` methods that you create.  Below is an example."
   ]
  },
  {
   "cell_type": "code",
   "execution_count": null,
   "metadata": {},
   "outputs": [],
   "source": [
    "from prospect import prospect_args\n",
    "# - Parser with default arguments -\n",
    "parser = prospect_args.get_parser()\n",
    "# - Add custom arguments -\n",
    "parser.add_argument('--add_duste', action=\"store_true\",\n",
    "                    help=\"If set, add dust emission to the model.\")\n",
    "parser.add_argument('--ldist', type=float, default=10,\n",
    "                    help=(\"Luminosity distance in Mpc. Defaults to 10\"\n",
    "                          \"(for case of absolute mags)\"))\n",
    "args, _ = parser.parse_known_args()\n",
    "cli_run_params = vars(args)\n",
    "print(cli_run_params)"
   ]
  },
  {
   "cell_type": "markdown",
   "metadata": {},
   "source": [
    "# Visualizing the Results\n",
    "There are a few basic plotting tools available to do a quick check on the results available in `prospect.io.read_results` and `prospect.utils.plotting`. But first we need to read the output files we made."
   ]
  },
  {
   "cell_type": "markdown",
   "metadata": {},
   "source": [
    "## Reading output files\n",
    "Reading our results from our HDF5 file is straightforward using the `results_from` method.  This returns a \"results\" dictionary, the `obs` dictionary of data to which the model was fit, and in some situations the `SedModel` object that was used in the fitting.\n",
    "\n",
    "In this example we will look at the *emcee* results file that we created, but you can do the same for the *dynesty* results file.  The main difference is that the chains for each fit type have a different dimensionality, and that the samples in the *dynesty* chains come with associated **weights**.  The weights and different shapes are handled automatically by the plotting functions included in *prospector*, but custom plotting code should take care of the difference.\n",
    "\n",
    "In this notebook we have already defined the `model` (and `sps`) object, but in general one will want to recreate it.  *Prospector* allows you to do this by storing the `build_model` and `build_sps` code as text in the HDF5 file -- this is possible with the use of *parameter files* and command line operation."
   ]
  },
  {
   "cell_type": "code",
   "execution_count": 43,
   "metadata": {},
   "outputs": [
    {
     "name": "stdout",
     "output_type": "stream",
     "text": [
      "dict_keys(['model_params', 'optimizer_duration', 'paramfile_text', 'prospector_version', 'run_params', 'acceptance', 'chain', 'initial_theta', 'lnprobability', 'sampling_initial_center', 'rstate', 'sampling_duration', 'theta_labels', 'bestfit', 'optimization', 'obs', 'model'])\n"
     ]
    }
   ],
   "source": [
    "import prospect.io.read_results as reader\n",
    "#results_type = \"dynesty\" # | \"emcee\"\n",
    "results_type = \"emcee\"\n",
    "\n",
    "# grab results (dictionary), the obs dictionary, and our corresponding models\n",
    "# When using parameter files set `dangerous=True`\n",
    "\n",
    "#2020oi emcee results!\n",
    "result, obs, _ = reader.results_from(\"2020oi_HSTpreExplosion_{}_mcmc_VeryLongRun_RefinedGrid_newExtinction.h5\".format(results_type), dangerous=False)\n",
    "\n",
    "#demo_dynesty_mcmc_.h5\n",
    "#The following commented lines reconstruct the model and sps object, \n",
    "# if a parameter file continaing the `build_*` methods was saved along with the results\n",
    "#model = reader.get_model(result)\n",
    "#sps = reader.get_sps(result)\n",
    "\n",
    "# let's look at what's stored in the `result` dictionary\n",
    "print(result.keys())"
   ]
  },
  {
   "cell_type": "markdown",
   "metadata": {},
   "source": [
    "## Plotting parameter traces\n",
    "To see how our MCMC samples look, we can examine a few traces (that is, the evolution of the parameter value with iteration in the MCMC chain.)  You can use these plots (and the chains more generally) to assess whether the MCMC has converged, or if you need to sample for more iterations."
   ]
  },
  {
   "cell_type": "code",
   "execution_count": null,
   "metadata": {},
   "outputs": [],
   "source": [
    "#np.sum(np.isnan(result['lnprobability']))\"\"\"Run the emcee sampler for nburn iterations, reinitializing after each\n",
    " #   round."
   ]
  },
  {
   "cell_type": "code",
   "execution_count": null,
   "metadata": {},
   "outputs": [],
   "source": [
    "import matplotlib.pyplot as plt\n",
    "#print(np.sum(np.isnan(result['chain'][0][:,0])))\n",
    "#print(np.sum(np.isnan(result['chain'][0][:,1])))\n",
    "#print(np.sum(np.isnan(result['chain'][0][:,2])))"
   ]
  },
  {
   "cell_type": "code",
   "execution_count": null,
   "metadata": {},
   "outputs": [],
   "source": [
    "plt.figure(figsize=(10,7))\n",
    "if results_type == \"emcee\":\n",
    "    chosen = np.random.choice(result[\"run_params\"][\"nwalkers\"], size=128, replace=False)\n",
    "    tracefig = reader.traceplot(result, figsize=(20,10), chains=chosen)\n",
    "else:\n",
    "    tracefig = reader.traceplot(result, figsize=(20,10))\n",
    "plt.savefig(\"Chains_EmceeResults_newExtinction.png\",dpi=200, bbox_inches='tight')"
   ]
  },
  {
   "cell_type": "code",
   "execution_count": null,
   "metadata": {},
   "outputs": [],
   "source": [
    "#RESULTS WITH DYNESTY\n",
    "#Optimization value: [ 1.73383989e+06 -1.99999995e+00  4.67507294e-01]\n",
    "#MAP value: [ 4.28474265e+05 -1.25000000e+00  2.51188643e-02]\n",
    "#Opt mass = 1.73e+06, MAP mass = 4.28e+05.\n",
    "#Opt logzsol = -2.00, MAP logzsol = -1.25.\n",
    "#Opt tage = 0.47, MAP tage = 0.03."
   ]
  },
  {
   "cell_type": "markdown",
   "metadata": {},
   "source": [
    "## Making a corner plot\n",
    "Our samples more generally can be shown using a corner/triangle plot.  The `subtriangle()` method below is a very thin wrapper on Dan Foreman-Mackey's **corner.py** code.  We'll overplot the MAP value as blue lines."
   ]
  },
  {
   "cell_type": "code",
   "execution_count": null,
   "metadata": {},
   "outputs": [],
   "source": [
    "# maximum a posteriori (of the locations visited by the MCMC sampler)\n",
    "imax = np.argmax(result['lnprobability'])\n",
    "if results_type == \"emcee\":\n",
    "    i, j = np.unravel_index(imax, result['lnprobability'].shape)\n",
    "    theta_max = result['chain'][i, j, :].copy()\n",
    "    thin = 1\n",
    "else:\n",
    "    theta_max = result[\"chain\"][imax, :]\n",
    "    thin = 1\n",
    "import seaborn as sns\n",
    "plt.figure(figsize=(10,7))\n",
    "sns.set_context(\"talk\")\n",
    "print('Optimization value: {}'.format(theta_best))\n",
    "print('MAP value: {}'.format(theta_max))\n",
    "print(\"Opt mass = %.2e, MAP mass = %.2e.\"%(theta_best[0], theta_max[0]))\n",
    "print(\"Opt logzsol = %.2f, MAP logzsol = %.2f.\"%(theta_best[1], theta_max[1]))\n",
    "print(\"Opt tage = %.2f, MAP tage = %.2f.\"%(theta_best[2], theta_max[2]))\n",
    "\n",
    "cornerfig = reader.subcorner(result, plot_datapoints=True, start=0, thin=thin, truths=[10**5.86, -1.58, 0.04], \n",
    "                             fig=subplots(3,3,figsize=(10,10))[0], fill_contours=False, plot_density=True)\n",
    "plt.savefig(\"CornerPlot_EmceeResults_newExtinction.png\",dpi=200, bbox_inches='tight')"
   ]
  },
  {
   "cell_type": "markdown",
   "metadata": {},
   "source": [
    "## Look at SEDs and residuals\n",
    "Finally, let's just take a look at a random model drawn from our chains, and at the highest posterior probability model in the chain.  In this notebook we already have the `sps` object instantiated, but in general we may have to regenerate it based on information stored in the output file using the `prospect.io.read_results.get_sps` method."
   ]
  },
  {
   "cell_type": "code",
   "execution_count": null,
   "metadata": {},
   "outputs": [],
   "source": [
    "# randomly chosen parameters from chain\n",
    "randint = np.random.randint\n",
    "if results_type == \"emcee\":\n",
    "    nwalkers, niter = run_params['nwalkers'], run_params['niter']\n",
    "    theta = result['chain'][randint(nwalkers), randint(niter)]\n",
    "else:\n",
    "    theta = result[\"chain\"][randint(len(result[\"chain\"]))]\n",
    "\n",
    "# generate models\n",
    "# sps = reader.get_sps(result)  # this works if using parameter files\n",
    "mspec, mphot, mextra = model.mean_model(theta, obs, sps=sps)\n",
    "mspec_map, mphot_map, _ = model.mean_model(theta_max, obs, sps=sps)\n",
    "\n",
    "# Make plot of data and model\n",
    "figure(figsize=(16,8))\n",
    "\n",
    "#loglog(wspec, mspec, label='Model spectrum (random draw)',\n",
    "#       lw=0.7, color='navy', alpha=0.7)\n",
    "loglog(wspec, mspec_map, label='Model spectrum (MAP)',\n",
    "       lw=0.7, color='green', alpha=0.7)\n",
    "#errorbar(wphot, mphot, label='Model photometry (random draw)',\n",
    "#         marker='s', markersize=10, alpha=0.8, ls='', lw=3, \n",
    "#         markerfacecolor='none', markeredgecolor='blue', \n",
    "#         markeredgewidth=3)\n",
    "errorbar(wphot, mphot_map, label='Model photometry (MAP)',\n",
    "         marker='s', markersize=10, alpha=0.8, ls='', lw=3, \n",
    "         markerfacecolor='none', markeredgecolor='green', \n",
    "         markeredgewidth=3)\n",
    "errorbar(wphot, obs['maggies'], yerr=obs['maggies_unc'], \n",
    "         label='Observed photometry', ecolor='red', \n",
    "         marker='o', markersize=10, ls='', lw=3, alpha=0.8, \n",
    "         markerfacecolor='none', markeredgecolor='red', \n",
    "         markeredgewidth=3)\n",
    "print(obs['maggies'])\n",
    "# plot transmission curves\n",
    "for f in obs['filters']:\n",
    "    w, t = f.wavelength.copy(), f.transmission.copy()\n",
    "    t = t / t.max()\n",
    "    t = 10**(0.2*(np.log10(ymax/ymin)))*t * ymin\n",
    "    loglog(w, t, lw=3, color='gray', alpha=0.7)\n",
    "\n",
    "xlabel('Wavelength [A]')\n",
    "ylabel('Flux Density [maggies]')\n",
    "xlim([xmin, xmax])\n",
    "ylim(ymin=ymin, ymax=6.e-8)\n",
    "legend(loc='best', fontsize=20)\n",
    "tight_layout()"
   ]
  },
  {
   "cell_type": "code",
   "execution_count": null,
   "metadata": {},
   "outputs": [],
   "source": [
    "print(lnprobfn(theta, model=model, obs=obs, sps=sps, nested=False, verbose=verbose))\n",
    "print(lnprobfn(theta_max, model=model, obs=obs, sps=sps, nested=False, verbose=verbose))\n"
   ]
  },
  {
   "cell_type": "code",
   "execution_count": null,
   "metadata": {},
   "outputs": [],
   "source": [
    "#save best-fit SED\n",
    "bestFitSED = pd.DataFrame({'wave':wspec, 'flux':mspec_map})\n",
    "bestFitSED.to_csv(\"/Users/alexgagliano/Documents/Research/2020oi/data/derived_data/prospectorEmceeMAPSED.csv\",index=False)"
   ]
  },
  {
   "cell_type": "code",
   "execution_count": null,
   "metadata": {},
   "outputs": [],
   "source": [
    "obs_mags = obs['maggies']\n",
    "obs_err = obs['maggies_unc']\n",
    "chi_term = 0\n",
    "for i in np.arange(len(wphot)):\n",
    "    model_mag = mspec_map[wspec==find_nearest(wspec, wphot[i])][0]\n",
    "    chi_term += (np.abs(model_mag - obs_mags[i])**2)/(obs_err[i]**2)\n",
    "print(\"Best-fit chisq value is %.2f.\"%chi_term)"
   ]
  },
  {
   "cell_type": "code",
   "execution_count": null,
   "metadata": {},
   "outputs": [],
   "source": [
    "logzsol = -1.1\n",
    "tage= 0.19"
   ]
  },
  {
   "cell_type": "code",
   "execution_count": null,
   "metadata": {},
   "outputs": [],
   "source": [
    "Zsol = 0.02\n",
    "metallicity = (10**-1.1)*Zsol"
   ]
  },
  {
   "cell_type": "code",
   "execution_count": null,
   "metadata": {},
   "outputs": [],
   "source": [
    "metallicity"
   ]
  },
  {
   "cell_type": "code",
   "execution_count": null,
   "metadata": {},
   "outputs": [],
   "source": [
    "np.log10(0.19*1.e9)"
   ]
  },
  {
   "cell_type": "code",
   "execution_count": null,
   "metadata": {},
   "outputs": [],
   "source": [
    "Age = 8.28\n",
    "Z = 0.0016"
   ]
  },
  {
   "cell_type": "code",
   "execution_count": null,
   "metadata": {},
   "outputs": [],
   "source": [
    "chi = 0\n",
    "for val in chivecfn(theta_max):\n",
    "    chi += np.abs(val)"
   ]
  }
 ],
 "metadata": {
  "anaconda-cloud": {},
  "celltoolbar": "Raw Cell Format",
  "kernelspec": {
   "display_name": "prospector",
   "language": "python",
   "name": "prospector"
  },
  "language_info": {
   "codemirror_mode": {
    "name": "ipython",
    "version": 3
   },
   "file_extension": ".py",
   "mimetype": "text/x-python",
   "name": "python",
   "nbconvert_exporter": "python",
   "pygments_lexer": "ipython3",
   "version": "3.8.0"
  },
  "toc": {
   "nav_menu": {
    "height": "413px",
    "width": "290px"
   },
   "number_sections": true,
   "sideBar": true,
   "skip_h1_title": false,
   "toc_cell": false,
   "toc_position": {},
   "toc_section_display": "block",
   "toc_window_display": false
  }
 },
 "nbformat": 4,
 "nbformat_minor": 4
}
