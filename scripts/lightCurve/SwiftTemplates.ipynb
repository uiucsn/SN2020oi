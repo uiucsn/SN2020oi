{
 "cells": [
  {
   "cell_type": "code",
   "execution_count": 89,
   "metadata": {},
   "outputs": [],
   "source": [
    "import glob\n",
    "import os \n",
    "import numpy as np \n",
    "import matplotlib.pyplot as plt\n",
    "import pandas as pd\n",
    "import seaborn as sns \n",
    "\n",
    "UVOT_2020oi = pd.read_csv(\"/Users/alexgagliano/Documents/Research/2020oi/data/UVOT_Reductions/temp_from_younger_cluster/2020oi_Swift_3arcsec.csv\")\n",
    "UVOT_2020oi = UVOT_2020oi[UVOT_2020oi['MJD'] > 58800]"
   ]
  },
  {
   "cell_type": "code",
   "execution_count": 90,
   "metadata": {},
   "outputs": [],
   "source": [
    "peak_times = {}\n",
    "peak_times['SN2016coi'] = '2016-06-10T00:00:00'\n",
    "peak_times['SN2013dk'] = '2013-07-03T00:00:00'\n",
    "peak_times['SN2013ge'] = '2013-11-28T00:00:00'\n",
    "peak_times['PTF12gzk'] = '2012-08-11T00:00:00'\n",
    "from astropy.time import Time\n",
    "\n",
    "for key in list(peak_times.keys()):\n",
    "    tempTime = peak_times[key]    \n",
    "    t = Time(tempTime)\n",
    "    peak_times[key] = t.jd"
   ]
  },
  {
   "cell_type": "code",
   "execution_count": 91,
   "metadata": {},
   "outputs": [],
   "source": [
    "df_list = []\n",
    "path = \"/Users/alexgagliano/Documents/Research/2020oi/data/Ic_SwiftTemplate/\"\n",
    "from os import listdir\n",
    "from os.path import isfile, join\n",
    "files = [f for f in listdir(path) if isfile(join(path, f))]\n",
    "for file in files:\n",
    "    SN = file.split(\"_\")[0]\n",
    "    if SN in list(peak_times.keys()):\n",
    "        df = pd.read_csv(path+file, delim_whitespace=True)\n",
    "        time = df['MJD[days]'].values\n",
    "        mag = df['Mag'].values\n",
    "        df['phase'] = df['MJD[days]'] - peak_times[SN]\n",
    "        df['SN'] = SN\n",
    "        df_list.append(df)\n",
    "df_Ics = pd.concat(df_list)"
   ]
  },
  {
   "cell_type": "code",
   "execution_count": 92,
   "metadata": {},
   "outputs": [
    {
     "name": "stderr",
     "output_type": "stream",
     "text": [
      "/Users/alexgagliano/miniconda3/lib/python3.7/site-packages/ipykernel_launcher.py:3: SettingWithCopyWarning: \n",
      "A value is trying to be set on a copy of a slice from a DataFrame\n",
      "\n",
      "See the caveats in the documentation: https://pandas.pydata.org/pandas-docs/stable/user_guide/indexing.html#returning-a-view-versus-a-copy\n",
      "  This is separate from the ipykernel package so we can avoid doing imports until\n",
      "/Users/alexgagliano/miniconda3/lib/python3.7/site-packages/ipykernel_launcher.py:4: SettingWithCopyWarning: \n",
      "A value is trying to be set on a copy of a slice from a DataFrame\n",
      "\n",
      "See the caveats in the documentation: https://pandas.pydata.org/pandas-docs/stable/user_guide/indexing.html#returning-a-view-versus-a-copy\n",
      "  after removing the cwd from sys.path.\n"
     ]
    }
   ],
   "source": [
    "df_UVM2 = df_Ics[df_Ics['Filter'] == 'UVM2']\n",
    "df_UVW2 = df_Ics[df_Ics['Filter'] == 'UVW2']\n",
    "df_UVW2.dropna(subset=['Mag'], inplace=True)\n",
    "df_UVM2.dropna(subset=['Mag'], inplace=True)"
   ]
  },
  {
   "cell_type": "code",
   "execution_count": 93,
   "metadata": {},
   "outputs": [],
   "source": [
    "peak = 58866.1\n",
    "UVOT_2020oi['phase'] = UVOT_2020oi['MJD'] - peak"
   ]
  },
  {
   "cell_type": "code",
   "execution_count": 94,
   "metadata": {},
   "outputs": [
    {
     "data": {
      "text/plain": [
       "Text(0.5, 1.0, 'SN Ic UVW2 Data')"
      ]
     },
     "execution_count": 94,
     "metadata": {},
     "output_type": "execute_result"
    },
    {
     "data": {
      "image/png": "[encoded data removed]",
      "text/plain": [
       "<Figure size 432x288 with 1 Axes>"
      ]
     },
     "metadata": {
      "needs_background": "light"
     },
     "output_type": "display_data"
    }
   ],
   "source": [
    "phot20oi_UVM2 = UVOT_2020oi[UVOT_2020oi[\"FLT\"] == 'UVM2']\n",
    "phot20oi_UVW2 = UVOT_2020oi[UVOT_2020oi[\"FLT\"] == 'UVW2']\n",
    "\n",
    "plt.plot(phot20oi_UVW2['phase'], phot20oi_UVW2['MAG'], '*', label='2020oi')\n",
    "sns.scatterplot(x=\"phase\", y=\"Mag\", hue=\"SN\",data=dfUVW2_Ic)\n",
    "plt.xlim((-10, 10))\n",
    "plt.gca().invert_yaxis()\n",
    "plt.xlabel(\"Phase from Peak (days)\")\n",
    "plt.title(\"SN Ic UVW2 Data\")\n",
    "#plt.savefig(\"Ic_comparison.png\", dpi=300)"
   ]
  },
  {
   "cell_type": "code",
   "execution_count": 134,
   "metadata": {},
   "outputs": [],
   "source": [
    "phot2006aj = pd.read_csv(\"../data/2006aj.csv\")"
   ]
  },
  {
   "cell_type": "code",
   "execution_count": 135,
   "metadata": {},
   "outputs": [
    {
     "data": {
      "text/html": [
       "<div>\n",
       "<style scoped>\n",
       "    .dataframe tbody tr th:only-of-type {\n",
       "        vertical-align: middle;\n",
       "    }\n",
       "\n",
       "    .dataframe tbody tr th {\n",
       "        vertical-align: top;\n",
       "    }\n",
       "\n",
       "    .dataframe thead th {\n",
       "        text-align: right;\n",
       "    }\n",
       "</style>\n",
       "<table border=\"1\" class=\"dataframe\">\n",
       "  <thead>\n",
       "    <tr style=\"text-align: right;\">\n",
       "      <th></th>\n",
       "      <th>event</th>\n",
       "      <th>time</th>\n",
       "      <th>magnitude</th>\n",
       "      <th>e_magnitude</th>\n",
       "      <th>upperlimit</th>\n",
       "      <th>band</th>\n",
       "      <th>instrument</th>\n",
       "      <th>telescope</th>\n",
       "      <th>source</th>\n",
       "    </tr>\n",
       "  </thead>\n",
       "  <tbody>\n",
       "    <tr>\n",
       "      <th>0</th>\n",
       "      <td>SN2006aj</td>\n",
       "      <td>53784.15060</td>\n",
       "      <td>16.878</td>\n",
       "      <td>NaN</td>\n",
       "      <td>T</td>\n",
       "      <td>V</td>\n",
       "      <td>UVOT</td>\n",
       "      <td>Swift</td>\n",
       "      <td>2014Ap&amp;SS.354...89B</td>\n",
       "    </tr>\n",
       "    <tr>\n",
       "      <th>1</th>\n",
       "      <td>SN2006aj</td>\n",
       "      <td>53784.15190</td>\n",
       "      <td>18.926</td>\n",
       "      <td>NaN</td>\n",
       "      <td>T</td>\n",
       "      <td>V</td>\n",
       "      <td>UVOT</td>\n",
       "      <td>Swift</td>\n",
       "      <td>2014Ap&amp;SS.354...89B</td>\n",
       "    </tr>\n",
       "    <tr>\n",
       "      <th>4</th>\n",
       "      <td>SN2006aj</td>\n",
       "      <td>53784.15620</td>\n",
       "      <td>17.692</td>\n",
       "      <td>NaN</td>\n",
       "      <td>T</td>\n",
       "      <td>V</td>\n",
       "      <td>UVOT</td>\n",
       "      <td>Swift</td>\n",
       "      <td>2014Ap&amp;SS.354...89B</td>\n",
       "    </tr>\n",
       "    <tr>\n",
       "      <th>10</th>\n",
       "      <td>SN2006aj</td>\n",
       "      <td>53784.15810</td>\n",
       "      <td>17.720</td>\n",
       "      <td>NaN</td>\n",
       "      <td>T</td>\n",
       "      <td>V</td>\n",
       "      <td>UVOT</td>\n",
       "      <td>Swift</td>\n",
       "      <td>2014Ap&amp;SS.354...89B</td>\n",
       "    </tr>\n",
       "    <tr>\n",
       "      <th>13</th>\n",
       "      <td>SN2006aj</td>\n",
       "      <td>53784.16210</td>\n",
       "      <td>18.616</td>\n",
       "      <td>0.268</td>\n",
       "      <td>F</td>\n",
       "      <td>V</td>\n",
       "      <td>UVOT</td>\n",
       "      <td>Swift</td>\n",
       "      <td>2014Ap&amp;SS.354...89B</td>\n",
       "    </tr>\n",
       "    <tr>\n",
       "      <th>...</th>\n",
       "      <td>...</td>\n",
       "      <td>...</td>\n",
       "      <td>...</td>\n",
       "      <td>...</td>\n",
       "      <td>...</td>\n",
       "      <td>...</td>\n",
       "      <td>...</td>\n",
       "      <td>...</td>\n",
       "      <td>...</td>\n",
       "    </tr>\n",
       "    <tr>\n",
       "      <th>462</th>\n",
       "      <td>SN2006aj</td>\n",
       "      <td>53816.56710</td>\n",
       "      <td>19.475</td>\n",
       "      <td>0.243</td>\n",
       "      <td>F</td>\n",
       "      <td>V</td>\n",
       "      <td>UVOT</td>\n",
       "      <td>Swift</td>\n",
       "      <td>2014Ap&amp;SS.354...89B</td>\n",
       "    </tr>\n",
       "    <tr>\n",
       "      <th>466</th>\n",
       "      <td>SN2006aj</td>\n",
       "      <td>53817.11534</td>\n",
       "      <td>19.361</td>\n",
       "      <td>0.108</td>\n",
       "      <td>F</td>\n",
       "      <td>V</td>\n",
       "      <td>NaN</td>\n",
       "      <td>CfA3_KEP</td>\n",
       "      <td>2014ApJS..213...19B</td>\n",
       "    </tr>\n",
       "    <tr>\n",
       "      <th>469</th>\n",
       "      <td>SN2006aj</td>\n",
       "      <td>53818.51640</td>\n",
       "      <td>19.302</td>\n",
       "      <td>0.260</td>\n",
       "      <td>F</td>\n",
       "      <td>V</td>\n",
       "      <td>UVOT</td>\n",
       "      <td>Swift</td>\n",
       "      <td>2014Ap&amp;SS.354...89B</td>\n",
       "    </tr>\n",
       "    <tr>\n",
       "      <th>472</th>\n",
       "      <td>SN2006aj</td>\n",
       "      <td>53820.19980</td>\n",
       "      <td>20.126</td>\n",
       "      <td>NaN</td>\n",
       "      <td>T</td>\n",
       "      <td>V</td>\n",
       "      <td>UVOT</td>\n",
       "      <td>Swift</td>\n",
       "      <td>2014Ap&amp;SS.354...89B</td>\n",
       "    </tr>\n",
       "    <tr>\n",
       "      <th>473</th>\n",
       "      <td>SN2006aj</td>\n",
       "      <td>53941.99280</td>\n",
       "      <td>19.499</td>\n",
       "      <td>NaN</td>\n",
       "      <td>T</td>\n",
       "      <td>V</td>\n",
       "      <td>UVOT</td>\n",
       "      <td>Swift</td>\n",
       "      <td>2014Ap&amp;SS.354...89B</td>\n",
       "    </tr>\n",
       "  </tbody>\n",
       "</table>\n",
       "<p>98 rows × 9 columns</p>\n",
       "</div>"
      ],
      "text/plain": [
       "        event         time  magnitude  e_magnitude upperlimit band instrument  \\\n",
       "0    SN2006aj  53784.15060     16.878          NaN          T    V       UVOT   \n",
       "1    SN2006aj  53784.15190     18.926          NaN          T    V       UVOT   \n",
       "4    SN2006aj  53784.15620     17.692          NaN          T    V       UVOT   \n",
       "10   SN2006aj  53784.15810     17.720          NaN          T    V       UVOT   \n",
       "13   SN2006aj  53784.16210     18.616        0.268          F    V       UVOT   \n",
       "..        ...          ...        ...          ...        ...  ...        ...   \n",
       "462  SN2006aj  53816.56710     19.475        0.243          F    V       UVOT   \n",
       "466  SN2006aj  53817.11534     19.361        0.108          F    V        NaN   \n",
       "469  SN2006aj  53818.51640     19.302        0.260          F    V       UVOT   \n",
       "472  SN2006aj  53820.19980     20.126          NaN          T    V       UVOT   \n",
       "473  SN2006aj  53941.99280     19.499          NaN          T    V       UVOT   \n",
       "\n",
       "    telescope               source  \n",
       "0       Swift  2014Ap&SS.354...89B  \n",
       "1       Swift  2014Ap&SS.354...89B  \n",
       "4       Swift  2014Ap&SS.354...89B  \n",
       "10      Swift  2014Ap&SS.354...89B  \n",
       "13      Swift  2014Ap&SS.354...89B  \n",
       "..        ...                  ...  \n",
       "462     Swift  2014Ap&SS.354...89B  \n",
       "466  CfA3_KEP  2014ApJS..213...19B  \n",
       "469     Swift  2014Ap&SS.354...89B  \n",
       "472     Swift  2014Ap&SS.354...89B  \n",
       "473     Swift  2014Ap&SS.354...89B  \n",
       "\n",
       "[98 rows x 9 columns]"
      ]
     },
     "execution_count": 135,
     "metadata": {},
     "output_type": "execute_result"
    }
   ],
   "source": [
    "phot2006aj[phot2006aj['band'] == 'V']"
   ]
  },
  {
   "cell_type": "code",
   "execution_count": 86,
   "metadata": {},
   "outputs": [
    {
     "name": "stderr",
     "output_type": "stream",
     "text": [
      "/Users/alexgagliano/miniconda3/lib/python3.7/site-packages/ipykernel_launcher.py:1: ParserWarning: Falling back to the 'python' engine because the 'c' engine does not support regex separators (separators > 1 char and different from '\\s+' are interpreted as regex); you can avoid this warning by specifying engine='python'.\n",
      "  \"\"\"Entry point for launching an IPython kernel.\n"
     ]
    }
   ],
   "source": [
    "data = pd.read_csv(\"../data/photometry/2020oi_data.snana.txt\", delimiter='  ')\n",
    "data = data[data['MJD'] > 58750]\n",
    "data = data[data['MAG'] > 0]"
   ]
  },
  {
   "cell_type": "code",
   "execution_count": 87,
   "metadata": {},
   "outputs": [
    {
     "data": {
      "text/plain": [
       "58869.352"
      ]
     },
     "execution_count": 87,
     "metadata": {},
     "output_type": "execute_result"
    }
   ],
   "source": [
    "np.min(data.loc[data['FLT'] == 'V', 'MJD'])"
   ]
  },
  {
   "cell_type": "code",
   "execution_count": 88,
   "metadata": {},
   "outputs": [
    {
     "ename": "NameError",
     "evalue": "name 'phot2006aj' is not defined",
     "output_type": "error",
     "traceback": [
      "\u001b[0;31m---------------------------------------------------------------------------\u001b[0m",
      "\u001b[0;31mNameError\u001b[0m                                 Traceback (most recent call last)",
      "\u001b[0;32m<ipython-input-88-d6ad97ebbb0c>\u001b[0m in \u001b[0;36m<module>\u001b[0;34m\u001b[0m\n\u001b[1;32m      1\u001b[0m \u001b[0mplt\u001b[0m\u001b[0;34m.\u001b[0m\u001b[0mplot\u001b[0m\u001b[0;34m(\u001b[0m\u001b[0mdata\u001b[0m\u001b[0;34m.\u001b[0m\u001b[0mloc\u001b[0m\u001b[0;34m[\u001b[0m\u001b[0mdata\u001b[0m\u001b[0;34m[\u001b[0m\u001b[0;34m'FLT'\u001b[0m\u001b[0;34m]\u001b[0m \u001b[0;34m==\u001b[0m \u001b[0;34m'V'\u001b[0m\u001b[0;34m,\u001b[0m \u001b[0;34m'MJD'\u001b[0m\u001b[0;34m]\u001b[0m \u001b[0;34m-\u001b[0m \u001b[0mnp\u001b[0m\u001b[0;34m.\u001b[0m\u001b[0mmin\u001b[0m\u001b[0;34m(\u001b[0m\u001b[0mdata\u001b[0m\u001b[0;34m.\u001b[0m\u001b[0mloc\u001b[0m\u001b[0;34m[\u001b[0m\u001b[0mdata\u001b[0m\u001b[0;34m[\u001b[0m\u001b[0;34m'FLT'\u001b[0m\u001b[0;34m]\u001b[0m \u001b[0;34m==\u001b[0m \u001b[0;34m'V'\u001b[0m\u001b[0;34m,\u001b[0m \u001b[0;34m'MJD'\u001b[0m\u001b[0;34m]\u001b[0m\u001b[0;34m)\u001b[0m\u001b[0;34m,\u001b[0m \u001b[0mdata\u001b[0m\u001b[0;34m.\u001b[0m\u001b[0mloc\u001b[0m\u001b[0;34m[\u001b[0m\u001b[0mdata\u001b[0m\u001b[0;34m[\u001b[0m\u001b[0;34m'FLT'\u001b[0m\u001b[0;34m]\u001b[0m \u001b[0;34m==\u001b[0m \u001b[0;34m'V'\u001b[0m\u001b[0;34m,\u001b[0m \u001b[0;34m'MAG'\u001b[0m\u001b[0;34m]\u001b[0m\u001b[0;34m,\u001b[0m \u001b[0;34m'*'\u001b[0m\u001b[0;34m,\u001b[0m \u001b[0mlabel\u001b[0m\u001b[0;34m=\u001b[0m\u001b[0;34m'2020oi'\u001b[0m\u001b[0;34m)\u001b[0m\u001b[0;34m\u001b[0m\u001b[0;34m\u001b[0m\u001b[0m\n\u001b[0;32m----> 2\u001b[0;31m \u001b[0mplt\u001b[0m\u001b[0;34m.\u001b[0m\u001b[0mplot\u001b[0m\u001b[0;34m(\u001b[0m\u001b[0mphot2006aj\u001b[0m\u001b[0;34m.\u001b[0m\u001b[0mloc\u001b[0m\u001b[0;34m[\u001b[0m\u001b[0mphot2006aj\u001b[0m\u001b[0;34m[\u001b[0m\u001b[0;34m'band'\u001b[0m\u001b[0;34m]\u001b[0m \u001b[0;34m==\u001b[0m \u001b[0;34m'V'\u001b[0m\u001b[0;34m,\u001b[0m \u001b[0;34m'time'\u001b[0m\u001b[0;34m]\u001b[0m \u001b[0;34m-\u001b[0m \u001b[0mnp\u001b[0m\u001b[0;34m.\u001b[0m\u001b[0mmin\u001b[0m\u001b[0;34m(\u001b[0m\u001b[0mphot2006aj\u001b[0m\u001b[0;34m.\u001b[0m\u001b[0mloc\u001b[0m\u001b[0;34m[\u001b[0m\u001b[0mphot2006aj\u001b[0m\u001b[0;34m[\u001b[0m\u001b[0;34m'band'\u001b[0m\u001b[0;34m]\u001b[0m \u001b[0;34m==\u001b[0m \u001b[0;34m'V'\u001b[0m\u001b[0;34m,\u001b[0m \u001b[0;34m'time'\u001b[0m\u001b[0;34m]\u001b[0m\u001b[0;34m)\u001b[0m\u001b[0;34m,\u001b[0m \u001b[0mphot2006aj\u001b[0m\u001b[0;34m.\u001b[0m\u001b[0mloc\u001b[0m\u001b[0;34m[\u001b[0m\u001b[0mphot2006aj\u001b[0m\u001b[0;34m[\u001b[0m\u001b[0;34m'band'\u001b[0m\u001b[0;34m]\u001b[0m \u001b[0;34m==\u001b[0m \u001b[0;34m'V'\u001b[0m\u001b[0;34m,\u001b[0m \u001b[0;34m'magnitude'\u001b[0m\u001b[0;34m]\u001b[0m\u001b[0;34m,\u001b[0m \u001b[0;34m'o'\u001b[0m\u001b[0;34m,\u001b[0m \u001b[0mlabel\u001b[0m\u001b[0;34m=\u001b[0m\u001b[0;34m'2006aj'\u001b[0m\u001b[0;34m)\u001b[0m\u001b[0;34m\u001b[0m\u001b[0;34m\u001b[0m\u001b[0m\n\u001b[0m\u001b[1;32m      3\u001b[0m \u001b[0mplt\u001b[0m\u001b[0;34m.\u001b[0m\u001b[0mgca\u001b[0m\u001b[0;34m(\u001b[0m\u001b[0;34m)\u001b[0m\u001b[0;34m.\u001b[0m\u001b[0minvert_yaxis\u001b[0m\u001b[0;34m(\u001b[0m\u001b[0;34m)\u001b[0m\u001b[0;34m\u001b[0m\u001b[0;34m\u001b[0m\u001b[0m\n\u001b[1;32m      4\u001b[0m \u001b[0mplt\u001b[0m\u001b[0;34m.\u001b[0m\u001b[0mxlim\u001b[0m\u001b[0;34m(\u001b[0m\u001b[0;34m(\u001b[0m\u001b[0;34m-\u001b[0m\u001b[0;36m10\u001b[0m\u001b[0;34m,\u001b[0m \u001b[0;36m60\u001b[0m\u001b[0;34m)\u001b[0m\u001b[0;34m)\u001b[0m\u001b[0;34m\u001b[0m\u001b[0;34m\u001b[0m\u001b[0m\n\u001b[1;32m      5\u001b[0m \u001b[0mplt\u001b[0m\u001b[0;34m.\u001b[0m\u001b[0mtitle\u001b[0m\u001b[0;34m(\u001b[0m\u001b[0;34m\"V-band mag\"\u001b[0m\u001b[0;34m)\u001b[0m\u001b[0;34m;\u001b[0m\u001b[0;34m\u001b[0m\u001b[0;34m\u001b[0m\u001b[0m\n",
      "\u001b[0;31mNameError\u001b[0m: name 'phot2006aj' is not defined"
     ]
    },
    {
     "data": {
      "image/png": "[encoded data removed]",
      "text/plain": [
       "<Figure size 432x288 with 1 Axes>"
      ]
     },
     "metadata": {
      "needs_background": "light"
     },
     "output_type": "display_data"
    }
   ],
   "source": [
    "plt.plot(data.loc[data['FLT'] == 'V', 'MJD'] - np.min(data.loc[data['FLT'] == 'V', 'MJD']), data.loc[data['FLT'] == 'V', 'MAG'], '*', label='2020oi')\n",
    "plt.plot(phot2006aj.loc[phot2006aj['band'] == 'V', 'time'] - np.min(phot2006aj.loc[phot2006aj['band'] == 'V', 'time']), phot2006aj.loc[phot2006aj['band'] == 'V', 'magnitude'], 'o', label='2006aj')\n",
    "plt.gca().invert_yaxis()\n",
    "plt.xlim((-10, 60))\n",
    "plt.title(\"V-band mag\");\n",
    "plt.xlabel(\"Time since explosion (days)\");\n",
    "plt.ylabel(\"Magnitude\");\n",
    "plt.legend(fontsize=16);"
   ]
  },
  {
   "cell_type": "code",
   "execution_count": 139,
   "metadata": {},
   "outputs": [
    {
     "data": {
      "text/plain": [
       "0      UVOT\n",
       "1      UVOT\n",
       "4      UVOT\n",
       "10     UVOT\n",
       "13     UVOT\n",
       "       ... \n",
       "462    UVOT\n",
       "466     NaN\n",
       "469    UVOT\n",
       "472    UVOT\n",
       "473    UVOT\n",
       "Name: instrument, Length: 98, dtype: object"
      ]
     },
     "execution_count": 139,
     "metadata": {},
     "output_type": "execute_result"
    }
   ],
   "source": [
    "phot2006aj.loc[phot2006aj['band'] == 'V', 'instrument']"
   ]
  },
  {
   "cell_type": "code",
   "execution_count": 140,
   "metadata": {},
   "outputs": [
    {
     "data": {
      "text/plain": [
       "286     Swope\n",
       "290     Swope\n",
       "295     Swope\n",
       "301     Swope\n",
       "306     Swope\n",
       "312     Swope\n",
       "316     Swope\n",
       "321     Swope\n",
       "330     Swope\n",
       "337     Swope\n",
       "342     Swope\n",
       "348     Swope\n",
       "353     Swope\n",
       "358     Swope\n",
       "368     Swope\n",
       "376     Swope\n",
       "377     Swope\n",
       "382     Swope\n",
       "387     Swope\n",
       "392     Swope\n",
       "401     Swope\n",
       "408     Swope\n",
       "413     Swope\n",
       "416     Swope\n",
       "419     Swope\n",
       "450    Nickel\n",
       "458    Nickel\n",
       "Name: TELESCOPE, dtype: object"
      ]
     },
     "execution_count": 140,
     "metadata": {},
     "output_type": "execute_result"
    }
   ],
   "source": [
    "data.loc[data['FLT'] == 'V', 'TELESCOPE']"
   ]
  },
  {
   "cell_type": "code",
   "execution_count": 141,
   "metadata": {},
   "outputs": [],
   "source": [
    "Swift2013ge = pd.read_csv(\"/Users/alexgagliano/Documents/Research/2020oi/data/2013ge_Swift.txt\")"
   ]
  },
  {
   "cell_type": "code",
   "execution_count": 142,
   "metadata": {},
   "outputs": [
    {
     "data": {
      "text/plain": [
       "<matplotlib.legend.Legend at 0x7f90e10a5690>"
      ]
     },
     "execution_count": 142,
     "metadata": {},
     "output_type": "execute_result"
    },
    {
     "data": {
      "image/png": "[encoded data removed]",
      "text/plain": [
       "<Figure size 432x288 with 1 Axes>"
      ]
     },
     "metadata": {
      "needs_background": "light"
     },
     "output_type": "display_data"
    }
   ],
   "source": [
    "#plt.plot(, , '*', label='2020oi')\n",
    "plt.errorbar(phot20oi_UVW2['phase'], phot20oi_UVW2['MAG'], yerr=phot20oi_UVW2['MAGERR'], fmt='*', label=r'2020oi')\n",
    "\n",
    "plt.plot(Swift2013ge['MJD'] - np.min(Swift2013ge['MJD']), Swift2013ge['uvw2'],'o', label='2013ge')\n",
    "plt.gca().invert_yaxis()\n",
    "plt.xlabel(\"Phase (days)\")\n",
    "plt.ylabel(\"Magnitude\")\n",
    "plt.title(\"Swift UVW2 Observations\")\n",
    "plt.legend(fontsize=14)"
   ]
  },
  {
   "cell_type": "code",
   "execution_count": 143,
   "metadata": {},
   "outputs": [
    {
     "data": {
      "text/plain": [
       "<matplotlib.legend.Legend at 0x7f90e0ecb6d0>"
      ]
     },
     "execution_count": 143,
     "metadata": {},
     "output_type": "execute_result"
    },
    {
     "data": {
      "image/png": "[encoded data removed]",
      "text/plain": [
       "<Figure size 432x288 with 1 Axes>"
      ]
     },
     "metadata": {
      "needs_background": "light"
     },
     "output_type": "display_data"
    }
   ],
   "source": [
    "plt.plot(phot20oi_UVM2['phase'], phot20oi_UVM2['MAG'], '*', label='2020oi')\n",
    "plt.plot(Swift2013ge['MJD'] - np.min(Swift2013ge['MJD']), Swift2013ge['uvm2'],'o', label='2013ge')\n",
    "plt.gca().invert_yaxis()\n",
    "plt.xlabel(\"Phase (days)\")\n",
    "plt.ylabel(\"Magnitude\")\n",
    "plt.title(\"Swift UVM2 Observations\")\n",
    "plt.legend(fontsize=14)"
   ]
  }
 ],
 "metadata": {
  "kernelspec": {
   "display_name": "Python 3",
   "language": "python",
   "name": "python3"
  },
  "language_info": {
   "codemirror_mode": {
    "name": "ipython",
    "version": 3
   },
   "file_extension": ".py",
   "mimetype": "text/x-python",
   "name": "python",
   "nbconvert_exporter": "python",
   "pygments_lexer": "ipython3",
   "version": "3.7.6"
  }
 },
 "nbformat": 4,
 "nbformat_minor": 4
}
