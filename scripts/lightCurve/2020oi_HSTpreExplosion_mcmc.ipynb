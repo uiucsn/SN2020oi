{
 "cells": [
  {
   "cell_type": "markdown",
   "metadata": {},
   "source": [
    "# SPISEA Quick Start: Making A Cluster"
   ]
  },
  {
   "cell_type": "markdown",
   "metadata": {},
   "source": [
    "This is a quick start guide to making a synthetic cluster using the SPISEA package. The cluster is constructed using a user-specified isochrone and initial mass function (IMF). Detailed documentation is provided in the ReadtheDocs page (https://pypopstar.readthedocs.io/en/latest/).\n",
    "\n",
    "Before starting this tutorial, it is assumed that SPISEA has been installed and the user's python path has been altered to include the SPISEA top-level directory"
   ]
  },
  {
   "cell_type": "code",
   "execution_count": 1,
   "metadata": {},
   "outputs": [
    {
     "name": "stderr",
     "output_type": "stream",
     "text": [
      "\n",
      "Bad key \"text.kerning_factor\" on line 4 in\n",
      "/Users/alexgagliano/miniconda3/lib/python3.7/site-packages/matplotlib/mpl-data/stylelib/_classic_test_patch.mplstyle.\n",
      "You probably need to get an updated matplotlibrc file from\n",
      "http://github.com/matplotlib/matplotlib/blob/master/matplotlibrc.template\n",
      "or from the matplotlib source distribution\n",
      "/Users/alexgagliano/miniconda3/lib/python3.7/site-packages/pysynphot/locations.py:345: UserWarning: Extinction files not found in /Users/alexgagliano/Documents/Research/2020oi/data/clusterFitting_SPISEA/models/grp/hst/cdbs/extinction\n",
      "  warnings.warn('Extinction files not found in %s' % (extdir, ))\n",
      "WARNING: leap-second auto-update failed due to the following exception: RuntimeError('Cache is locked after 5.01 s. This may indicate an astropy bug or that kill -9 was used. If you want to unlock the cache remove the directory /Users/alexgagliano/.astropy/cache/download/py3/lock. Lock claims to be held by process 48734.') [astropy.time.core]\n",
      "WARNING: Failed to load Vega spectrum from /Users/alexgagliano/Documents/Research/2020oi/data/clusterFitting_SPISEA/models/grp/hst/cdbs/calspec/alpha_lyr_stis_010.fits; Functionality involving Vega will be cripped: FileNotFoundError(2, 'No such file or directory') [stsynphot.spectrum]\n",
      "WARNING:astropy:Failed to load Vega spectrum from /Users/alexgagliano/Documents/Research/2020oi/data/clusterFitting_SPISEA/models/grp/hst/cdbs/calspec/alpha_lyr_stis_010.fits; Functionality involving Vega will be cripped: FileNotFoundError(2, 'No such file or directory')\n"
     ]
    }
   ],
   "source": [
    "# Import necessary packages. \n",
    "from spisea import synthetic, evolution, atmospheres, reddening, ifmr\n",
    "from spisea.imf import imf, multiplicity\n",
    "import numpy as np\n",
    "import pylab as py\n",
    "import os\n",
    "import glob\n",
    "import pdb\n",
    "import matplotlib.pyplot as plt\n",
    "import seaborn as sns\n",
    "%matplotlib inline\n",
    "from specutils import Spectrum1D\n",
    "import stsynphot as stsyn  \n",
    "import astropy.units as u\n",
    "from synphot import Observation\n",
    "import pysynphot as S\n",
    "global sig_int\n",
    "sig_int = 0.1"
   ]
  },
  {
   "cell_type": "code",
   "execution_count": 2,
   "metadata": {},
   "outputs": [
    {
     "data": {
      "text/plain": [
       "<pysynphot.obsbandpass.ObsModeBandpass at 0x7f856a4ff150>"
      ]
     },
     "execution_count": 2,
     "metadata": {},
     "output_type": "execute_result"
    }
   ],
   "source": [
    "S.ObsBandpass('acs,wfc2,f555w')\n",
    "#S.ObsBandpass('acs,wfc2,f439w')\n",
    "#S.ObsBandpass('acs,wfc2,f702w')\n",
    "#S.ObsBandpass('acs,wfc2,f218w')\n",
    "S.ObsBandpass('acs,hrc,f555w')\n",
    "S.ObsBandpass('acs,hrc,f814w')\n",
    "S.ObsBandpass('acs,hrc,f330w')\n",
    "#S.ObsBandpass('acs,wfc2,f380w')\n",
    "#S.ObsBandpass('acs,wfc2,f791')\n",
    "S.ObsBandpass('acs,wfc2,f775w')\n",
    "S.ObsBandpass('acs,wfc2,f475w')\n",
    "#S.ObsBandpass('acs,wfc2,f555w')\n",
    "#S.ObsBandpass('acs,wfc2,f814w')\n",
    "S.ObsBandpass('wfc3,ir,f160w')\n",
    "#S.ObsBandpass('acs,wfc2,f814w')"
   ]
  },
  {
   "cell_type": "code",
   "execution_count": 3,
   "metadata": {},
   "outputs": [],
   "source": [
    "#S.ObsBandpass('acs,wfc2,f555w')\n",
    "#S.ObsBandpass('acs,hrc,f555w')\n",
    "#S.ObsBandpass('acs,hrc,f814w')\n",
    "#S.ObsBandpass('acs,hrc,f330w')\n",
    "#S.ObsBandpass('acs,wfc2,f775w')\n",
    "#S.ObsBandpass('acs,wfc2,f475w')\n",
    "#S.ObsBandpass('wfc3,ir,f160w')"
   ]
  },
  {
   "cell_type": "code",
   "execution_count": 4,
   "metadata": {},
   "outputs": [],
   "source": [
    "import pandas as pd\n",
    "HST_20oi = pd.read_csv(\"/Users/alexgagliano/Documents/Research/2020oi/data/photometry/HST_preExplosionPhotometry_dataOnly.csv\", delim_whitespace=True)\n",
    "HST_20oi = HST_20oi.drop_duplicates(subset=['Instrument', 'Filter'])\n",
    "\n",
    "f814_hrc = HST_20oi.loc[HST_20oi['Instrument'].isin(['ACS/HRC']) & HST_20oi['Filter'].isin(['F814W']), 'Magnitude'].values[0]\n",
    "f555_hrc = HST_20oi.loc[HST_20oi['Instrument'].isin(['ACS/HRC']) & HST_20oi['Filter'].isin(['F555W']), 'Magnitude'].values[0]\n",
    "f330_hrc = HST_20oi.loc[HST_20oi['Instrument'].isin(['ACS/HRC']) & HST_20oi['Filter'].isin(['F330W']), 'Magnitude'].values[0]\n",
    "f160_ir = HST_20oi.loc[HST_20oi['Instrument'].isin(['WFC3/IR']) & HST_20oi['Filter'].isin(['F160W']), 'Magnitude'].values[0]\n",
    "f555_wfc2 = HST_20oi.loc[HST_20oi['Instrument'].isin(['WFC3/UVIS']) & HST_20oi['Filter'].isin(['F555W']), 'Magnitude'].values[0]\n",
    "f775_wfc2 = HST_20oi.loc[HST_20oi['Instrument'].isin(['WFC3/UVIS']) & HST_20oi['Filter'].isin(['F775W']), 'Magnitude'].values[0]\n",
    "f475_wfc2 = HST_20oi.loc[HST_20oi['Instrument'].isin(['WFC3/UVIS']) & HST_20oi['Filter'].isin(['F475W']), 'Magnitude'].values[0]\n",
    "\n",
    "f814_hrc_err = HST_20oi.loc[HST_20oi['Instrument'].isin(['ACS/HRC']) & HST_20oi['Filter'].isin(['F814W']), 'Uncertainty'].values[0]\n",
    "f555_hrc_err = HST_20oi.loc[HST_20oi['Instrument'].isin(['ACS/HRC']) & HST_20oi['Filter'].isin(['F555W']), 'Uncertainty'].values[0]\n",
    "f330_hrc_err = HST_20oi.loc[HST_20oi['Instrument'].isin(['ACS/HRC']) & HST_20oi['Filter'].isin(['F330W']), 'Uncertainty'].values[0]\n",
    "f160_ir_err = HST_20oi.loc[HST_20oi['Instrument'].isin(['WFC3/IR']) & HST_20oi['Filter'].isin(['F160W']), 'Uncertainty'].values[0]\n",
    "f555_wfc2_err = HST_20oi.loc[HST_20oi['Instrument'].isin(['WFC3/UVIS']) & HST_20oi['Filter'].isin(['F555W']), 'Uncertainty'].values[0]\n",
    "f775_wfc2_err = HST_20oi.loc[HST_20oi['Instrument'].isin(['WFC3/UVIS']) & HST_20oi['Filter'].isin(['F775W']), 'Uncertainty'].values[0]\n",
    "f475_wfc2_err = HST_20oi.loc[HST_20oi['Instrument'].isin(['WFC3/UVIS']) & HST_20oi['Filter'].isin(['F475W']), 'Uncertainty'].values[0]"
   ]
  },
  {
   "cell_type": "markdown",
   "metadata": {},
   "source": [
    "#### Step 1: Make a SPISEA isochrone object"
   ]
  },
  {
   "cell_type": "markdown",
   "metadata": {},
   "source": [
    "The cluster is made from a theoretical isochrone at a given age, extinction, and distance from Earth. These parameters MUST be specified by the user. Other inputs (e.g. stellar evolution/atmosphere models, extinction law, and photometric filters used) are optional keywords. See documentation for all keywords and their default values.\n",
    "\n",
    "Important Note: The IsochronePhot class saves its output as a FITS table, which it will read on subsequent calls for the same isochrone rather than regenerating it from scratch. We highly recommend reading the \"Tips and Tricks: The IsochronePhot Object\" section of the Isochrone object documentation for details on how this process works.\n",
    "\n",
    "Here, we create a 100 Myr cluster isochrone at an extinction of E(B-V)=0.174 and distance of 10^7 pc from Earth (the distance to M100). "
   ]
  },
  {
   "cell_type": "code",
   "execution_count": 5,
   "metadata": {},
   "outputs": [],
   "source": [
    "age_init = 7. #age in log10(years)\n",
    "mass_init = 4. #mass in log10(Msol)\n",
    "Z_init = 0\n",
    "theta_init = [age_init, mass_init, Z_init]\n",
    "\n",
    "# the log-likelihood for all galaxies simultaneously\n",
    "def neg_log_likelihood(theta, obs, obs_sig):    \n",
    "    chisq = np.zeros(len(obs_sig))\n",
    "    for i in np.arange(len(chisq)):\n",
    "        chisq += (fit(theta)[i] - obs[i])**2/(obs_sig[i]**2+sig_int**2)\n",
    "    return 0.5*np.sum(chisq)\n",
    "\n",
    "# only if the prior makes sense for all vals simultaneously do we \n",
    "# accept it\n",
    "def log_prior(theta):\n",
    "    #prior = [0., 0., 0.]\n",
    "    age = theta[0]\n",
    "    mass = theta[1]  \n",
    "    metallicity = theta[2]\n",
    "    logprior_age = logprior_mass = logprior_metallicity = -np.inf\n",
    "    \n",
    "    if (6<=age<=10) and (2.5<=mass<=6.5) and (-0.5<metallicity<0.5):\n",
    "        logprior_age=logprior_mass=logprior_metallicity = 0\n",
    "    prior = logprior_age + logprior_mass + logprior_metallicity\n",
    "    return np.sum(prior)\n",
    "\n",
    "# the posterior is the combination of the prior and the likelihood\n",
    "def log_posterior(theta, obs, obs_sig):\n",
    "    return log_prior(theta)+neg_log_likelihood(theta, obs, obs_sig)"
   ]
  },
  {
   "cell_type": "code",
   "execution_count": 6,
   "metadata": {},
   "outputs": [],
   "source": [
    "def fit(theta):\n",
    "    fileList = glob.glob('./iso_*.fits', recursive=True)\n",
    "    for file in fileList:\n",
    "        os.remove(file)\n",
    "    logAge = theta[0]\n",
    "    mass = theta[1]\n",
    "    # Define isochrone parameters\n",
    "    EBV = 0.174\n",
    "    AV = 3.2*EBV\n",
    "    dist = 1.71e7 #distance to M100 in parsec\n",
    "    #metallicity = -0.096 #(Metallicity in [M/H] (this should be 80% solar metallicity)\n",
    "    metallicity = theta[2] #(Metallicity in [M/H] (this should be 80% solar metallicity)\n",
    "    evo_model = evolution.MISTv1() \n",
    "    atm_func = atmospheres.get_merged_atmosphere\n",
    "    red_law = reddening.RedLawHosek18b()\n",
    "    #filt_list = ['wfc3,ir,f160w', 'acs,wfc1,f814w']\n",
    "\n",
    "    # Make Isochrone object. Note that is calculation will take a few minutes, unless the \n",
    "    # isochrone has been generated previously.\n",
    "    my_iso = synthetic.IsochronePhot(logAge, AV, dist, metallicity=metallicity,\n",
    "                                evo_model=evo_model, atm_func=atm_func,\n",
    "                                red_law=red_law, filters=[]) #remove the filter list for now\n",
    "\n",
    "        # Make multiplicity object\n",
    "    imf_multi = multiplicity.MultiplicityUnresolved()\n",
    "\n",
    "    # Make IMF object; we'll use a broken power law with the parameters from Kroupa+01.\n",
    "\n",
    "    # NOTE: when defining the power law slope for each segment of the IMF, we define\n",
    "    # the entire exponent, including the negative sign. For example, if dN/dm $\\propto$ m^-alpha,\n",
    "    # then you would use the value \"-2.3\" to specify an IMF with alpha = 2.3. \n",
    "    #\n",
    "    # Here we define a Kroupa IMF using the Multiplicity properties defined in Lu+13. \n",
    "    #\n",
    "    massLimits = np.array([0.2, 0.5, 1, 120]) # Define boundaries of each mass segement\n",
    "    powers = np.array([-1.3, -2.3, -2.3]) # Power law slope associated with each mass segment\n",
    "    my_imf = imf.IMF_broken_powerlaw(massLimits, powers, imf_multi)\n",
    "    mass = 10**mass #range from 10**2.5 to 10**6.5 \n",
    "    cluster = synthetic.UnresolvedCluster(my_iso, my_imf, mass, wave_range=[1000, 52000],verbose=True)\n",
    "    spec = S.ArraySpectrum(cluster.wave_trim, cluster.spec_trim)\n",
    "    #sns.set_context(\"talk\")\n",
    "    #plt.plot(cluster.wave_trim, cluster.spec_trim)\n",
    "    #plt.xlabel(\"Wave (AA)\")\n",
    "    #plt.ylabel(r\"$F_{\\lambda}$\")\n",
    "    #plt.yscale(\"log\")\n",
    "\n",
    "    obs814_hrc =S.Observation(spec,S.ObsBandpass('acs,hrc,f814w')).effstim('abmag')\n",
    "    obs555_hrc =S.Observation(spec,S.ObsBandpass('acs,hrc,f555w')).effstim('abmag')\n",
    "    obs330_hrc =S.Observation(spec,S.ObsBandpass('acs,hrc,f330w'),  force='extrap').effstim('abmag')    \n",
    "    obs160_ir = S.Observation(spec,S.ObsBandpass('wfc3,ir,f160w')).effstim('abmag')\n",
    "    obs555_wfc2 = S.Observation(spec,S.ObsBandpass('acs,wfc2,f555w')).effstim('abmag')\n",
    "    obs775_wfc2 = S.Observation(spec,S.ObsBandpass('acs,wfc2,f775w')).effstim('abmag')\n",
    "    obs475_wfc2 = S.Observation(spec,S.ObsBandpass('acs,wfc2,f475w')).effstim('abmag')\n",
    "\n",
    "    return np.array([obs814_hrc, obs555_hrc, obs330_hrc, obs160_ir, obs555_wfc2, obs775_wfc2, obs475_wfc2])"
   ]
  },
  {
   "cell_type": "code",
   "execution_count": null,
   "metadata": {},
   "outputs": [
    {
     "name": "stderr",
     "output_type": "stream",
     "text": [
      "  2%|▏         | 2/100 [21:58:56<1156:43:57, 42492.22s/it]"
     ]
    }
   ],
   "source": [
    "import emcee\n",
    "N = 100\n",
    "pos = theta_init + 1.e-1*np.random.randn(N, 3)\n",
    "obs_sig = np.array([f814_hrc_err, f555_hrc_err, f330_hrc_err, f160_ir_err, f555_wfc2_err, f775_wfc2_err, f475_wfc2_err])\n",
    "obs = np.array([f814_hrc, f555_hrc, f330_hrc, f160_ir, f555_wfc2, f775_wfc2, f475_wfc2])\n",
    "\n",
    "nwalkers, ndim = pos.shape\n",
    "sampler = emcee.EnsembleSampler(nwalkers, ndim, log_posterior, args=(obs, obs_sig))\n",
    "sampler.run_mcmc(pos, N, progress=True);"
   ]
  },
  {
   "cell_type": "code",
   "execution_count": null,
   "metadata": {},
   "outputs": [],
   "source": [
    "fig, axes = plt.subplots(2, figsize=(10, 7), sharex=True)\n",
    "samples = sampler.get_chain()\n",
    "\n",
    "labels = [r\"Age\", \"Mass\"]\n",
    "for i in range(2):\n",
    "    ax = axes[i]\n",
    "    ax.plot(samples[:, :, i], \"k\", alpha=0.3)\n",
    "    ax.set_xlim(0, len(samples))\n",
    "    ax.set_ylabel(labels[i])\n",
    "    ax.yaxis.set_label_coords(-0.1, 0.5)\n",
    "axes[-1].set_xlabel(\"step number\");"
   ]
  },
  {
   "cell_type": "code",
   "execution_count": null,
   "metadata": {},
   "outputs": [],
   "source": [
    "# show the full corner plot \n",
    "import corner\n",
    "samples_postBurnIn = samples[5:,:,:]\n",
    "samples_post = samples_postBurnIn.reshape((-1, 2))\n",
    "fig = corner.corner(samples_post, labels=labels,smooth=True);\n"
   ]
  },
  {
   "cell_type": "markdown",
   "metadata": {},
   "source": [
    "Once calculated, the isochrone will be written as a fits file to a location set by the \"iso_dir\" keyword (not shown here; default location is current working directory). In the future, the IsochronePhot function will read this file directly rather than recalculating the isochrone again. \n",
    "\n",
    "The file name will be the following: \"iso_logAge_AKs_distance_metallicity.fits, using the specified values"
   ]
  },
  {
   "cell_type": "markdown",
   "metadata": {},
   "source": [
    "### Step 3: Make the Cluster  \n",
    "#### Option 1: No compact objects\n",
    "To create the cluster, the user passes in an isochrone object, and imf object, and specifies the total cluster mass. Here we will make a 10^4 M_sun cluster using the isochrone and imf we have defined.\n",
    "\n",
    "The individual star systems in the cluster and their properties are stored in an astropy table accessed by the star_systems subfunction on the cluster object. Note that the photometry of these star systems includes the contributions from all companions, which are generated probabilistically using the multiplicity defined in the IMF object."
   ]
  },
  {
   "cell_type": "code",
   "execution_count": null,
   "metadata": {},
   "outputs": [],
   "source": [
    "import seaborn as sns\n",
    "sns.set_context(\"talk\")\n",
    "plt.plot(cluster.wave_trim, cluster.spec_trim)\n",
    "plt.xlabel(\"Wave (AA)\")\n",
    "plt.ylabel(r\"$F_{\\lambda}$\")\n",
    "plt.yscale(\"log\")"
   ]
  },
  {
   "cell_type": "code",
   "execution_count": null,
   "metadata": {},
   "outputs": [],
   "source": [
    "\n",
    "#sp = Spectrum1D(spectral_axis=S.Vega.wave, flux=S.Vega.flux)\n",
    "test = S.ArraySpectrum(cluster.wave_trim, cluster.spec_trim)\n",
    "obs160 = S.Observation(test,S.ObsBandpass('wfc3,ir,f160w'))\n",
    "#obs160.effstim('stmag')\n",
    "obs814 = S.Observation(test,S.ObsBandpass('acs,wfc1,f814w'))\n",
    "#obs814.effstim('stmag')"
   ]
  },
  {
   "cell_type": "code",
   "execution_count": null,
   "metadata": {
    "scrolled": true
   },
   "outputs": [],
   "source": [
    "# Look at the cluster CMD, compared to input isochrone. Note the impact of\n",
    "# multiple systems on the photometry\n",
    "#clust = cluster.star_systems\n",
    "#iso = my_iso.points\n",
    "#plt.plot(obs160.effstim('stmag'),obs814.effstim('stmag'), '*', label='simulated')\n",
    "plt.plot(obs160.effstim('abmag'),obs814.effstim('abmag'), '*', label='simulated')\n",
    "py.errorbar(F160_20oi, F814_20oi, yerr=F814err_20oi, xerr=F160err_20oi, fmt='o', label='obs')\n",
    "#py.plot(HST_20oi.loc[HST_20oi['Filter'] == 'F814W', 'Limit'].values[0] - HST_20oi.loc[HST_20oi['Filter'] == 'F160W', 'Limit'].values[0], HST_20oi.loc[HST_20oi['Filter'] == 'F814W', 'Limit'].values[0], 'o', label='obs')\n",
    "py.xlabel('F160M')\n",
    "py.ylabel('F814W')\n",
    "py.gca().invert_yaxis()\n",
    "py.legend();"
   ]
  },
  {
   "cell_type": "code",
   "execution_count": null,
   "metadata": {},
   "outputs": [],
   "source": [
    "HST_20oi['Limit']"
   ]
  }
 ],
 "metadata": {
  "kernelspec": {
   "display_name": "Python 3",
   "language": "python",
   "name": "python3"
  },
  "language_info": {
   "codemirror_mode": {
    "name": "ipython",
    "version": 3
   },
   "file_extension": ".py",
   "mimetype": "text/x-python",
   "name": "python",
   "nbconvert_exporter": "python",
   "pygments_lexer": "ipython3",
   "version": "3.7.6"
  }
 },
 "nbformat": 4,
 "nbformat_minor": 4
}
