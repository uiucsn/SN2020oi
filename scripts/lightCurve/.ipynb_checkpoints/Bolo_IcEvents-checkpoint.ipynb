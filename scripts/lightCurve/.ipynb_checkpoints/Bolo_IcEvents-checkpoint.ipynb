{
 "cells": [
  {
   "cell_type": "code",
   "execution_count": 2,
   "metadata": {},
   "outputs": [],
   "source": [
    "import glob\n",
    "import os \n",
    "import numpy as np \n",
    "import matplotlib.pyplot as plt\n",
    "import pandas as pd\n",
    "import seaborn as sns "
   ]
  },
  {
   "cell_type": "code",
   "execution_count": 3,
   "metadata": {},
   "outputs": [],
   "source": [
    "from astropy.io import fits\n",
    "t0 = 58854.2\n",
    "\n",
    "os.chdir(\"/Users/alexgagliano/Documents/Research/2020oi/data/reference_data/bolo_stripped/SNe_Bolo_fromLyman/\")\n",
    "data_arr = []\n",
    "\n",
    "for file in glob.glob(\"*_thesis_table\"):\n",
    "    data = pd.read_csv(file, delim_whitespace=True, names=['MJD', 'epoch', 'Mbol', 'minMbolErr', 'plusMbolErr', 'log10(Lbol)', 'minLbolErr', 'plusLbolErr'])\n",
    "    #find peak brightness\n",
    "   # data.loc[data[5] == np.nanmax(data[5]), 0]\n",
    "    data['SN'] = file.strip(\"_thesis_table\")\n",
    "    #data['ph'] = data[0] - np.nanmin(data[0])\n",
    "    data_arr.append(data)\n",
    "\n",
    "#Lbol = pd.read_csv(\"/Users/alexgagliano/Documents/Research/2020oi/scripts/superbol/superbol_output_2020oi/logL_bb_2020oi_AUBgVriz.txt\")\n",
    "#add the new lbol, with SBO\n",
    "Lbol = pd.read_csv(\"/Users/alexgagliano/Documents/Research/2020oi/scripts/superbol/SBO_input/superbol_output_2020oi/logL_bb_2020oi_AUBgVriz.txt\", delimiter='\\t', header=None, names=['MJD', 'logL', 'logLerr'])\n",
    "\n",
    "peak = 58865\n",
    "diff = peak - t0\n",
    "Lbol['ph'] = Lbol['MJD'] - peak\n",
    "#Lbol_prev['ph'] = Lbol_prev['MJD']"
   ]
  },
  {
   "cell_type": "code",
   "execution_count": 4,
   "metadata": {},
   "outputs": [],
   "source": [
    "Lbol = Lbol[Lbol['MJD'] != 58856.0] #remove the first point\n",
    "Lbol = Lbol[Lbol['MJD'] != 58856.127] #remove the second point\n",
    "Lbol = Lbol[Lbol['MJD'] != 58856.253] #remove the third point\n",
    "Lbol.loc[Lbol['MJD'] == 58856.38, 'logL'] = 41.6  #floor the second point"
   ]
  },
  {
   "cell_type": "code",
   "execution_count": 5,
   "metadata": {},
   "outputs": [],
   "source": [
    "def t0_to_mjd(x):\n",
    "    return x + t0\n",
    "\n",
    "def mjd_to_t0(x):\n",
    "    return x - t0"
   ]
  },
  {
   "cell_type": "code",
   "execution_count": 6,
   "metadata": {},
   "outputs": [],
   "source": [
    "fullData = pd.concat(data_arr, ignore_index=True)"
   ]
  },
  {
   "cell_type": "code",
   "execution_count": 7,
   "metadata": {},
   "outputs": [
    {
     "data": {
      "text/plain": [
       "10.80000000000291"
      ]
     },
     "execution_count": 7,
     "metadata": {},
     "output_type": "execute_result"
    }
   ],
   "source": [
    "58865 - t0"
   ]
  },
  {
   "cell_type": "code",
   "execution_count": 8,
   "metadata": {},
   "outputs": [],
   "source": [
    "MNi = {'1993J':0.06,\n",
    "'1994I':0.07,#\n",
    "'1996cb':0.034,#prentice\n",
    "'1998bw':0.20,#\n",
    "'1999dn':0.052,#prentice\n",
    "'1999ex':0.106,#prentice\n",
    "'2002ap':0.06,#prentice\n",
    "'2003bg':0.076,#prentice\n",
    "'2003jd':0.219,#prentice\n",
    "'2004aw':0.22,# Caro\n",
    "'2004dk':0.23,#Caro\n",
    "'2004dn':0.15,#Caros\n",
    "'2004fe':0.057,#upper lim, prentice\n",
    "'2004ff':0.05,\n",
    "'2004gq':0.14,#caro\n",
    "'2005az':0.09,#\n",
    "'2005bf':0.073,#\n",
    "'2005hg':0.07,\n",
    "'2005kz':0.45,#\n",
    "'2005mf':0.04,\n",
    "'2006T':0.06,\n",
    "'2006aj':0.12,\n",
    "'2006el':0.13,#Lyman\n",
    "'2006ep':0.03,#\n",
    "'2007C':0.04,#\n",
    "'2007Y':0.02,#\n",
    "'2007gr':0.04,\n",
    "'2007ru':0.194,#prentice\n",
    "'2007uy':0.14,\n",
    "'2008D':0.05,#\n",
    "'2008ax':0.02,\n",
    "'2009bb':0.12,\n",
    "'2009jf':0.12,\n",
    "'2010bh':0.09,\n",
    "'2011bm':0.65,#\n",
    "'2011dh':0.03,\n",
    "'2011hs':0.02,\n",
    "'iPTF13bvn':0.06} #Lyman\n",
    "\n",
    "Type = {'1993J':'IIb',\n",
    "'1994I':'Ic',#\n",
    "'1996cb':'IIb',#\n",
    "'1998bw':'Ic-GRB',#\n",
    "'1999dn':'Ib',#\n",
    "'1999ex':'Ic',#\n",
    "'2002ap':'Ic',#\n",
    "'2003bg':'IIb',#\n",
    "'2003jd':'Ic-BL',#\n",
    "'2004aw':'Ic',#\n",
    "'2004dk':'Ib',#\n",
    "'2004dn':'Ic',#\n",
    "'2004fe':'Ic',#\n",
    "'2004ff':'IIb',\n",
    "'2004gq':'Ib',#\n",
    "'2005az':'Ic',#\n",
    "'2005bf':'Ib',#\n",
    "'2005hg':'Ib',\n",
    "'2005kz':'Ic',#\n",
    "'2005mf':'Ic',\n",
    "'2006T':'IIb',\n",
    "'2006aj':'Ic-GRB',\n",
    "'2006el':'IIb',#\n",
    "'2006ep':'Ib',#\n",
    "'2007C':'Ib',\n",
    "'2007Y':'Ib',#\n",
    "'2007gr':'Ic',\n",
    "'2007ru':'Ic-BL',#\n",
    "'2007uy':'Ib',\n",
    "'2008D':'Ib',#\n",
    "'2008ax':'IIb',\n",
    "'2009bb':'Ic-BL',\n",
    "'2009jf':'Ib',\n",
    "'2010bh':'Ic-GRB',\n",
    "'2011bm':'Ic',#\n",
    "'2011dh':'IIb',\n",
    "'2011hs':'IIb',\n",
    "'iPTF13bvn':'Ib'}\n",
    "\n",
    "#where 1 is K&K and 2 is Arnett, and 3 is match to stellar models\n",
    "Method_MNi = {'1993J':1,\n",
    "'1994I':3,##\n",
    "'1996cb':2,#\n",
    "'1998bw':3,#\n",
    "'1999dn':2,#\n",
    "'1999ex':2,#\n",
    "'2002ap':2,#\n",
    "'2003bg':2,#\n",
    "'2003jd':2,#\n",
    "'2004aw':2,#\n",
    "'2004dk':2,#\n",
    "'2004dn':2,#\n",
    "'2004fe':2,#\n",
    "'2004ff':1,\n",
    "'2004gq':2,#\n",
    "'2005az':2,#\n",
    "'2005bf':2,#\n",
    "'2005hg':1,\n",
    "'2005kz':2,#\n",
    "'2005mf':1,\n",
    "'2006T':1,\n",
    "'2006aj':1,\n",
    "'2006el':2,#\n",
    "'2006ep':1,#\n",
    "'2007C':1,\n",
    "'2007Y':1,#\n",
    "'2007gr':1,\n",
    "'2007ru':2,#\n",
    "'2007uy':1,\n",
    "'2008D':1,#\n",
    "'2008ax':1,\n",
    "'2009bb':1,\n",
    "'2009jf':1,\n",
    "'2010bh':1,\n",
    "'2011bm':2,#\n",
    "'2011dh':1,\n",
    "'2011hs':1,\n",
    "'iPTF13bvn':2}"
   ]
  },
  {
   "cell_type": "code",
   "execution_count": 9,
   "metadata": {},
   "outputs": [],
   "source": [
    "#Lsol = 3.83e33 # erg/s\n",
    "#Msol = 4.77\n",
    "\n",
    "#Lstar = 10**(SN1994I_bolo + SN1994I_plusErr)\n",
    "\n",
    "#Mstar = Msol - 2.5*np.log10(Lstar/Lsol)\n",
    "#Mstar_new = Mstar- 3.1*(0.16)\n",
    "\n",
    "#Lstar_new = Lsol * 10**((Msol-Mstar_new)/2.5)"
   ]
  },
  {
   "cell_type": "code",
   "execution_count": 10,
   "metadata": {},
   "outputs": [],
   "source": [
    "#add in the data from Taddia+2018\n",
    "taddia_files = glob.glob(\"/Users/alexgagliano/Documents/Research/2020oi/data/reference_data/BOLOtxt_kcorr_newext/*\")\n",
    "taddia_LCs = []\n",
    "for file in taddia_files:\n",
    "    taddia_LCs.append(pd.read_csv(file, header=None, names=['phase', 'Lbol'], delim_whitespace=True))"
   ]
  },
  {
   "cell_type": "code",
   "execution_count": 11,
   "metadata": {},
   "outputs": [
    {
     "name": "stdout",
     "output_type": "stream",
     "text": [
      "0\n",
      "1\n",
      "2\n",
      "3\n",
      "4\n",
      "5\n",
      "6\n",
      "7\n",
      "8\n",
      "9\n",
      "10\n",
      "11\n",
      "13\n",
      "14\n",
      "16\n",
      "17\n",
      "18\n",
      "20\n",
      "21\n",
      "22\n",
      "24\n",
      "25\n",
      "26\n",
      "27\n",
      "29\n",
      "30\n",
      "31\n"
     ]
    }
   ],
   "source": [
    "for i in np.arange(len(taddia_LCs)):\n",
    "    LC = taddia_LCs[i]\n",
    "    if np.sum(np.log10(LC['Lbol'].values)>43) ==0:\n",
    "        print(i)\n",
    "        #print(LC)"
   ]
  },
  {
   "cell_type": "code",
   "execution_count": 12,
   "metadata": {},
   "outputs": [
    {
     "data": {
      "image/png": "[encoded data removed]",
      "text/plain": [
       "<Figure size 720x504 with 1 Axes>"
      ]
     },
     "metadata": {
      "needs_background": "light"
     },
     "output_type": "display_data"
    }
   ],
   "source": [
    "plt.figure(figsize=(10,7))\n",
    "sns.lineplot(x=Lbol['MJD']-t0, y=Lbol['logL'], lw=3, alpha=0.8,color=sns.color_palette(\"colorblind\", 10)[0], ls='-', label=r'2020oi')\n",
    "plt.fill_between(Lbol['MJD']-t0, Lbol['logL']-Lbol['logLerr']/4.,Lbol['logL']+Lbol['logLerr']/4., color=sns.color_palette(\"colorblind\", 10)[0], alpha=0.2)\n",
    "#shifts = [10, 10, 11, 1, 6.5, 10, -5, 8, 5, 9, 0.5, 0, 2, 7, 0, 1, 1, 15, 0, 8.5, 8.5, 14, 14, 8, 6.8, 6.8, 0, 2, -5, 0, 0,9, 0, 0,0, 0, 0,0, 0, 0]\n",
    "for i in [17]:\n",
    "    name = taddia_files[i].split(\"/\")[-1].split(\"_\")[1]\n",
    "    LC = taddia_LCs[i]\n",
    "    if np.sum(np.log10(LC['Lbol'].values)>50) ==0:\n",
    "        plt.plot(LC['phase'], np.log10(LC['Lbol'].values), 'o-', ms=5, label=name)\n",
    "        plt.plot(LC['phase']-15, np.log10(LC['Lbol'].values), 'o-', ms=5, label=name)\n",
    "    #m+=1 \n",
    "    break"
   ]
  },
  {
   "cell_type": "code",
   "execution_count": 13,
   "metadata": {},
   "outputs": [
    {
     "data": {
      "text/plain": [
       "'/Users/alexgagliano/Documents/Research/2020oi/data/reference_data/BOLOtxt_kcorr_newext/Bolo_SN2004gq_FITZ.txt'"
      ]
     },
     "execution_count": 13,
     "metadata": {},
     "output_type": "execute_result"
    }
   ],
   "source": [
    "taddia_files[16]"
   ]
  },
  {
   "cell_type": "code",
   "execution_count": null,
   "metadata": {},
   "outputs": [
    {
     "name": "stderr",
     "output_type": "stream",
     "text": [
      "/Users/alexgagliano/miniconda3/lib/python3.7/site-packages/ipykernel_launcher.py:97: RuntimeWarning: All-NaN axis encountered\n",
      "/Users/alexgagliano/miniconda3/lib/python3.7/site-packages/ipykernel_launcher.py:97: RuntimeWarning: All-NaN axis encountered\n",
      "/Users/alexgagliano/miniconda3/lib/python3.7/site-packages/ipykernel_launcher.py:97: RuntimeWarning: All-NaN axis encountered\n"
     ]
    }
   ],
   "source": [
    "#files corrupted were SN2007rz, SN2009dt, SN2006bf, and SN2007ag\n",
    "\n",
    "os.chdir(\"/Users/alexgagliano/Documents/Research/2020oi/data/reference_data/bolo_stripped/SNe_Bolo_fromLyman/\")\n",
    "\n",
    "GP_results_wQ = pd.read_csv(\"/Users/alexgagliano/Documents/Research/2020oi/scripts/superbol/superbol_output_2020oi/logL_bb_2020oi_AUBgVriz.txt\")\n",
    "GP_results_Great = GP_results_wQ[GP_results_wQ['Quality']=='Great']\n",
    "\n",
    "SNe = []\n",
    "sns.set_style(\"white\")\n",
    "#sns.set_context(\"poster\")\n",
    "sns.set(font_scale=2.5)\n",
    "sns.set_style(\"white\")\n",
    "sns.set_style(\"ticks\", {\"xtick.major.size\": 20, \"ytick.major.size\": 40})\n",
    "sns.set_style(\"ticks\", {\"xtick.minor.size\": 8, \"ytick.minor.size\": 8})\n",
    "\n",
    "plt.figure(figsize=(20,14))\n",
    "plt.rcParams['xtick.major.size'] = 16\n",
    "plt.rcParams['ytick.major.size'] = 16\n",
    "\n",
    "plt.rcParams['xtick.minor.size'] = 8\n",
    "plt.rcParams['ytick.minor.size'] = 8\n",
    "plt.rcParams['xtick.minor.width'] = 2\n",
    "plt.rcParams['ytick.minor.width'] = 2\n",
    "\n",
    "plt.rcParams['xtick.major.width'] = 2\n",
    "plt.rcParams['ytick.major.width'] = 2\n",
    "plt.rcParams['xtick.bottom'] = True\n",
    "plt.rcParams['xtick.major.top'] = False\n",
    "plt.rcParams['xtick.minor.top'] = False\n",
    "plt.rcParams['ytick.left'] = True\n",
    "plt.rcParams['ytick.right'] = True\n",
    "\n",
    "plt.rcParams['xtick.minor.visible'] = True\n",
    "plt.rcParams['ytick.minor.visible'] = True\n",
    "plt.rcParams['xtick.direction'] = 'in'\n",
    "plt.rcParams['ytick.direction'] = 'in'\n",
    "\n",
    "phases = []\n",
    "lbol = []\n",
    "nickel = []\n",
    "types = []\n",
    "method = []\n",
    "\n",
    "cols = sns.color_palette(\"colorblind\", 10)\n",
    "\n",
    "plt.rcParams.update({\n",
    "    \"text.usetex\": True,\n",
    "    \"font.family\": \"sans-serif\",\n",
    "    \"font.sans-serif\": [\"Helvetica\"]})\n",
    "## for Palatino and other serif fonts use:\n",
    "plt.rcParams.update({\n",
    "    \"text.usetex\": True,\n",
    "    \"font.family\": \"serif\",\n",
    "    \"font.serif\": [\"Palatino\"],\n",
    "})\n",
    "    \n",
    "fullData = pd.DataFrame({'MJD':np.array([]), 'epoch':np.array([]), 'Mbol':np.array([]), 'minMbolErr':np.array([]), 'plusMbolErr':np.array([]), 'log10(Lbol)':np.array([]), 'minLbolError':np.array([]), 'plusLbolError':np.array([]), 'SN':np.array([])})\n",
    "i = -1\n",
    "markers = np.array(['s','X', '.', 'o', 'P', '>', '<', 'P', '*', 'D', 'd'])\n",
    "j = -1\n",
    "peak_errL = []\n",
    "peak_errH = []\n",
    "shifts = [10, 10, 11, 1, 6.5, 10, -5, 8, 5, 9, 0.5, 0, 2, 7, 0, 1, 1, 15, 0, 8.5, 8.5, 14, 14, 8, 6.8, 6.8, 0, 2, -5, 0, 0,9, 0, 0,0, 0, 0,0, 0, 0]\n",
    "\n",
    "m = 0\n",
    "for LC in taddia_LCs:\n",
    "    name = taddia_files[m].split(\"/\")[-1].split(\"_\")[1]\n",
    "    if np.sum(np.log10(LC['Lbol'].values)>50) ==0:\n",
    "        if name not in np.array(['SN2006fo', 'SN2009K', 'SN2008gc', 'SN2006ba', 'SN2006ir', 'SN2008aq', 'SN2005em', 'SN2005aw','SN2004ew', 'SN2009ca', 'SN2005bj']):\n",
    "            plt.plot(LC['phase']-shifts[m], np.log10(LC['Lbol'].values), marker=markers[m%11], ms=10, alpha=0.5, label=name[2:])\n",
    "    m+=1 \n",
    "\n",
    "#plt.plot(LC['phase'], np.log10(LC['Lbol']))\n",
    "c = np.concatenate([sns.color_palette(\"tab10\"), sns.color_palette(\"Set2\")])\n",
    "\n",
    "for file in glob.glob(\"*_thesis_table\"):\n",
    "    data = pd.read_csv(file, delim_whitespace=True, names=['MJD', 'epoch', 'Mbol', 'minMbolErr', 'plusMbolErr', 'log10(Lbol)', 'minLbolErr', 'plusLbolErr'])\n",
    "    #find peak brightness\n",
    "    data['SN'] = file.split(\"_\")[0]\n",
    "    fullData = pd.concat([fullData, data], ignore_index=True)\n",
    "    data_arr.append(data)\n",
    "    SNe.append(data['SN'].values[0])\n",
    "    if data['SN'].values[0] in ['1994I']:\n",
    "        i+=1 \n",
    "        sns.lineplot(x=data['epoch']+diff, y=data['log10(Lbol)'],markers=True, ms=10, lw=3, err_style='band', marker=markers[i], color='#3D105A', label=data['SN'].values[0], zorder=1000)\n",
    "        plt.fill_between(data['epoch']+diff, data['log10(Lbol)']+data['minLbolErr'], data['log10(Lbol)'] + data['plusLbolErr'],color='#3D105A',  alpha=0.3, lw=3)\n",
    "        SN1994I_date = data['epoch']+diff\n",
    "        SN1994I_bolo = data['log10(Lbol)']\n",
    "        SN1994I_minErr = data['minLbolErr']\n",
    "        SN1994I_plusErr = data['plusLbolErr']\n",
    "    elif Type[data['SN'].values[0]] == 'Ic':\n",
    "        if data['SN'].values[0] not in ['2005mf', '2005kz']:\n",
    "            i+=1 \n",
    "            plt.plot(data['epoch']+diff, data['log10(Lbol)'],label=data['SN'].values[0], ms=10, marker=markers[i],ls='-', zorder=1, lw=3, alpha=0.5, color=c[i]) #c=cols[j], ls='-', zorder=1, lw=3, alpha=0.5)\n",
    "            plt.fill_between(data['epoch']+diff, data['log10(Lbol)']+data['minLbolErr'], data['log10(Lbol)'] + data['plusLbolErr'], alpha=0.3, color=c[i]) #color=cols[j], alpha=0.3)\n",
    "#            print(np.nanmax(data['log10(Lbol)']))\n",
    "    peak = np.abs(data['log10(Lbol)'] - np.nanmax(data['log10(Lbol)'])) < 0.001\n",
    "    peak_errL.append(data['minLbolErr'].values[peak])\n",
    "    peak_errH.append(data['plusLbolErr'].values[peak])    \n",
    "    lbol.append(data['log10(Lbol)'].values)\n",
    "    phases.append(data['epoch'].values)\n",
    "    nickel.append(MNi[data['SN'].values[0]])\n",
    "    types.append(Type[data['SN'].values[0]])\n",
    "    method.append(Method_MNi[data['SN'].values[0]])\n",
    "        \n",
    "#SNe = np.sort(SNe)\n",
    "#for SN in SNe:\n",
    "#    print(\"'%s':,\"%SN)\n",
    "#plt.plot(Lbol['ph'], Lbol['logL'], c='k', label='')\n",
    "#plt.errorbar(Lbol['ph']-peak20oi, np.log10(Lbol['L+BB']), Lbol['GP_Err'], fmt='o', lw=1, markersize=4, c='k',zorder=1000)\n",
    "sns.lineplot(x=Lbol['MJD']-t0, y=Lbol['logL'], lw=3, alpha=1,color=sns.color_palette(\"colorblind\", 10)[0], ls='-', label=r'2020oi')\n",
    "plt.fill_between(Lbol['MJD']-t0, Lbol['logL']-Lbol['logLerr']/4.,Lbol['logL']+Lbol['logLerr']/4., color=sns.color_palette(\"colorblind\", 10)[0], alpha=0.5)\n",
    "#plt.plot(GP_results_Great['MJD']-t0, GP_results_Great['logL'], 'o', ms=11,color='#00916E')\n",
    "\n",
    "plt.xlim((-12, 110))\n",
    "plt.ylim((41, 43))\n",
    "#plt.legend().set_visible(False)\n",
    "plt.xlabel(\"Time From Explosion + Offset (days)\")\n",
    "plt.ylabel(r\"$log_{10}$( $L_{\\rm bol}$ [erg s$^{-1}$] )\", labelpad=10)\n",
    "\n",
    "plt.text(73, 41.15, \"1994I\", c='#4C1E4F')\n",
    "plt.text(66.5, 41.28, \"2020oi\", c=sns.color_palette(\"colorblind\", 10)[0])\n",
    "#plt.text(97, 41.4, \"2007gr\", c='gray')\n",
    "#plt.text(37, 41.83, \"2002ap\", c='gray')\n",
    "#plt.text(-3, 41.25, \"1999ex\", c='gray')\n",
    "#plt.text(67, 41.75, \"2005mf\", c='gray')\n",
    "#plt.text(63, 42., \"2004aw\", c='gray')\n",
    "#plt.text(65, 42.23, \"2005az\", c='gray')\n",
    "#plt.text(35, 42.55, \"2005kz\", c='gray')\n",
    "#plt.text(85, 42.42, \"2011bm\", c='gray')\n",
    "#plt.text(-8.5, 42.4, \"2004dn\", c='gray')\n",
    "#plt.text(-7, 42.55, \"2004fe\", c='gray')\n",
    "\n",
    "absMJD = plt.gca().secondary_xaxis('top', functions=(t0_to_mjd, mjd_to_t0))\n",
    "absMJD.set_xlabel('Time (MJD)', labelpad=10)\n",
    "\n",
    "plt.legend(loc='lower right', handletextpad=0.0, borderaxespad=1.5,labelspacing=0.5, bbox_to_anchor=(1.04,1.05), ncol=6,frameon=True, fancybox=True, edgecolor='k')\n",
    "\n",
    "plt.savefig(\"/Users/alexgagliano/Documents/Research/2020oi/img/BolometricLCs_2020oi_IcOnly_FancyFont_SBO_wTaddiaFull.png\",dpi=300, bbox_inches='tight')"
   ]
  },
  {
   "cell_type": "code",
   "execution_count": null,
   "metadata": {},
   "outputs": [],
   "source": [
    "len(SNe)\n",
    "len(peak_errL)\n",
    "peak_errL"
   ]
  },
  {
   "cell_type": "code",
   "execution_count": null,
   "metadata": {},
   "outputs": [],
   "source": [
    "for i in np.arange(len(lbol)):\n",
    "    if len(lbol[i][(np.abs(phases[i] - 30) < 4)]) > 0:\n",
    "        print(lbol[i][(np.abs(phases[i] - 30) < 4)][0])\n",
    "    "
   ]
  },
  {
   "cell_type": "code",
   "execution_count": null,
   "metadata": {},
   "outputs": [],
   "source": [
    "DF_1994I = pd.DataFrame({'epoch':SN1994I_date,'Lbol':SN1994I_bolo, 'mErr': SN1994I_minErr, 'pErr':SN1994I_plusErr})\n",
    "DF_1994I.to_csv(\"/Users/alexgagliano/Documents/Research/2020oi/data/reference_data/SN1994I_Lbol.csv\",index=False)"
   ]
  },
  {
   "cell_type": "code",
   "execution_count": null,
   "metadata": {},
   "outputs": [],
   "source": [
    "day30 = [42.426,\n",
    "42.733000000000004,\n",
    "41.923,\n",
    "42.568000000000005,\n",
    "41.813,\n",
    "42.055,\n",
    "41.783,\n",
    "41.915,\n",
    "41.438,\n",
    "41.968999999999994,\n",
    "42.18600000000001,\n",
    "42.114,\n",
    "42.019,\n",
    "41.501000000000005,\n",
    "41.528999999999996,\n",
    "42.356,\n",
    "42.16,\n",
    "41.575,\n",
    "42.192,\n",
    "42.461999999999996,\n",
    "41.753,\n",
    "42.255,\n",
    "42.227,\n",
    "41.778,\n",
    "42.059,\n",
    "42.195,\n",
    "42.273,\n",
    "42.653999999999996]\n"
   ]
  },
  {
   "cell_type": "code",
   "execution_count": null,
   "metadata": {},
   "outputs": [],
   "source": [
    "np.mean(day30) - np.std(day30)"
   ]
  },
  {
   "cell_type": "code",
   "execution_count": null,
   "metadata": {},
   "outputs": [],
   "source": [
    "day30_2020oi = 41.775"
   ]
  },
  {
   "cell_type": "code",
   "execution_count": null,
   "metadata": {},
   "outputs": [],
   "source": [
    "Lbol[np.abs(Lbol['MJD']-t0-30)<1]"
   ]
  },
  {
   "cell_type": "code",
   "execution_count": null,
   "metadata": {},
   "outputs": [],
   "source": [
    "(np.abs(phases[i] - 30) < 0.5)"
   ]
  },
  {
   "cell_type": "code",
   "execution_count": null,
   "metadata": {},
   "outputs": [],
   "source": [
    "np.nanmax(SN1994I_bolo)"
   ]
  },
  {
   "cell_type": "code",
   "execution_count": null,
   "metadata": {},
   "outputs": [],
   "source": [
    "10**np.nanmax(SN1994I_bolo)"
   ]
  },
  {
   "cell_type": "code",
   "execution_count": null,
   "metadata": {},
   "outputs": [],
   "source": [
    "10**np.nanmax(Lbol['logL']) /10**np.nanmax(SN1994I_bolo)"
   ]
  },
  {
   "cell_type": "code",
   "execution_count": null,
   "metadata": {},
   "outputs": [],
   "source": [
    "3.5727283815192663e+42 - 2.564484036517711e+42"
   ]
  },
  {
   "cell_type": "code",
   "execution_count": null,
   "metadata": {},
   "outputs": [],
   "source": [
    "np.nanmax(Lbol['logL']) "
   ]
  },
  {
   "cell_type": "code",
   "execution_count": null,
   "metadata": {},
   "outputs": [],
   "source": [
    "peaks = [42.876000000000005,\n",
    "42.593999999999994,\n",
    "42.705,\n",
    "42.76,\n",
    "42.501000000000005,\n",
    "42.277,\n",
    "42.611999999999995,\n",
    "42.245,\n",
    "42.674,\n",
    "42.915]"
   ]
  },
  {
   "cell_type": "code",
   "execution_count": null,
   "metadata": {},
   "outputs": [],
   "source": [
    "np.nanmean(peaks) - 0.3*np.std(peaks)"
   ]
  },
  {
   "cell_type": "code",
   "execution_count": null,
   "metadata": {},
   "outputs": [],
   "source": [
    "42.547 - 42.409"
   ]
  },
  {
   "cell_type": "code",
   "execution_count": null,
   "metadata": {},
   "outputs": [],
   "source": [
    "AllSNe = pd.DataFrame({'Lbol':lbol, 'phase':phases, 'nickel':nickel, 'type':types, 'method':method})"
   ]
  },
  {
   "cell_type": "code",
   "execution_count": null,
   "metadata": {},
   "outputs": [],
   "source": [
    "np.unique(AllSNe['type'])"
   ]
  },
  {
   "cell_type": "code",
   "execution_count": null,
   "metadata": {},
   "outputs": [],
   "source": [
    "SNe_Ic = AllSNe[AllSNe['type'].isin(['Ic'])]\n",
    "SNe_IcBL = AllSNe[AllSNe['type'].isin(['Ic-BL'])]\n",
    "SNe_IcGRB = AllSNe[AllSNe['type'].isin(['Ic-GRB'])]\n",
    "SNe_IIb = AllSNe[AllSNe['type'].isin(['IIb'])]\n",
    "SNe_Ib = AllSNe[AllSNe['type'].isin(['Ib'])]"
   ]
  },
  {
   "cell_type": "code",
   "execution_count": null,
   "metadata": {},
   "outputs": [],
   "source": [
    "DF_20oi = pd.DataFrame({'phase':[Lbol['ph']], 'Lbol':[Lbol['logL']], 'nickel':0.07, 'type':['Ic']})"
   ]
  },
  {
   "cell_type": "code",
   "execution_count": null,
   "metadata": {},
   "outputs": [],
   "source": [
    "AllSNe = pd.concat([DF_20oi, AllSNe],ignore_index=True)"
   ]
  },
  {
   "cell_type": "code",
   "execution_count": null,
   "metadata": {},
   "outputs": [],
   "source": [
    "AllSNe_KK = AllSNe[AllSNe['method'] == 1]"
   ]
  },
  {
   "cell_type": "code",
   "execution_count": null,
   "metadata": {},
   "outputs": [],
   "source": [
    "import matplotlib \n",
    "\n",
    "#lowNi_SNe = AllSNe[lowNi]\n",
    "#medNi_SNe = AllSNe[medNi]\n",
    "#highNi_SNe = AllSNe[highNi]\n",
    "\n",
    "pl = sns.color_palette(\"crest\", as_cmap=True)\n",
    "sns.set_context(\"talk\")\n",
    "plt.figure(figsize=(30,14))\n",
    "ml = multiline(AllSNe['phase'], AllSNe['Lbol'], AllSNe['nickel'], lw=4, cmap=pl,norm=matplotlib.colors.LogNorm())\n",
    "sns.lineplot(x=Lbol['ph'], y=Lbol['logL'], lw=3, color='k', alpha=1)\n",
    "# colorbar\n",
    "sm = plt.cm.ScalarMappable(cmap=pl, norm=plt.Normalize(vmin=np.nanmin(AllSNe['nickel']), vmax=np.nanmax(AllSNe['nickel'])))\n",
    "sm._A = [];\n",
    "plt.xlabel(\"Phase From Bolometric Peak (days)\")\n",
    "plt.ylabel(r\"log10($L_{bol}$)\")\n",
    "cbar = plt.colorbar(sm)\n",
    "cbar.set_label(r\"$M_{Ni56}$\")\n",
    "plt.savefig(\"/Users/alexgagliano/Documents/Research/2020oi/img/Lbol_w_MNi.png\")"
   ]
  },
  {
   "cell_type": "code",
   "execution_count": null,
   "metadata": {},
   "outputs": [],
   "source": [
    "# ### note yet working####\n",
    "###sns.set_context(\"talk\")\n",
    "t0 = 58854.2\n",
    "\n",
    "plt.figure(figsize=(10,7))\n",
    "os.chdir(\"/Users/alexgagliano/Documents/Research/2020oi/data/bolo_stripped/SNe_Ibc_Bolo_fromCano/\")\n",
    "\n",
    "for file in glob.glob(\"*\"):\n",
    "    print(file)\n",
    "    if file[-1] is not 'g':\n",
    "        data = pd.read_csv(file, delim_whitespace=True, names=['t-tExp', 'Lbol(erg/s)'])\n",
    "        #find peak brightness\n",
    "        data['SN'] = file\n",
    "        data_arr.append(data)\n",
    "\n",
    "        sns.lineplot(x=data['t-tExp'], y=np.log10(data['Lbol(erg/s)'].astype(\"float\")), ms=1, alpha=0.8,err_style='band', label=file)\n",
    "       # plt.fill_between(data['epoch'], data['log10(Lbol)']+data['minLbolErr'],data['log10(Lbol)']+data['plusLbolErr'], alpha=0.2)\n",
    "\n",
    "        #plt.errorbar(Lbol['ph']-peak20oi, np.log10(Lbol['L+BB']), Lbol['GP_Err'], fmt='o', lw=1, markersize=4, c='k',zorder=1000)\n",
    "sns.lineplot(x=Lbol['ph']-t0, y=np.log10(Lbol['L+BB']), ms=1, alpha=0.8,color='k', label='2020oi')\n",
    "#plt.fill_between(Lbol['ph']-peak20oi+10, np.log10(Lbol['L+BB'])-Lbol['GP_Err']/2.,np.log10(Lbol['L+BB'])+Lbol['GP_Err']/2., alpha=0.2,color='k')\n",
    "plt.fill_between(Lbol['ph']-peak20oi+10, np.log10(Lbol['L+BB'])-Lbol['GP_Err']/2,np.log10(Lbol['L+BB'])+Lbol['GP_Err']/2, alpha=0.2,color='k', label='2020oi')\n",
    "\n",
    "plt.xlim((-2, 55))\n",
    "plt.legend()\n",
    "plt.xlabel(\"Days from Explosion Time\")\n",
    "plt.ylabel(\"log10(Lbol)\")\n",
    "plt.title(\"Cano LCs\")\n",
    "plt.savefig(\"Bolometric_Ibc_LCs_2020oi.png\",dpi=300, bbox_inches='tight')\n",
    "#plt.gca().get_legend().remove()"
   ]
  },
  {
   "cell_type": "code",
   "execution_count": null,
   "metadata": {},
   "outputs": [],
   "source": [
    "#94I extinction \n",
    "plt.figure(figsize=(10,7))\n",
    "sns.lineplot(x=Lbol['MJD']-t0, y=Lbol['logL'], lw=3, alpha=0.8,color=sns.color_palette(\"colorblind\", 10)[0], ls='-', label=r'2020oi')\n",
    "plt.fill_between(Lbol['MJD']-t0, Lbol['logL']-Lbol['logLerr']/4.,Lbol['logL']+Lbol['logLerr']/4., color=sns.color_palette(\"colorblind\", 10)[0], alpha=0.2)\n",
    "\n",
    "plt.plot(SN1994I_date, np.log10(Lstar), 'o', label=\"Reported 94I\")\n",
    "plt.plot(SN1994I_date, np.log10(Lstar_new), 'o', label='Slightly higher extinction 94I')\n",
    "plt.legend()"
   ]
  },
  {
   "cell_type": "code",
   "execution_count": null,
   "metadata": {},
   "outputs": [],
   "source": []
  }
 ],
 "metadata": {
  "kernelspec": {
   "display_name": "Python 3",
   "language": "python",
   "name": "python3"
  },
  "language_info": {
   "codemirror_mode": {
    "name": "ipython",
    "version": 3
   },
   "file_extension": ".py",
   "mimetype": "text/x-python",
   "name": "python",
   "nbconvert_exporter": "python",
   "pygments_lexer": "ipython3",
   "version": "3.7.6"
  }
 },
 "nbformat": 4,
 "nbformat_minor": 4
}
