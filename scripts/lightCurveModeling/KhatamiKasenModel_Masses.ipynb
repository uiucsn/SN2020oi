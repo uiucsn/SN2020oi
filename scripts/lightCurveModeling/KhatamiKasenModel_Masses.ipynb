{
 "cells": [
  {
   "cell_type": "code",
   "execution_count": 1,
   "metadata": {},
   "outputs": [],
   "source": [
    "import numpy as np\n",
    "import astropy.units as u\n",
    "from astropy import constants\n",
    "from scipy.optimize import fsolve\n",
    "import pandas as pd\n",
    "import matplotlib.pyplot as plt"
   ]
  },
  {
   "cell_type": "code",
   "execution_count": 2,
   "metadata": {},
   "outputs": [],
   "source": [
    "# constants.c\n",
    "Lbol = pd.read_csv(\"/Users/alexgagliano/Documents/Research/2020oi/scripts/superbol/SBO_input/superbol_output_2020oi/logL_bb_2020oi_AUBgVriz.txt\", delimiter='\\t', header=None, names=['MJD', 'logL', 'logLerr'])"
   ]
  },
  {
   "cell_type": "code",
   "execution_count": 3,
   "metadata": {},
   "outputs": [
    {
     "data": {
      "text/plain": [
       "<matplotlib.lines.Line2D at 0x7f91e5674950>"
      ]
     },
     "execution_count": 3,
     "metadata": {},
     "output_type": "execute_result"
    },
    {
     "data": {
      "image/png": "[encoded data removed]",
      "text/plain": [
       "<Figure size 432x288 with 1 Axes>"
      ]
     },
     "metadata": {
      "needs_background": "light"
     },
     "output_type": "display_data"
    }
   ],
   "source": [
    "plt.plot(Lbol['MJD']-58854.2, Lbol['logL'])\n",
    "plt.axvline(x=10.67)"
   ]
  },
  {
   "cell_type": "code",
   "execution_count": 4,
   "metadata": {},
   "outputs": [
    {
     "data": {
      "text/plain": [
       "42.553"
      ]
     },
     "execution_count": 4,
     "metadata": {},
     "output_type": "execute_result"
    }
   ],
   "source": [
    "np.nanmax(Lbol['logL'])"
   ]
  },
  {
   "cell_type": "code",
   "execution_count": 5,
   "metadata": {},
   "outputs": [
    {
     "data": {
      "text/plain": [
       "array([0.099, 0.099, 0.099])"
      ]
     },
     "execution_count": 5,
     "metadata": {},
     "output_type": "execute_result"
    }
   ],
   "source": [
    "Lbol['logLerr'].values[Lbol['logL']==np.nanmax(Lbol['logL'])]"
   ]
  },
  {
   "cell_type": "code",
   "execution_count": 6,
   "metadata": {},
   "outputs": [
    {
     "data": {
      "text/plain": [
       "2.8444611074479197e+42"
      ]
     },
     "execution_count": 6,
     "metadata": {},
     "output_type": "execute_result"
    }
   ],
   "source": [
    "10**(42.553 - 0.099)"
   ]
  },
  {
   "cell_type": "code",
   "execution_count": 9,
   "metadata": {},
   "outputs": [],
   "source": [
    "#Peak time and peak luminosity of your transient go here.\n",
    "t_peak = 10.67 #day #uncertainty is 0.2\n",
    "#t_peak = 10.67 - 0.2\n",
    "#t_peak = 10.67 + 0.2\n",
    "L_peak = 3.57e42 #erg/s\n",
    "#L_peak = 10**(42.553 - 0.099) #low\n",
    "#L_peak = 10**(42.553 + 0.099) #high\n",
    "\n",
    "#Also the ejecta velocity and opacity near peak\n",
    "kappa = 0.07*u.cm**2/u.g\n",
    "vej = 12750*u.km/u.s"
   ]
  },
  {
   "cell_type": "code",
   "execution_count": 11,
   "metadata": {},
   "outputs": [],
   "source": [
    "#Define heating rates of Ni and Co\n",
    "ep_Ni = 3.9e10 #erg/g/s\n",
    "ep_Co = 6.8e9 #erg/g/s\n",
    "\n",
    "#Define the decay timescales\n",
    "t_Ni = 8.8\n",
    "t_Co = 111.3\n",
    "tau_Ni = t_peak / t_Ni #d\n",
    "tau_Co = t_peak / t_Co\n",
    "\n",
    "## Beta paremeter indicating the Ni/Co distribution\n",
    "# beta = 3/4 #generic\n",
    "#beta = 9/8 #Ibc\n",
    "beta = 0.9\n",
    "\n",
    "\n",
    "#Heating function to solve from KK19\n",
    "big_fun = ((1-ep_Co/ep_Ni) * (1-(1+beta*tau_Ni)*np.exp(-beta*tau_Ni)))  + \\\n",
    "                ((ep_Co * t_Co**2 /(ep_Ni * t_Ni**2))*(1-(1+beta*tau_Co)*np.exp(-beta*tau_Co)))\n",
    "\n",
    "#Solve for MNi\n",
    "MNi = L_peak * beta**2 *tau_Ni**2 / (2 * ep_Ni) / big_fun"
   ]
  },
  {
   "cell_type": "code",
   "execution_count": 12,
   "metadata": {},
   "outputs": [],
   "source": [
    "#Solve for Ejecta mass\n",
    "\n",
    "#First, solve for diffusion time from rise time\n",
    "\n",
    "#########Heating timescales near peak, pick either Ni or Co depending on your t_peak\n",
    "#diffusion time\n",
    "ts = t_Ni\n",
    "\n",
    "def solve_tpeak(td):\n",
    "    return (td * (0.11*np.log(1+9*ts/td) + 0.36)) - t_peak\n",
    "\n",
    "res = fsolve(solve_tpeak, 10)\n",
    "td = res[0]\n",
    "\n",
    "#Now Mej can be computed\n",
    "Mej = (td*u.day)**2 * vej * constants.c/kappa"
   ]
  },
  {
   "cell_type": "code",
   "execution_count": 13,
   "metadata": {},
   "outputs": [
    {
     "data": {
      "text/latex": [
       "$12750 \\; \\mathrm{\\frac{km}{s}}$"
      ],
      "text/plain": [
       "<Quantity 12750. km / s>"
      ]
     },
     "execution_count": 13,
     "metadata": {},
     "output_type": "execute_result"
    }
   ],
   "source": [
    "vej"
   ]
  },
  {
   "cell_type": "code",
   "execution_count": 15,
   "metadata": {},
   "outputs": [
    {
     "data": {
      "text/plain": [
       "19.881632371653616"
      ]
     },
     "execution_count": 15,
     "metadata": {},
     "output_type": "execute_result"
    }
   ],
   "source": [
    "td"
   ]
  },
  {
   "cell_type": "code",
   "execution_count": 16,
   "metadata": {},
   "outputs": [
    {
     "data": {
      "text/latex": [
       "$0.07 \\; \\mathrm{\\frac{cm^{2}}{g}}$"
      ],
      "text/plain": [
       "<Quantity 0.07 cm2 / g>"
      ]
     },
     "execution_count": 16,
     "metadata": {},
     "output_type": "execute_result"
    }
   ],
   "source": [
    "kappa"
   ]
  },
  {
   "cell_type": "code",
   "execution_count": 17,
   "metadata": {},
   "outputs": [
    {
     "data": {
      "text/latex": [
       "$2.1584248 \\times 10^{16} \\; \\mathrm{\\frac{d^{2}\\,g\\,km\\,m}{cm^{2}\\,s^{2}}}$"
      ],
      "text/plain": [
       "<Quantity 2.15842482e+16 d2 g km m / (cm2 s2)>"
      ]
     },
     "execution_count": 17,
     "metadata": {},
     "output_type": "execute_result"
    }
   ],
   "source": [
    "(td*u.day)**2 * vej * constants.c/kappa"
   ]
  },
  {
   "cell_type": "code",
   "execution_count": 18,
   "metadata": {},
   "outputs": [
    {
     "data": {
      "text/latex": [
       "$19.881632 \\; \\mathrm{d}$"
      ],
      "text/plain": [
       "<Quantity 19.88163237 d>"
      ]
     },
     "execution_count": 18,
     "metadata": {},
     "output_type": "execute_result"
    }
   ],
   "source": [
    "td*u.day"
   ]
  },
  {
   "cell_type": "markdown",
   "metadata": {},
   "source": [
    "## Results!"
   ]
  },
  {
   "cell_type": "code",
   "execution_count": 19,
   "metadata": {},
   "outputs": [
    {
     "name": "stdout",
     "output_type": "stream",
     "text": [
      "The nickel-56 mass is 0.079709 solar mass.\n",
      "The ejecta mass is 0.810324 solar mass.\n"
     ]
    }
   ],
   "source": [
    "print(\"The nickel-56 mass is %f solar mass.\"%(MNi*u.g.to(u.Msun)))\n",
    "print(\"The ejecta mass is %f solar mass.\"%(Mej.to(u.Msun).value))"
   ]
  },
  {
   "cell_type": "code",
   "execution_count": 185,
   "metadata": {},
   "outputs": [],
   "source": [
    "td = np.array([19.881632371653616, 19.436736564670177, 20.32809304429703])\n",
    "MNi = np.array([0.071434,0.112694,0.088701,0.090611,0.070674,0.111496,0.072196,0.113897])\n",
    "Mej = np.array([0.810324,0.810324,0.774464,0.847125,0.774464,0.774464,0.847125,0.847125])"
   ]
  },
  {
   "cell_type": "code",
   "execution_count": 186,
   "metadata": {},
   "outputs": [
    {
     "data": {
      "text/plain": [
       "19.881632371653616"
      ]
     },
     "execution_count": 186,
     "metadata": {},
     "output_type": "execute_result"
    }
   ],
   "source": [
    "np.nanmedian(td)"
   ]
  },
  {
   "cell_type": "code",
   "execution_count": 187,
   "metadata": {},
   "outputs": [
    {
     "data": {
      "text/plain": [
       "0.36389494593013055"
      ]
     },
     "execution_count": 187,
     "metadata": {},
     "output_type": "execute_result"
    }
   ],
   "source": [
    "np.std(td)"
   ]
  },
  {
   "cell_type": "code",
   "execution_count": 151,
   "metadata": {},
   "outputs": [
    {
     "data": {
      "text/plain": [
       "0.089656"
      ]
     },
     "execution_count": 151,
     "metadata": {},
     "output_type": "execute_result"
    }
   ],
   "source": [
    "np.nanmedian(MNi)"
   ]
  },
  {
   "cell_type": "code",
   "execution_count": 152,
   "metadata": {},
   "outputs": [
    {
     "data": {
      "text/plain": [
       "0.810324"
      ]
     },
     "execution_count": 152,
     "metadata": {},
     "output_type": "execute_result"
    }
   ],
   "source": [
    "np.nanmedian(Mej)"
   ]
  },
  {
   "cell_type": "code",
   "execution_count": 153,
   "metadata": {},
   "outputs": [
    {
     "data": {
      "text/plain": [
       "0.017917435659417755"
      ]
     },
     "execution_count": 153,
     "metadata": {},
     "output_type": "execute_result"
    }
   ],
   "source": [
    "np.std(MNi)"
   ]
  },
  {
   "cell_type": "code",
   "execution_count": 154,
   "metadata": {},
   "outputs": [
    {
     "data": {
      "text/plain": [
       "0.03146379553724208"
      ]
     },
     "execution_count": 154,
     "metadata": {},
     "output_type": "execute_result"
    }
   ],
   "source": [
    "np.std(Mej)"
   ]
  },
  {
   "cell_type": "markdown",
   "metadata": {},
   "source": [
    "$M_{\\rm ej} = 0.81\\pm0.03\\,M_{\\odot}$\n",
    "\n",
    "$M_{\\rm Ni56} = 0.09\\pm0.02\\,M_{\\odot}$"
   ]
  },
  {
   "cell_type": "code",
   "execution_count": 156,
   "metadata": {},
   "outputs": [
    {
     "data": {
      "text/plain": [
       "0.78"
      ]
     },
     "execution_count": 156,
     "metadata": {},
     "output_type": "execute_result"
    }
   ],
   "source": [
    "0.81-0.03"
   ]
  },
  {
   "cell_type": "code",
   "execution_count": 157,
   "metadata": {},
   "outputs": [
    {
     "data": {
      "text/plain": [
       "0.8400000000000001"
      ]
     },
     "execution_count": 157,
     "metadata": {},
     "output_type": "execute_result"
    }
   ],
   "source": [
    "0.81+0.03"
   ]
  },
  {
   "cell_type": "code",
   "execution_count": null,
   "metadata": {},
   "outputs": [],
   "source": []
  }
 ],
 "metadata": {
  "kernelspec": {
   "display_name": "Python 3",
   "language": "python",
   "name": "python3"
  },
  "language_info": {
   "codemirror_mode": {
    "name": "ipython",
    "version": 3
   },
   "file_extension": ".py",
   "mimetype": "text/x-python",
   "name": "python",
   "nbconvert_exporter": "python",
   "pygments_lexer": "ipython3",
   "version": "3.7.6"
  }
 },
 "nbformat": 4,
 "nbformat_minor": 5
}
