{
 "cells": [
  {
   "cell_type": "code",
   "execution_count": 10,
   "metadata": {},
   "outputs": [],
   "source": [
    "# Import necessary packages. \n",
    "import os\n",
    "os.environ['PYSYN_CDBS'] = '/Users/alexgagliano/Documents/Research/2020oi/scripts/SPISEA/models/grp/hst/cdbs'\n",
    "\n",
    "os.chdir(\"/Users/alexgagliano/Documents/Research/2020oi/data/BPASS/BPASSv2.2.1_release-07-18-Tuatara/BPASSv2.2.1_sin-imf135_100\")\n",
    "import numpy as np\n",
    "import os\n",
    "import glob\n",
    "import pdb\n",
    "import matplotlib.pyplot as plt\n",
    "import seaborn as sns\n",
    "%matplotlib inline\n",
    "from specutils import Spectrum1D\n",
    "import stsynphot as stsyn  \n",
    "import astropy.units as u\n",
    "import math\n",
    "from synphot import Observation\n",
    "import pysynphot as S\n",
    "global sig_int\n",
    "import pandas as pd\n",
    "from scipy import interpolate\n",
    "from extinction import ccm89, fitzpatrick99, apply\n",
    "import matplotlib.image as mpimg"
   ]
  },
  {
   "cell_type": "code",
   "execution_count": 11,
   "metadata": {},
   "outputs": [],
   "source": [
    "def find_nearest(array,value):\n",
    "    idx = np.searchsorted(array, value, side=\"left\")\n",
    "    if idx > 0 and (idx == len(array) or math.fabs(value - array[idx-1]) < math.fabs(value - array[idx])):\n",
    "        return array[idx-1]\n",
    "    else:\n",
    "        return array[idx]"
   ]
  },
  {
   "cell_type": "code",
   "execution_count": 12,
   "metadata": {},
   "outputs": [
    {
     "data": {
      "text/plain": [
       "[6.6, 0.013999999999999999]"
      ]
     },
     "execution_count": 12,
     "metadata": {},
     "output_type": "execute_result"
    }
   ],
   "source": [
    "theta_bestFit "
   ]
  },
  {
   "cell_type": "code",
   "execution_count": 13,
   "metadata": {},
   "outputs": [
    {
     "ename": "NameError",
     "evalue": "name 'obs_sig' is not defined",
     "output_type": "error",
     "traceback": [
      "\u001b[0;31m---------------------------------------------------------------------------\u001b[0m",
      "\u001b[0;31mNameError\u001b[0m                                 Traceback (most recent call last)",
      "\u001b[0;32m<ipython-input-13-6edd536bbe02>\u001b[0m in \u001b[0;36m<module>\u001b[0;34m\u001b[0m\n\u001b[0;32m----> 1\u001b[0;31m \u001b[0mplt\u001b[0m\u001b[0;34m.\u001b[0m\u001b[0mhist\u001b[0m\u001b[0;34m(\u001b[0m\u001b[0mobs_sig\u001b[0m\u001b[0;34m)\u001b[0m\u001b[0;34m\u001b[0m\u001b[0;34m\u001b[0m\u001b[0m\n\u001b[0m",
      "\u001b[0;31mNameError\u001b[0m: name 'obs_sig' is not defined"
     ]
    }
   ],
   "source": [
    "plt.hist(obs_sig)"
   ]
  },
  {
   "cell_type": "code",
   "execution_count": 14,
   "metadata": {},
   "outputs": [],
   "source": [
    "Age_arr = []\n",
    "newNames = {}\n",
    "newNames[0] = \"Angstrom\"\n",
    "\n",
    "for i in np.arange(52): \n",
    "    Age_arr.append(10**(6.+0.1*((i+2)-2.)))\n",
    "    newNames[i+1] = int(Age_arr[i])\n",
    "\n",
    "def gen_SED(theta):\n",
    "    logAge = theta[0] \n",
    "    Z = theta[1]\n",
    "    \n",
    "    Age = 10**logAge\n",
    "\n",
    "    metallicity = {0.001: '001', 0.002:'002', 0.003:'003', 0.004:'004', .006:'006', .008:'008', \n",
    "  0.010:'010', 0.014:'014', 0.020:'020', 0.030:'030',  0.040:'040', 1.e-4:'em4', 1.e-5:'em5'}\n",
    "    metallicity_arr = [1.e-5, 1.e-4, 0.001, 0.002, 0.003, 0.004, 0.006, 0.008, 0.01, 0.014, 0.02, 0.03, 0.04]\n",
    "    \n",
    "    Z = find_nearest(metallicity_arr, Z)\n",
    "    Age = find_nearest(Age_arr, Age)\n",
    "    Zstr = metallicity[Z]\n",
    "    fn = 'spectra-sin-imf135_100.z' + Zstr + '.dat'\n",
    "    df = pd.read_csv(fn, delim_whitespace=True, header=None)\n",
    "    df.rename(columns=newNames, inplace=True)\n",
    "    wave = df['Angstrom'].values\n",
    "    spec = df[int(Age)].values #Solar Luminosities per Angstrom, normalised for a cluster of 1e6\n",
    "    # Msun formed in a single instantaneous burst.\n",
    "    d = 5.277e25 #17.1 Mpc in cm \n",
    "    spec *=  3.848e26*1.e7/(4*np.pi*d**2)  #Lsun/A to erg/s/AA to erg/s/AA/cm^2\n",
    "    R_V = 3.1\n",
    "    EBV_20oi = 0.173 \n",
    "    AV_20oi = R_V*EBV_20oi\n",
    "    spec = apply(ccm89(wave, AV_20oi, R_V, unit='aa'), spec) #redden spectrum given the extinction of 0.173 at 2020oi\n",
    "    spec = S.ArraySpectrum(wave, spec, fluxunits='flam')\n",
    "    return spec\n",
    "\n",
    "def gen_HSTphot(spec):\n",
    "    obs814_hrc =S.Observation(spec,S.ObsBandpass('acs,hrc,f814w')).effstim('abmag')\n",
    "    obs555_hrc =S.Observation(spec,S.ObsBandpass('acs,hrc,f555w')).effstim('abmag')\n",
    "    obs330_hrc =S.Observation(spec,S.ObsBandpass('acs,hrc,f330w'),  force='extrap').effstim('abmag')    \n",
    "    obs160_ir = S.Observation(spec,S.ObsBandpass('wfc3,ir,f160w')).effstim('abmag')\n",
    "    obs555_wfc3 = S.Observation(spec,S.ObsBandpass('wfc3,uvis1,f555w')).effstim('abmag')\n",
    "    obs775_wfc3 = S.Observation(spec,S.ObsBandpass('wfc3,uvis1,f775w')).effstim('abmag')\n",
    "    obs475_wfc3 = S.Observation(spec,S.ObsBandpass('wfc3,uvis1,f475w')).effstim('abmag')\n",
    "    \n",
    "    c1 = obs555_hrc - obs814_hrc\n",
    "    c2 = obs330_hrc - obs555_hrc\n",
    "    c3 = obs160_ir - obs330_hrc\n",
    "    c4 = obs160_ir - obs555_wfc3\n",
    "    c5 = obs555_wfc3 - obs775_wfc3\n",
    "    c6 = obs475_wfc3 - obs775_wfc3\n",
    "    c7 = obs330_hrc - obs775_wfc3\n",
    "    c8 = obs160_ir - obs814_hrc\n",
    "    \n",
    "    return np.array([c1, c2, c3, c4, c5, c6, c7, c8]) \n",
    "\n",
    "def gen_phot(spec):\n",
    "    obs814_hrc =S.Observation(spec,S.ObsBandpass('acs,hrc,f814w')).effstim('abmag')\n",
    "    obs555_hrc =S.Observation(spec,S.ObsBandpass('acs,hrc,f555w')).effstim('abmag')\n",
    "    obs330_hrc =S.Observation(spec,S.ObsBandpass('acs,hrc,f330w'),  force='extrap').effstim('abmag')    \n",
    "    obs160_ir = S.Observation(spec,S.ObsBandpass('wfc3,ir,f160w')).effstim('abmag')\n",
    "    obs555_wfc3 = S.Observation(spec,S.ObsBandpass('wfc3,uvis1,f555w')).effstim('abmag')\n",
    "    obs775_wfc3 = S.Observation(spec,S.ObsBandpass('wfc3,uvis1,f775w')).effstim('abmag')\n",
    "    obs475_wfc3 = S.Observation(spec,S.ObsBandpass('wfc3,uvis1,f475w')).effstim('abmag')\n",
    "    \n",
    "    c1 = obs555_hrc - obs814_hrc\n",
    "    c2 = obs330_hrc - obs555_hrc\n",
    "    c3 = obs160_ir - obs330_hrc\n",
    "    c4 = obs160_ir - obs555_wfc3\n",
    "    c5 = obs555_wfc3 - obs775_wfc3\n",
    "    c6 = obs475_wfc3 - obs775_wfc3\n",
    "    c7 = obs330_hrc - obs775_wfc3\n",
    "    c8 = obs160_ir - obs814_hrc\n",
    "    \n",
    "    return np.array([c1, c2, c3, c4, c5, c6, c7, c8])   \n",
    "\n",
    "def fit(theta):\n",
    "    spec = gen_SED(theta)\n",
    "    phot = gen_phot(spec)\n",
    "    return phot"
   ]
  },
  {
   "cell_type": "code",
   "execution_count": 15,
   "metadata": {},
   "outputs": [],
   "source": [
    "HST_20oi = pd.read_csv(\"/Users/alexgagliano/Documents/Research/2020oi/data/photometry/HST_preExplosionPhotometry_dataOnly.csv\", delim_whitespace=True)"
   ]
  },
  {
   "cell_type": "code",
   "execution_count": 16,
   "metadata": {},
   "outputs": [
    {
     "data": {
      "text/plain": [
       "0.005985714285714286"
      ]
     },
     "execution_count": 16,
     "metadata": {},
     "output_type": "execute_result"
    }
   ],
   "source": [
    "np.nanmean(HST_20oi['Uncertainty'])"
   ]
  },
  {
   "cell_type": "code",
   "execution_count": 101,
   "metadata": {},
   "outputs": [],
   "source": [
    "#find the data that has filters represented in prospector\n",
    "ext_corr = {'814_acs/hrc':-0.32325654,\n",
    " '160_ir':-0.10947365, \n",
    " '475_wfc3/uvis':-0.65482049,\n",
    " '555_wfc3/uvis':-0.57856125,\n",
    " '814_wfc3/uvis':-0.32599449}\n",
    "\n",
    "#'acs_wfc_f814w','wfc3_ir_f160w','wfc3_uvis_f475w','wfc3_uvis_f555w','wfc3_uvis_f814w','acs,hrc,f814w','acs,hrc,f555w','acs,hrc,f330w','wfc3,uvis1,f775w'\n",
    "#assuming RV = 3.1 and E(B-V) = 0.174\n",
    "RV = 3.1\n",
    "EBV = 0.174\n",
    "AV = RV*EBV\n",
    "\n",
    "HST_20oi[['Filter', 'Instrument']]\n",
    "#'acs_wfc_f555w','acs_wfc_f775w',\n",
    "#'acs_wfc_f814w','wfc3_ir_f160w','wfc3_uvis_f475w','wfc3_uvis_f555w','wfc3_uvis_f814w'\n",
    "obs_info = {'instrument':np.array(['ACS/WFC', 'WFC3/IR', 'WFC3/UVIS', 'WFC3/UVIS', 'WFC3/UVIS','ACS/HRC','ACS/HRC','ACS/HRC','WFC3/UVIS']), \n",
    "            'filter':np.array(['F814W', 'F160W', 'F475W', 'F555W', 'F814W','F814W','F555W','F330W','F775W'])}\n",
    "obs_set = []\n",
    "obs_err = []\n",
    "for i in np.arange(len(obs_info['filter'])):\n",
    "    obs = HST_20oi[(HST_20oi['Filter'] == obs_info['filter'][i]) & (HST_20oi['Instrument'] == obs_info['instrument'][i])]\n",
    "    #print(obs_info['instrument'][i])\n",
    "    #print(obs_info['filter'][i])\n",
    "    obs_set.append(obs.loc[obs['Uncertainty'] == np.nanmin(obs['Uncertainty']), 'Magnitude'].values[0])\n",
    "    obs_err.append(obs.loc[obs['Uncertainty'] == np.nanmin(obs['Uncertainty']), 'Uncertainty'].values[0])\n",
    "#convert to absolute magnitudes\n",
    "dm = 31.16 #distance of 1.71e7 pc\n",
    "#obs_abs = np.array(obs_set) - dm\n",
    "#rough extinction correction\n",
    "#obs_set -= np.array(list(ext_corr.values()))\n",
    "obs_set = np.array(obs_set)\n",
    "obs_set -= AV\n",
    "\n",
    "obs_err = np.array(obs_err)\n",
    "#ext_err = np.array([-0.0428461 , -0.01454937, -0.08677951, -0.07667928, -0.04321927])\n",
    "ext_err = np.ones(len(obs_err))*0.08\n",
    "#add some uncertainty to the photometry\n",
    "obs_err = np.sqrt(obs_err**2 + ext_err**2)"
   ]
  },
  {
   "cell_type": "code",
   "execution_count": 17,
   "metadata": {},
   "outputs": [],
   "source": [
    "#the actual observations\n",
    "#note - need to convert to Vega AND absolute mag given distance and extinction!! \n",
    "HST_20oi = pd.read_csv(\"/Users/alexgagliano/Documents/Research/2020oi/data/photometry/HST_preExplosionPhotometry_dataOnly.csv\", delim_whitespace=True)\n",
    "HST_20oi = HST_20oi.drop_duplicates(subset=['Instrument', 'Filter'])\n",
    "\n",
    "f814_hrc = HST_20oi.loc[HST_20oi['Instrument'].isin(['ACS/HRC']) & HST_20oi['Filter'].isin(['F814W']), 'Magnitude'].values[0]\n",
    "f555_hrc = HST_20oi.loc[HST_20oi['Instrument'].isin(['ACS/HRC']) & HST_20oi['Filter'].isin(['F555W']), 'Magnitude'].values[0]\n",
    "f330_hrc = HST_20oi.loc[HST_20oi['Instrument'].isin(['ACS/HRC']) & HST_20oi['Filter'].isin(['F330W']), 'Magnitude'].values[0]\n",
    "f160_ir = HST_20oi.loc[HST_20oi['Instrument'].isin(['WFC3/IR']) & HST_20oi['Filter'].isin(['F160W']), 'Magnitude'].values[0]\n",
    "f555_wfc3 = HST_20oi.loc[HST_20oi['Instrument'].isin(['WFC3/UVIS']) & HST_20oi['Filter'].isin(['F555W']), 'Magnitude'].values[0]\n",
    "f775_wfc3 = HST_20oi.loc[HST_20oi['Instrument'].isin(['WFC3/UVIS']) & HST_20oi['Filter'].isin(['F775W']), 'Magnitude'].values[0]\n",
    "f475_wfc3 = HST_20oi.loc[HST_20oi['Instrument'].isin(['WFC3/UVIS']) & HST_20oi['Filter'].isin(['F475W']), 'Magnitude'].values[0]\n",
    "\n",
    "#Filter Name \tData \tPivot Wavelength \tRectangular Width \tSolar Absolute\n",
    "#Magnitude (AB) \tAb to Vega Conversion\n",
    "#(Vega-AB) #http://www.baryons.org/ezgal/filters.php\n",
    "#ACS WFC F814W\te r d\t8055\t1733.27\t4.522\t-0.426\n",
    "#ACS WFC F555W\te r d\t5360\t1124.10\t4.838\t0.005\n",
    "#WFPC2 F555W\te r d\t5442\t1455.36\t4.821\t-0.001\n",
    "\n",
    "#convert to vega \n",
    "#f814_hrc += -0.426 \n",
    "#f555_wfc2 += -0.001\n",
    "\n",
    "dist = 1.71e7 #distance to M100 in parsec\n",
    "\n",
    "f814_hrc_err = HST_20oi.loc[HST_20oi['Instrument'].isin(['ACS/HRC']) & HST_20oi['Filter'].isin(['F814W']), 'Uncertainty'].values[0]\n",
    "f555_hrc_err = HST_20oi.loc[HST_20oi['Instrument'].isin(['ACS/HRC']) & HST_20oi['Filter'].isin(['F555W']), 'Uncertainty'].values[0]\n",
    "f330_hrc_err = HST_20oi.loc[HST_20oi['Instrument'].isin(['ACS/HRC']) & HST_20oi['Filter'].isin(['F330W']), 'Uncertainty'].values[0]\n",
    "f160_ir_err = HST_20oi.loc[HST_20oi['Instrument'].isin(['WFC3/IR']) & HST_20oi['Filter'].isin(['F160W']), 'Uncertainty'].values[0]\n",
    "f555_wfc3_err = HST_20oi.loc[HST_20oi['Instrument'].isin(['WFC3/UVIS']) & HST_20oi['Filter'].isin(['F555W']), 'Uncertainty'].values[0]\n",
    "f775_wfc3_err = HST_20oi.loc[HST_20oi['Instrument'].isin(['WFC3/UVIS']) & HST_20oi['Filter'].isin(['F775W']), 'Uncertainty'].values[0]\n",
    "f475_wfc3_err = HST_20oi.loc[HST_20oi['Instrument'].isin(['WFC3/UVIS']) & HST_20oi['Filter'].isin(['F475W']), 'Uncertainty'].values[0]\n",
    "\n",
    "#convert to absolute magnitude \n",
    "M_f814_hrc = f814_hrc# - 5* np.log10(dist/10)\n",
    "M_f555_hrc = f555_hrc# - 5* np.log10(dist/10)\n",
    "M_f330_hrc = f330_hrc #- 5* np.log10(dist/10)\n",
    "M_f160_ir = f160_ir #- 5* np.log10(dist/10)\n",
    "M_f555_wfc3 = f555_wfc3 #- 5*np.log10(dist/10)\n",
    "M_f775_wfc3 = f775_wfc3# - 5* np.log10(dist/10)\n",
    "M_f475_wfc3 = f475_wfc3# - 5* np.log10(dist/10)\n",
    "\n",
    "#correct for extinction \n",
    "import extinction\n",
    "\n",
    "wave = np.array([8035.76, 5326.63, 3368.32, 15279.08, 5234.60, 7616.00, 4732.43])  # wavelength in Angstroms\n",
    "EBV = 0.174 #= A_V/R_V\n",
    "AV = 3.1*EBV\n",
    "# Assuming R_V is 3.1, A_V is then 0.5363 for 2020oi\n",
    "ext814_hrc, ext555_hrc, ext330_hrc, ext160_ir, ext555_wfc3, ext775_wfc3, ext475_wfc3 = extinction.fitzpatrick99(wave, EBV, 3.1) # Fitzpatrick (1999)\n",
    "#apply extinction to photometry \n",
    "#M_f814_hrc -= ext814_hrc\n",
    "#M_f555_hrc -= ext555_hrc\n",
    "#M_f330_hrc -= ext330_hrc\n",
    "#M_f160_ir -= ext160_ir\n",
    "#M_f555_wfc3 -= ext555_wfc3\n",
    "#M_f775_wfc3 -= ext775_wfc3\n",
    "#M_f475_wfc3 -= ext475_wfc3\n",
    "\n",
    "#f814w - 8115.3 angstroms\n",
    "#f555w - 5356 angstroms"
   ]
  },
  {
   "cell_type": "code",
   "execution_count": 18,
   "metadata": {},
   "outputs": [],
   "source": [
    "model_sig = np.array([0.02060751, 0.02036466, 0.03641581, 0.03167551, 0.0175658,  0.02306005, 0.03590246, 0.03181545])\n",
    "\n",
    "#ebvHigh = 0.174+ 0.028\n",
    "#ebvLow = 0.174- 0.028\n",
    "\n",
    "#correct for extinction \n",
    "import extinction\n",
    "\n",
    "wave = np.array([8035.76, 5326.63, 3368.32, 15279.08, 5234.60, 7616.00, 4732.43])  # wavelength in Angstroms\n",
    "EBVH = 0.174+0.028 #= A_V/R_V\n",
    "EBVL = 0.174-0.028 #= A_V/R_V\n",
    "AV = 3.1*EBV\n",
    "# Assuming R_V is 3.1, A_V is then 0.5363 for 2020oi\n",
    "ext814_hrcH, ext555_hrcH, ext330_hrcH, ext160_irH, ext555_wfc3H, ext775_wfc3H, ext475_wfc3H = extinction.fitzpatrick99(wave, EBVH, 3.1)\n",
    "ext814_hrcL, ext555_hrcL, ext330_hrcL, ext160_irL, ext555_wfc3L, ext775_wfc3L, ext475_wfc3L = extinction.fitzpatrick99(wave, EBVL, 3.1)\n",
    "\n",
    "bands_sig = [ext814_hrcH - ext814_hrcL, ext555_hrcH - ext555_hrcL, ext330_hrcH - ext330_hrcL, ext160_irH - ext160_irL, ext555_wfc3H - ext555_wfc3L, ext775_wfc3H - ext775_wfc3L, ext475_wfc3H - ext475_wfc3L]\n",
    "color_sig = [np.sqrt(bands_sig[0]**2 + bands_sig[1]**2), \n",
    "             np.sqrt(bands_sig[1]**2 + bands_sig[2]**2), \n",
    "             np.sqrt(bands_sig[2]**2 + bands_sig[3]**2), \n",
    "             np.sqrt(bands_sig[3]**2 + bands_sig[4]**2), \n",
    "             np.sqrt(bands_sig[4]**2 + bands_sig[5]**2), \n",
    "             np.sqrt(bands_sig[5]**2 + bands_sig[6]**2), \n",
    "             np.sqrt(bands_sig[5]**2 + bands_sig[2]**2), \n",
    "             np.sqrt(bands_sig[0]**2 + bands_sig[3]**2)\n",
    "            ]\n",
    "\n",
    "def chi_sq(theta):    \n",
    "    chisq = np.zeros(len(obs_sig))\n",
    "    obs_sig_temp = np.round(obs_sig, 4)\n",
    "    #print(obs_temp)\n",
    "    #print(fit_interp(theta))\n",
    "    for i in np.arange(len(chisq)):\n",
    "        tempval = (fit(theta)[i] - obs[i])**2/(obs_sig_temp[i]**2 + model_sig[i]**2 + color_sig[i]**2)\n",
    "        chisq[i] += tempval #change to the interpolation functions\n",
    "      #  print(i)\n",
    "      #  print(tempval)\n",
    "    return np.sum(chisq)\n",
    "\n",
    "def neg_log_likelihood(theta):    \n",
    "#    \"\"\"The log-likelihood function.\"\"\"#\n",
    "    return 0.5*chi_sq(theta)\n",
    "\n",
    "def loglike(theta):    \n",
    "#    \"\"\"The log-likelihood function.\"\"\"#\n",
    "    return -0.5*chi_sq(theta)"
   ]
  },
  {
   "cell_type": "code",
   "execution_count": 19,
   "metadata": {},
   "outputs": [],
   "source": [
    "metallicity = {0.001: '001', 0.002:'002', 0.003:'003', 0.004:'004', .006:'006', .008:'008', \n",
    "0.010:'010', 0.014:'014', 0.020:'020', 0.030:'030',  0.040:'040', 1.e-4:'em4', 1.e-5:'em5'}\n",
    "\n",
    "metallicity_arr = [1.e-5, 1.e-4, 0.001, 0.002, 0.003, 0.004, 0.006, 0.008, 0.01, 0.014, 0.02, 0.03, 0.04]\n",
    "logage_arr = np.linspace(6,11,51)\n",
    "\n",
    "obs_c1 = M_f555_hrc - M_f814_hrc\n",
    "obs_c2 = M_f330_hrc - M_f555_hrc\n",
    "obs_c3 = M_f160_ir - M_f330_hrc \n",
    "obs_c4 = M_f160_ir - M_f555_wfc3\n",
    "obs_c5 = M_f555_wfc3 - M_f775_wfc3\n",
    "obs_c6 = M_f475_wfc3 - M_f775_wfc3 \n",
    "obs_c7 = M_f330_hrc - M_f775_wfc3 \n",
    "obs_c8 = M_f160_ir - M_f814_hrc\n",
    "\n",
    "obs = np.array([obs_c1, obs_c2, obs_c3, obs_c4, obs_c5, obs_c6, obs_c7, obs_c8])\n",
    "\n",
    "obs_c1_err = np.sqrt(f814_hrc_err**2 + f475_wfc3_err**2)\n",
    "obs_c2_err = np.sqrt(f555_hrc_err**2 + f330_hrc_err**2)\n",
    "obs_c3_err = np.sqrt(f330_hrc_err**2 + f160_ir_err**2)\n",
    "obs_c4_err = np.sqrt(f160_ir_err**2 + f555_wfc3_err**2)\n",
    "obs_c5_err = np.sqrt(f555_wfc3_err**2 + f775_wfc3_err**2)\n",
    "obs_c6_err = np.sqrt(f775_wfc3_err**2 + f475_wfc3_err**2)\n",
    "obs_c7_err = np.sqrt(f775_wfc3_err**2 + f330_hrc_err**2)\n",
    "obs_c8_err = np.sqrt(f814_hrc_err**2 + f160_ir_err**2)\n",
    "\n",
    "obs_sig = np.array([obs_c1_err, obs_c2_err, obs_c3_err, obs_c4_err, obs_c5_err, obs_c6_err, obs_c7_err, obs_c8_err])"
   ]
  },
  {
   "cell_type": "code",
   "execution_count": 50,
   "metadata": {},
   "outputs": [
    {
     "ename": "KeyboardInterrupt",
     "evalue": "",
     "output_type": "error",
     "traceback": [
      "\u001b[0;31m---------------------------------------------------------------------------\u001b[0m",
      "\u001b[0;31mKeyboardInterrupt\u001b[0m                         Traceback (most recent call last)",
      "\u001b[0;32m<ipython-input-50-b5fb03741b0f>\u001b[0m in \u001b[0;36m<module>\u001b[0;34m\u001b[0m\n\u001b[1;32m     18\u001b[0m             \u001b[0mzz_160_MIN_330\u001b[0m\u001b[0;34m[\u001b[0m\u001b[0mi\u001b[0m\u001b[0;34m]\u001b[0m\u001b[0;34m[\u001b[0m\u001b[0mj\u001b[0m\u001b[0;34m]\u001b[0m \u001b[0;34m=\u001b[0m \u001b[0mfit\u001b[0m\u001b[0;34m(\u001b[0m\u001b[0mnp\u001b[0m\u001b[0;34m.\u001b[0m\u001b[0marray\u001b[0m\u001b[0;34m(\u001b[0m\u001b[0;34m[\u001b[0m\u001b[0mxx\u001b[0m\u001b[0;34m[\u001b[0m\u001b[0mi\u001b[0m\u001b[0;34m]\u001b[0m\u001b[0;34m[\u001b[0m\u001b[0mj\u001b[0m\u001b[0;34m]\u001b[0m\u001b[0;34m,\u001b[0m \u001b[0myy\u001b[0m\u001b[0;34m[\u001b[0m\u001b[0mi\u001b[0m\u001b[0;34m]\u001b[0m\u001b[0;34m[\u001b[0m\u001b[0mj\u001b[0m\u001b[0;34m]\u001b[0m\u001b[0;34m]\u001b[0m\u001b[0;34m)\u001b[0m\u001b[0;34m)\u001b[0m\u001b[0;34m[\u001b[0m\u001b[0;36m2\u001b[0m\u001b[0;34m]\u001b[0m\u001b[0;34m\u001b[0m\u001b[0;34m\u001b[0m\u001b[0m\n\u001b[1;32m     19\u001b[0m             \u001b[0mzz_160_MIN_555\u001b[0m\u001b[0;34m[\u001b[0m\u001b[0mi\u001b[0m\u001b[0;34m]\u001b[0m\u001b[0;34m[\u001b[0m\u001b[0mj\u001b[0m\u001b[0;34m]\u001b[0m \u001b[0;34m=\u001b[0m \u001b[0mfit\u001b[0m\u001b[0;34m(\u001b[0m\u001b[0mnp\u001b[0m\u001b[0;34m.\u001b[0m\u001b[0marray\u001b[0m\u001b[0;34m(\u001b[0m\u001b[0;34m[\u001b[0m\u001b[0mxx\u001b[0m\u001b[0;34m[\u001b[0m\u001b[0mi\u001b[0m\u001b[0;34m]\u001b[0m\u001b[0;34m[\u001b[0m\u001b[0mj\u001b[0m\u001b[0;34m]\u001b[0m\u001b[0;34m,\u001b[0m \u001b[0myy\u001b[0m\u001b[0;34m[\u001b[0m\u001b[0mi\u001b[0m\u001b[0;34m]\u001b[0m\u001b[0;34m[\u001b[0m\u001b[0mj\u001b[0m\u001b[0;34m]\u001b[0m\u001b[0;34m]\u001b[0m\u001b[0;34m)\u001b[0m\u001b[0;34m)\u001b[0m\u001b[0;34m[\u001b[0m\u001b[0;36m3\u001b[0m\u001b[0;34m]\u001b[0m\u001b[0;34m\u001b[0m\u001b[0;34m\u001b[0m\u001b[0m\n\u001b[0;32m---> 20\u001b[0;31m             \u001b[0mzz_555_MIN_775\u001b[0m\u001b[0;34m[\u001b[0m\u001b[0mi\u001b[0m\u001b[0;34m]\u001b[0m\u001b[0;34m[\u001b[0m\u001b[0mj\u001b[0m\u001b[0;34m]\u001b[0m \u001b[0;34m=\u001b[0m \u001b[0mfit\u001b[0m\u001b[0;34m(\u001b[0m\u001b[0mnp\u001b[0m\u001b[0;34m.\u001b[0m\u001b[0marray\u001b[0m\u001b[0;34m(\u001b[0m\u001b[0;34m[\u001b[0m\u001b[0mxx\u001b[0m\u001b[0;34m[\u001b[0m\u001b[0mi\u001b[0m\u001b[0;34m]\u001b[0m\u001b[0;34m[\u001b[0m\u001b[0mj\u001b[0m\u001b[0;34m]\u001b[0m\u001b[0;34m,\u001b[0m \u001b[0myy\u001b[0m\u001b[0;34m[\u001b[0m\u001b[0mi\u001b[0m\u001b[0;34m]\u001b[0m\u001b[0;34m[\u001b[0m\u001b[0mj\u001b[0m\u001b[0;34m]\u001b[0m\u001b[0;34m]\u001b[0m\u001b[0;34m)\u001b[0m\u001b[0;34m)\u001b[0m\u001b[0;34m[\u001b[0m\u001b[0;36m4\u001b[0m\u001b[0;34m]\u001b[0m\u001b[0;34m\u001b[0m\u001b[0;34m\u001b[0m\u001b[0m\n\u001b[0m\u001b[1;32m     21\u001b[0m             \u001b[0mzz_475_MIN_775\u001b[0m\u001b[0;34m[\u001b[0m\u001b[0mi\u001b[0m\u001b[0;34m]\u001b[0m\u001b[0;34m[\u001b[0m\u001b[0mj\u001b[0m\u001b[0;34m]\u001b[0m \u001b[0;34m=\u001b[0m \u001b[0mfit\u001b[0m\u001b[0;34m(\u001b[0m\u001b[0mnp\u001b[0m\u001b[0;34m.\u001b[0m\u001b[0marray\u001b[0m\u001b[0;34m(\u001b[0m\u001b[0;34m[\u001b[0m\u001b[0mxx\u001b[0m\u001b[0;34m[\u001b[0m\u001b[0mi\u001b[0m\u001b[0;34m]\u001b[0m\u001b[0;34m[\u001b[0m\u001b[0mj\u001b[0m\u001b[0;34m]\u001b[0m\u001b[0;34m,\u001b[0m \u001b[0myy\u001b[0m\u001b[0;34m[\u001b[0m\u001b[0mi\u001b[0m\u001b[0;34m]\u001b[0m\u001b[0;34m[\u001b[0m\u001b[0mj\u001b[0m\u001b[0;34m]\u001b[0m\u001b[0;34m]\u001b[0m\u001b[0;34m)\u001b[0m\u001b[0;34m)\u001b[0m\u001b[0;34m[\u001b[0m\u001b[0;36m5\u001b[0m\u001b[0;34m]\u001b[0m\u001b[0;34m\u001b[0m\u001b[0;34m\u001b[0m\u001b[0m\n\u001b[1;32m     22\u001b[0m             \u001b[0mzz_330_MIN_775\u001b[0m\u001b[0;34m[\u001b[0m\u001b[0mi\u001b[0m\u001b[0;34m]\u001b[0m\u001b[0;34m[\u001b[0m\u001b[0mj\u001b[0m\u001b[0;34m]\u001b[0m \u001b[0;34m=\u001b[0m \u001b[0mfit\u001b[0m\u001b[0;34m(\u001b[0m\u001b[0mnp\u001b[0m\u001b[0;34m.\u001b[0m\u001b[0marray\u001b[0m\u001b[0;34m(\u001b[0m\u001b[0;34m[\u001b[0m\u001b[0mxx\u001b[0m\u001b[0;34m[\u001b[0m\u001b[0mi\u001b[0m\u001b[0;34m]\u001b[0m\u001b[0;34m[\u001b[0m\u001b[0mj\u001b[0m\u001b[0;34m]\u001b[0m\u001b[0;34m,\u001b[0m \u001b[0myy\u001b[0m\u001b[0;34m[\u001b[0m\u001b[0mi\u001b[0m\u001b[0;34m]\u001b[0m\u001b[0;34m[\u001b[0m\u001b[0mj\u001b[0m\u001b[0;34m]\u001b[0m\u001b[0;34m]\u001b[0m\u001b[0;34m)\u001b[0m\u001b[0;34m)\u001b[0m\u001b[0;34m[\u001b[0m\u001b[0;36m6\u001b[0m\u001b[0;34m]\u001b[0m\u001b[0;34m\u001b[0m\u001b[0;34m\u001b[0m\u001b[0m\n",
      "\u001b[0;32m<ipython-input-44-d4d60bd2fa6f>\u001b[0m in \u001b[0;36mfit\u001b[0;34m(theta)\u001b[0m\n\u001b[1;32m     56\u001b[0m \u001b[0;34m\u001b[0m\u001b[0m\n\u001b[1;32m     57\u001b[0m \u001b[0;32mdef\u001b[0m \u001b[0mfit\u001b[0m\u001b[0;34m(\u001b[0m\u001b[0mtheta\u001b[0m\u001b[0;34m)\u001b[0m\u001b[0;34m:\u001b[0m\u001b[0;34m\u001b[0m\u001b[0;34m\u001b[0m\u001b[0m\n\u001b[0;32m---> 58\u001b[0;31m     \u001b[0mspec\u001b[0m \u001b[0;34m=\u001b[0m \u001b[0mgen_SED\u001b[0m\u001b[0;34m(\u001b[0m\u001b[0mtheta\u001b[0m\u001b[0;34m)\u001b[0m\u001b[0;34m\u001b[0m\u001b[0;34m\u001b[0m\u001b[0m\n\u001b[0m\u001b[1;32m     59\u001b[0m     \u001b[0mphot\u001b[0m \u001b[0;34m=\u001b[0m \u001b[0mgen_phot\u001b[0m\u001b[0;34m(\u001b[0m\u001b[0mspec\u001b[0m\u001b[0;34m)\u001b[0m\u001b[0;34m\u001b[0m\u001b[0;34m\u001b[0m\u001b[0m\n\u001b[1;32m     60\u001b[0m     \u001b[0;32mreturn\u001b[0m \u001b[0mphot\u001b[0m\u001b[0;34m\u001b[0m\u001b[0;34m\u001b[0m\u001b[0m\n",
      "\u001b[0;32m<ipython-input-44-d4d60bd2fa6f>\u001b[0m in \u001b[0;36mgen_SED\u001b[0;34m(theta)\u001b[0m\n\u001b[1;32m     21\u001b[0m     \u001b[0mZstr\u001b[0m \u001b[0;34m=\u001b[0m \u001b[0mmetallicity\u001b[0m\u001b[0;34m[\u001b[0m\u001b[0mZ\u001b[0m\u001b[0;34m]\u001b[0m\u001b[0;34m\u001b[0m\u001b[0;34m\u001b[0m\u001b[0m\n\u001b[1;32m     22\u001b[0m     \u001b[0mfn\u001b[0m \u001b[0;34m=\u001b[0m \u001b[0;34m'spectra-sin-imf135_100.z'\u001b[0m \u001b[0;34m+\u001b[0m \u001b[0mZstr\u001b[0m \u001b[0;34m+\u001b[0m \u001b[0;34m'.dat'\u001b[0m\u001b[0;34m\u001b[0m\u001b[0;34m\u001b[0m\u001b[0m\n\u001b[0;32m---> 23\u001b[0;31m     \u001b[0mdf\u001b[0m \u001b[0;34m=\u001b[0m \u001b[0mpd\u001b[0m\u001b[0;34m.\u001b[0m\u001b[0mread_csv\u001b[0m\u001b[0;34m(\u001b[0m\u001b[0mfn\u001b[0m\u001b[0;34m,\u001b[0m \u001b[0mdelim_whitespace\u001b[0m\u001b[0;34m=\u001b[0m\u001b[0;32mTrue\u001b[0m\u001b[0;34m,\u001b[0m \u001b[0mheader\u001b[0m\u001b[0;34m=\u001b[0m\u001b[0;32mNone\u001b[0m\u001b[0;34m)\u001b[0m\u001b[0;34m\u001b[0m\u001b[0;34m\u001b[0m\u001b[0m\n\u001b[0m\u001b[1;32m     24\u001b[0m     \u001b[0mdf\u001b[0m\u001b[0;34m.\u001b[0m\u001b[0mrename\u001b[0m\u001b[0;34m(\u001b[0m\u001b[0mcolumns\u001b[0m\u001b[0;34m=\u001b[0m\u001b[0mnewNames\u001b[0m\u001b[0;34m,\u001b[0m \u001b[0minplace\u001b[0m\u001b[0;34m=\u001b[0m\u001b[0;32mTrue\u001b[0m\u001b[0;34m)\u001b[0m\u001b[0;34m\u001b[0m\u001b[0;34m\u001b[0m\u001b[0m\n\u001b[1;32m     25\u001b[0m     \u001b[0mwave\u001b[0m \u001b[0;34m=\u001b[0m \u001b[0mdf\u001b[0m\u001b[0;34m[\u001b[0m\u001b[0;34m'Angstrom'\u001b[0m\u001b[0;34m]\u001b[0m\u001b[0;34m.\u001b[0m\u001b[0mvalues\u001b[0m\u001b[0;34m\u001b[0m\u001b[0;34m\u001b[0m\u001b[0m\n",
      "\u001b[0;32m~/miniconda3/lib/python3.7/site-packages/pandas/io/parsers.py\u001b[0m in \u001b[0;36mparser_f\u001b[0;34m(filepath_or_buffer, sep, delimiter, header, names, index_col, usecols, squeeze, prefix, mangle_dupe_cols, dtype, engine, converters, true_values, false_values, skipinitialspace, skiprows, skipfooter, nrows, na_values, keep_default_na, na_filter, verbose, skip_blank_lines, parse_dates, infer_datetime_format, keep_date_col, date_parser, dayfirst, cache_dates, iterator, chunksize, compression, thousands, decimal, lineterminator, quotechar, quoting, doublequote, escapechar, comment, encoding, dialect, error_bad_lines, warn_bad_lines, delim_whitespace, low_memory, memory_map, float_precision)\u001b[0m\n\u001b[1;32m    674\u001b[0m         )\n\u001b[1;32m    675\u001b[0m \u001b[0;34m\u001b[0m\u001b[0m\n\u001b[0;32m--> 676\u001b[0;31m         \u001b[0;32mreturn\u001b[0m \u001b[0m_read\u001b[0m\u001b[0;34m(\u001b[0m\u001b[0mfilepath_or_buffer\u001b[0m\u001b[0;34m,\u001b[0m \u001b[0mkwds\u001b[0m\u001b[0;34m)\u001b[0m\u001b[0;34m\u001b[0m\u001b[0;34m\u001b[0m\u001b[0m\n\u001b[0m\u001b[1;32m    677\u001b[0m \u001b[0;34m\u001b[0m\u001b[0m\n\u001b[1;32m    678\u001b[0m     \u001b[0mparser_f\u001b[0m\u001b[0;34m.\u001b[0m\u001b[0m__name__\u001b[0m \u001b[0;34m=\u001b[0m \u001b[0mname\u001b[0m\u001b[0;34m\u001b[0m\u001b[0;34m\u001b[0m\u001b[0m\n",
      "\u001b[0;32m~/miniconda3/lib/python3.7/site-packages/pandas/io/parsers.py\u001b[0m in \u001b[0;36m_read\u001b[0;34m(filepath_or_buffer, kwds)\u001b[0m\n\u001b[1;32m    452\u001b[0m \u001b[0;34m\u001b[0m\u001b[0m\n\u001b[1;32m    453\u001b[0m     \u001b[0;32mtry\u001b[0m\u001b[0;34m:\u001b[0m\u001b[0;34m\u001b[0m\u001b[0;34m\u001b[0m\u001b[0m\n\u001b[0;32m--> 454\u001b[0;31m         \u001b[0mdata\u001b[0m \u001b[0;34m=\u001b[0m \u001b[0mparser\u001b[0m\u001b[0;34m.\u001b[0m\u001b[0mread\u001b[0m\u001b[0;34m(\u001b[0m\u001b[0mnrows\u001b[0m\u001b[0;34m)\u001b[0m\u001b[0;34m\u001b[0m\u001b[0;34m\u001b[0m\u001b[0m\n\u001b[0m\u001b[1;32m    455\u001b[0m     \u001b[0;32mfinally\u001b[0m\u001b[0;34m:\u001b[0m\u001b[0;34m\u001b[0m\u001b[0;34m\u001b[0m\u001b[0m\n\u001b[1;32m    456\u001b[0m         \u001b[0mparser\u001b[0m\u001b[0;34m.\u001b[0m\u001b[0mclose\u001b[0m\u001b[0;34m(\u001b[0m\u001b[0;34m)\u001b[0m\u001b[0;34m\u001b[0m\u001b[0;34m\u001b[0m\u001b[0m\n",
      "\u001b[0;32m~/miniconda3/lib/python3.7/site-packages/pandas/io/parsers.py\u001b[0m in \u001b[0;36mread\u001b[0;34m(self, nrows)\u001b[0m\n\u001b[1;32m   1146\u001b[0m             \u001b[0mnew_rows\u001b[0m \u001b[0;34m=\u001b[0m \u001b[0mlen\u001b[0m\u001b[0;34m(\u001b[0m\u001b[0mindex\u001b[0m\u001b[0;34m)\u001b[0m\u001b[0;34m\u001b[0m\u001b[0;34m\u001b[0m\u001b[0m\n\u001b[1;32m   1147\u001b[0m \u001b[0;34m\u001b[0m\u001b[0m\n\u001b[0;32m-> 1148\u001b[0;31m         \u001b[0mdf\u001b[0m \u001b[0;34m=\u001b[0m \u001b[0mDataFrame\u001b[0m\u001b[0;34m(\u001b[0m\u001b[0mcol_dict\u001b[0m\u001b[0;34m,\u001b[0m \u001b[0mcolumns\u001b[0m\u001b[0;34m=\u001b[0m\u001b[0mcolumns\u001b[0m\u001b[0;34m,\u001b[0m \u001b[0mindex\u001b[0m\u001b[0;34m=\u001b[0m\u001b[0mindex\u001b[0m\u001b[0;34m)\u001b[0m\u001b[0;34m\u001b[0m\u001b[0;34m\u001b[0m\u001b[0m\n\u001b[0m\u001b[1;32m   1149\u001b[0m \u001b[0;34m\u001b[0m\u001b[0m\n\u001b[1;32m   1150\u001b[0m         \u001b[0mself\u001b[0m\u001b[0;34m.\u001b[0m\u001b[0m_currow\u001b[0m \u001b[0;34m+=\u001b[0m \u001b[0mnew_rows\u001b[0m\u001b[0;34m\u001b[0m\u001b[0;34m\u001b[0m\u001b[0m\n",
      "\u001b[0;32m~/miniconda3/lib/python3.7/site-packages/pandas/core/frame.py\u001b[0m in \u001b[0;36m__init__\u001b[0;34m(self, data, index, columns, dtype, copy)\u001b[0m\n\u001b[1;32m    433\u001b[0m             )\n\u001b[1;32m    434\u001b[0m         \u001b[0;32melif\u001b[0m \u001b[0misinstance\u001b[0m\u001b[0;34m(\u001b[0m\u001b[0mdata\u001b[0m\u001b[0;34m,\u001b[0m \u001b[0mdict\u001b[0m\u001b[0;34m)\u001b[0m\u001b[0;34m:\u001b[0m\u001b[0;34m\u001b[0m\u001b[0;34m\u001b[0m\u001b[0m\n\u001b[0;32m--> 435\u001b[0;31m             \u001b[0mmgr\u001b[0m \u001b[0;34m=\u001b[0m \u001b[0minit_dict\u001b[0m\u001b[0;34m(\u001b[0m\u001b[0mdata\u001b[0m\u001b[0;34m,\u001b[0m \u001b[0mindex\u001b[0m\u001b[0;34m,\u001b[0m \u001b[0mcolumns\u001b[0m\u001b[0;34m,\u001b[0m \u001b[0mdtype\u001b[0m\u001b[0;34m=\u001b[0m\u001b[0mdtype\u001b[0m\u001b[0;34m)\u001b[0m\u001b[0;34m\u001b[0m\u001b[0;34m\u001b[0m\u001b[0m\n\u001b[0m\u001b[1;32m    436\u001b[0m         \u001b[0;32melif\u001b[0m \u001b[0misinstance\u001b[0m\u001b[0;34m(\u001b[0m\u001b[0mdata\u001b[0m\u001b[0;34m,\u001b[0m \u001b[0mma\u001b[0m\u001b[0;34m.\u001b[0m\u001b[0mMaskedArray\u001b[0m\u001b[0;34m)\u001b[0m\u001b[0;34m:\u001b[0m\u001b[0;34m\u001b[0m\u001b[0;34m\u001b[0m\u001b[0m\n\u001b[1;32m    437\u001b[0m             \u001b[0;32mimport\u001b[0m \u001b[0mnumpy\u001b[0m\u001b[0;34m.\u001b[0m\u001b[0mma\u001b[0m\u001b[0;34m.\u001b[0m\u001b[0mmrecords\u001b[0m \u001b[0;32mas\u001b[0m \u001b[0mmrecords\u001b[0m\u001b[0;34m\u001b[0m\u001b[0;34m\u001b[0m\u001b[0m\n",
      "\u001b[0;32m~/miniconda3/lib/python3.7/site-packages/pandas/core/internals/construction.py\u001b[0m in \u001b[0;36minit_dict\u001b[0;34m(data, index, columns, dtype)\u001b[0m\n\u001b[1;32m    252\u001b[0m             \u001b[0marr\u001b[0m \u001b[0;32mif\u001b[0m \u001b[0;32mnot\u001b[0m \u001b[0mis_datetime64tz_dtype\u001b[0m\u001b[0;34m(\u001b[0m\u001b[0marr\u001b[0m\u001b[0;34m)\u001b[0m \u001b[0;32melse\u001b[0m \u001b[0marr\u001b[0m\u001b[0;34m.\u001b[0m\u001b[0mcopy\u001b[0m\u001b[0;34m(\u001b[0m\u001b[0;34m)\u001b[0m \u001b[0;32mfor\u001b[0m \u001b[0marr\u001b[0m \u001b[0;32min\u001b[0m \u001b[0marrays\u001b[0m\u001b[0;34m\u001b[0m\u001b[0;34m\u001b[0m\u001b[0m\n\u001b[1;32m    253\u001b[0m         ]\n\u001b[0;32m--> 254\u001b[0;31m     \u001b[0;32mreturn\u001b[0m \u001b[0marrays_to_mgr\u001b[0m\u001b[0;34m(\u001b[0m\u001b[0marrays\u001b[0m\u001b[0;34m,\u001b[0m \u001b[0mdata_names\u001b[0m\u001b[0;34m,\u001b[0m \u001b[0mindex\u001b[0m\u001b[0;34m,\u001b[0m \u001b[0mcolumns\u001b[0m\u001b[0;34m,\u001b[0m \u001b[0mdtype\u001b[0m\u001b[0;34m=\u001b[0m\u001b[0mdtype\u001b[0m\u001b[0;34m)\u001b[0m\u001b[0;34m\u001b[0m\u001b[0;34m\u001b[0m\u001b[0m\n\u001b[0m\u001b[1;32m    255\u001b[0m \u001b[0;34m\u001b[0m\u001b[0m\n\u001b[1;32m    256\u001b[0m \u001b[0;34m\u001b[0m\u001b[0m\n",
      "\u001b[0;32m~/miniconda3/lib/python3.7/site-packages/pandas/core/internals/construction.py\u001b[0m in \u001b[0;36marrays_to_mgr\u001b[0;34m(arrays, arr_names, index, columns, dtype)\u001b[0m\n\u001b[1;32m     72\u001b[0m     \u001b[0maxes\u001b[0m \u001b[0;34m=\u001b[0m \u001b[0;34m[\u001b[0m\u001b[0mensure_index\u001b[0m\u001b[0;34m(\u001b[0m\u001b[0mcolumns\u001b[0m\u001b[0;34m)\u001b[0m\u001b[0;34m,\u001b[0m \u001b[0mindex\u001b[0m\u001b[0;34m]\u001b[0m\u001b[0;34m\u001b[0m\u001b[0;34m\u001b[0m\u001b[0m\n\u001b[1;32m     73\u001b[0m \u001b[0;34m\u001b[0m\u001b[0m\n\u001b[0;32m---> 74\u001b[0;31m     \u001b[0;32mreturn\u001b[0m \u001b[0mcreate_block_manager_from_arrays\u001b[0m\u001b[0;34m(\u001b[0m\u001b[0marrays\u001b[0m\u001b[0;34m,\u001b[0m \u001b[0marr_names\u001b[0m\u001b[0;34m,\u001b[0m \u001b[0maxes\u001b[0m\u001b[0;34m)\u001b[0m\u001b[0;34m\u001b[0m\u001b[0;34m\u001b[0m\u001b[0m\n\u001b[0m\u001b[1;32m     75\u001b[0m \u001b[0;34m\u001b[0m\u001b[0m\n\u001b[1;32m     76\u001b[0m \u001b[0;34m\u001b[0m\u001b[0m\n",
      "\u001b[0;32m~/miniconda3/lib/python3.7/site-packages/pandas/core/internals/managers.py\u001b[0m in \u001b[0;36mcreate_block_manager_from_arrays\u001b[0;34m(arrays, names, axes)\u001b[0m\n\u001b[1;32m   1668\u001b[0m \u001b[0;34m\u001b[0m\u001b[0m\n\u001b[1;32m   1669\u001b[0m     \u001b[0;32mtry\u001b[0m\u001b[0;34m:\u001b[0m\u001b[0;34m\u001b[0m\u001b[0;34m\u001b[0m\u001b[0m\n\u001b[0;32m-> 1670\u001b[0;31m         \u001b[0mblocks\u001b[0m \u001b[0;34m=\u001b[0m \u001b[0mform_blocks\u001b[0m\u001b[0;34m(\u001b[0m\u001b[0marrays\u001b[0m\u001b[0;34m,\u001b[0m \u001b[0mnames\u001b[0m\u001b[0;34m,\u001b[0m \u001b[0maxes\u001b[0m\u001b[0;34m)\u001b[0m\u001b[0;34m\u001b[0m\u001b[0;34m\u001b[0m\u001b[0m\n\u001b[0m\u001b[1;32m   1671\u001b[0m         \u001b[0mmgr\u001b[0m \u001b[0;34m=\u001b[0m \u001b[0mBlockManager\u001b[0m\u001b[0;34m(\u001b[0m\u001b[0mblocks\u001b[0m\u001b[0;34m,\u001b[0m \u001b[0maxes\u001b[0m\u001b[0;34m)\u001b[0m\u001b[0;34m\u001b[0m\u001b[0;34m\u001b[0m\u001b[0m\n\u001b[1;32m   1672\u001b[0m         \u001b[0mmgr\u001b[0m\u001b[0;34m.\u001b[0m\u001b[0m_consolidate_inplace\u001b[0m\u001b[0;34m(\u001b[0m\u001b[0;34m)\u001b[0m\u001b[0;34m\u001b[0m\u001b[0;34m\u001b[0m\u001b[0m\n",
      "\u001b[0;32m~/miniconda3/lib/python3.7/site-packages/pandas/core/internals/managers.py\u001b[0m in \u001b[0;36mform_blocks\u001b[0;34m(arrays, names, axes)\u001b[0m\n\u001b[1;32m   1724\u001b[0m     \u001b[0mblocks\u001b[0m \u001b[0;34m=\u001b[0m \u001b[0;34m[\u001b[0m\u001b[0;34m]\u001b[0m\u001b[0;34m\u001b[0m\u001b[0;34m\u001b[0m\u001b[0m\n\u001b[1;32m   1725\u001b[0m     \u001b[0;32mif\u001b[0m \u001b[0mlen\u001b[0m\u001b[0;34m(\u001b[0m\u001b[0mitems_dict\u001b[0m\u001b[0;34m[\u001b[0m\u001b[0;34m\"FloatBlock\"\u001b[0m\u001b[0;34m]\u001b[0m\u001b[0;34m)\u001b[0m\u001b[0;34m:\u001b[0m\u001b[0;34m\u001b[0m\u001b[0;34m\u001b[0m\u001b[0m\n\u001b[0;32m-> 1726\u001b[0;31m         \u001b[0mfloat_blocks\u001b[0m \u001b[0;34m=\u001b[0m \u001b[0m_multi_blockify\u001b[0m\u001b[0;34m(\u001b[0m\u001b[0mitems_dict\u001b[0m\u001b[0;34m[\u001b[0m\u001b[0;34m\"FloatBlock\"\u001b[0m\u001b[0;34m]\u001b[0m\u001b[0;34m)\u001b[0m\u001b[0;34m\u001b[0m\u001b[0;34m\u001b[0m\u001b[0m\n\u001b[0m\u001b[1;32m   1727\u001b[0m         \u001b[0mblocks\u001b[0m\u001b[0;34m.\u001b[0m\u001b[0mextend\u001b[0m\u001b[0;34m(\u001b[0m\u001b[0mfloat_blocks\u001b[0m\u001b[0;34m)\u001b[0m\u001b[0;34m\u001b[0m\u001b[0;34m\u001b[0m\u001b[0m\n\u001b[1;32m   1728\u001b[0m \u001b[0;34m\u001b[0m\u001b[0m\n",
      "\u001b[0;32m~/miniconda3/lib/python3.7/site-packages/pandas/core/internals/managers.py\u001b[0m in \u001b[0;36m_multi_blockify\u001b[0;34m(tuples, dtype)\u001b[0m\n\u001b[1;32m   1818\u001b[0m     \u001b[0;32mfor\u001b[0m \u001b[0mdtype\u001b[0m\u001b[0;34m,\u001b[0m \u001b[0mtup_block\u001b[0m \u001b[0;32min\u001b[0m \u001b[0mgrouper\u001b[0m\u001b[0;34m:\u001b[0m\u001b[0;34m\u001b[0m\u001b[0;34m\u001b[0m\u001b[0m\n\u001b[1;32m   1819\u001b[0m \u001b[0;34m\u001b[0m\u001b[0m\n\u001b[0;32m-> 1820\u001b[0;31m         \u001b[0mvalues\u001b[0m\u001b[0;34m,\u001b[0m \u001b[0mplacement\u001b[0m \u001b[0;34m=\u001b[0m \u001b[0m_stack_arrays\u001b[0m\u001b[0;34m(\u001b[0m\u001b[0mlist\u001b[0m\u001b[0;34m(\u001b[0m\u001b[0mtup_block\u001b[0m\u001b[0;34m)\u001b[0m\u001b[0;34m,\u001b[0m \u001b[0mdtype\u001b[0m\u001b[0;34m)\u001b[0m\u001b[0;34m\u001b[0m\u001b[0;34m\u001b[0m\u001b[0m\n\u001b[0m\u001b[1;32m   1821\u001b[0m \u001b[0;34m\u001b[0m\u001b[0m\n\u001b[1;32m   1822\u001b[0m         \u001b[0mblock\u001b[0m \u001b[0;34m=\u001b[0m \u001b[0mmake_block\u001b[0m\u001b[0;34m(\u001b[0m\u001b[0mvalues\u001b[0m\u001b[0;34m,\u001b[0m \u001b[0mplacement\u001b[0m\u001b[0;34m=\u001b[0m\u001b[0mplacement\u001b[0m\u001b[0;34m)\u001b[0m\u001b[0;34m\u001b[0m\u001b[0;34m\u001b[0m\u001b[0m\n",
      "\u001b[0;32m~/miniconda3/lib/python3.7/site-packages/pandas/core/internals/managers.py\u001b[0m in \u001b[0;36m_stack_arrays\u001b[0;34m(tuples, dtype)\u001b[0m\n\u001b[1;32m   1848\u001b[0m     \u001b[0mstacked\u001b[0m \u001b[0;34m=\u001b[0m \u001b[0mnp\u001b[0m\u001b[0;34m.\u001b[0m\u001b[0mempty\u001b[0m\u001b[0;34m(\u001b[0m\u001b[0mshape\u001b[0m\u001b[0;34m,\u001b[0m \u001b[0mdtype\u001b[0m\u001b[0;34m=\u001b[0m\u001b[0mdtype\u001b[0m\u001b[0;34m)\u001b[0m\u001b[0;34m\u001b[0m\u001b[0;34m\u001b[0m\u001b[0m\n\u001b[1;32m   1849\u001b[0m     \u001b[0;32mfor\u001b[0m \u001b[0mi\u001b[0m\u001b[0;34m,\u001b[0m \u001b[0marr\u001b[0m \u001b[0;32min\u001b[0m \u001b[0menumerate\u001b[0m\u001b[0;34m(\u001b[0m\u001b[0marrays\u001b[0m\u001b[0;34m)\u001b[0m\u001b[0;34m:\u001b[0m\u001b[0;34m\u001b[0m\u001b[0;34m\u001b[0m\u001b[0m\n\u001b[0;32m-> 1850\u001b[0;31m         \u001b[0mstacked\u001b[0m\u001b[0;34m[\u001b[0m\u001b[0mi\u001b[0m\u001b[0;34m]\u001b[0m \u001b[0;34m=\u001b[0m \u001b[0m_asarray_compat\u001b[0m\u001b[0;34m(\u001b[0m\u001b[0marr\u001b[0m\u001b[0;34m)\u001b[0m\u001b[0;34m\u001b[0m\u001b[0;34m\u001b[0m\u001b[0m\n\u001b[0m\u001b[1;32m   1851\u001b[0m \u001b[0;34m\u001b[0m\u001b[0m\n\u001b[1;32m   1852\u001b[0m     \u001b[0;32mreturn\u001b[0m \u001b[0mstacked\u001b[0m\u001b[0;34m,\u001b[0m \u001b[0mplacement\u001b[0m\u001b[0;34m\u001b[0m\u001b[0;34m\u001b[0m\u001b[0m\n",
      "\u001b[0;31mKeyboardInterrupt\u001b[0m: "
     ]
    }
   ],
   "source": [
    "metallicity_arr = [0.001, 0.002, 0.003, 0.004, 0.006, 0.008, 0.01, 0.014, 0.02, 0.03]\n",
    "logage_arr = np.linspace(6,11,51)\n",
    "xx, yy = np.meshgrid(logage_arr, metallicity_arr)\n",
    "\n",
    "zz_555_MIN_814 = xx.copy()\n",
    "zz_330_MIN_550 = xx.copy()\n",
    "zz_160_MIN_330 = xx.copy()\n",
    "zz_160_MIN_555 = xx.copy()\n",
    "zz_555_MIN_775 = xx.copy()\n",
    "zz_475_MIN_775 = xx.copy()\n",
    "zz_330_MIN_775 = xx.copy()\n",
    "zz_160_MIN_814 = xx.copy()\n",
    "\n",
    "for i in np.arange(np.shape(xx)[0]):\n",
    "        for j in np.arange(np.shape(xx)[1]):\n",
    "            zz_555_MIN_814[i][j] = fit(np.array([xx[i][j], yy[i][j]]))[0]\n",
    "            zz_330_MIN_550[i][j] = fit(np.array([xx[i][j], yy[i][j]]))[1]\n",
    "            zz_160_MIN_330[i][j] = fit(np.array([xx[i][j], yy[i][j]]))[2]\n",
    "            zz_160_MIN_555[i][j] = fit(np.array([xx[i][j], yy[i][j]]))[3]\n",
    "            zz_555_MIN_775[i][j] = fit(np.array([xx[i][j], yy[i][j]]))[4]\n",
    "            zz_475_MIN_775[i][j] = fit(np.array([xx[i][j], yy[i][j]]))[5]\n",
    "            zz_330_MIN_775[i][j] = fit(np.array([xx[i][j], yy[i][j]]))[6]\n",
    "            zz_160_MIN_814[i][j] = fit(np.array([xx[i][j], yy[i][j]]))[7]\n",
    "            \n",
    "f_555_MIN_814 = interpolate.interp2d(xx, yy, zz_814_MIN_555, kind='linear')\n",
    "f_330_MIN_550 = interpolate.interp2d(xx, yy, zz_330_MIN_550, kind='linear')\n",
    "f_160_MIN_330 = interpolate.interp2d(xx, yy, zz_160_MIN_330, kind='linear')\n",
    "f_160_MIN_555 = interpolate.interp2d(xx, yy, zz_160_MIN_555, kind='linear')\n",
    "f_555_MIN_775 = interpolate.interp2d(xx, yy, zz_555_MIN_775, kind='linear')\n",
    "f_475_MIN_775 = interpolate.interp2d(xx, yy, zz_475_MIN_775, kind='linear')\n",
    "f_330_MIN_775 = interpolate.interp2d(xx, yy, zz_330_MIN_775, kind='linear')\n",
    "f_160_MIN_814 = interpolate.interp2d(xx, yy, zz_160_MIN_814, kind='linear')"
   ]
  },
  {
   "cell_type": "code",
   "execution_count": 131,
   "metadata": {},
   "outputs": [],
   "source": [
    "def fit_interp(theta):\n",
    "    vals = np.array([round(f_555_MIN_814([theta[0]], [theta[1]])[0],4),\n",
    "                     round(f_330_MIN_555([theta[0]], [theta[1]])[0],4),\n",
    "                     round(f_160_MIN_330([theta[0]], [theta[1]])[0],4),\n",
    "                     round(f_160_MIN_555([theta[0]], [theta[1]])[0],4),\n",
    "                     round(f_555_MIN_775([theta[0]], [theta[1]])[0],4),\n",
    "                     round(f_475_MIN_775([theta[0]], [theta[1]])[0],4),\n",
    "                    round(f_330_MIN_775([theta[0]], [theta[1]])[0],4),\n",
    "                     round(f_160_MIN_814([theta[0]], [theta[1]])[0],4)])\n",
    "    return vals"
   ]
  },
  {
   "cell_type": "code",
   "execution_count": null,
   "metadata": {},
   "outputs": [],
   "source": [
    "run_Z = []\n",
    "run_age = []\n",
    "run_like = []\n",
    "run_chisq = []\n",
    "\n",
    "#fit_vals_814 = []\n",
    "#fit_vals_555 = []\n",
    "metallicity_arr = [0.001, 0.002, 0.003, 0.004, 0.006, 0.008, 0.01, 0.014, 0.02]\n",
    "logage_arr = np.linspace(6,11,51)\n",
    "\n",
    "for i in np.arange(len(metallicity_arr)):\n",
    "    for j in np.arange(len(logage_arr)):\n",
    "        Z = metallicity_arr[i]\n",
    "        logage = logage_arr[j]\n",
    "        theta = np.array([logage, Z])\n",
    "        run_chisq.append(chi_sq(theta))\n",
    "        run_like.append(neg_log_likelihood(theta))\n",
    "        run_Z.append(Z)\n",
    "        run_age.append(logage)\n",
    "        \n",
    "run_Z = np.array(run_Z)\n",
    "run_age = np.array(run_age)\n",
    "run_like = np.array(run_like)\n",
    "run_chisq = np.array(run_chisq)\n",
    "\n",
    "resultDF = pd.DataFrame({'logAge':run_age, 'Z':run_Z, 'negLogLike':run_like, 'chi_sq':run_chisq})"
   ]
  },
  {
   "cell_type": "code",
   "execution_count": 132,
   "metadata": {},
   "outputs": [],
   "source": [
    "import numpy as np\n",
    "import matplotlib.pyplot as plt\n",
    "from matplotlib.collections import LineCollection\n",
    "\n",
    "def multiline(xs, ys, c, ax=None, **kwargs):\n",
    "    \"\"\"Plot lines with different colorings\n",
    "\n",
    "    Parameters\n",
    "    ----------\n",
    "    xs : iterable container of x coordinates\n",
    "    ys : iterable container of y coordinates\n",
    "    c : iterable container of numbers mapped to colormap\n",
    "    ax (optional): Axes to plot on.\n",
    "    kwargs (optional): passed to LineCollection\n",
    "\n",
    "    Notes:\n",
    "        len(xs) == len(ys) == len(c) is the number of line segments\n",
    "        len(xs[i]) == len(ys[i]) is the number of points for each line (indexed by i)\n",
    "\n",
    "    Returns\n",
    "    -------\n",
    "    lc : LineCollection instance.\n",
    "    \"\"\"\n",
    "\n",
    "    # find axes\n",
    "    ax = plt.gca() if ax is None else ax\n",
    "\n",
    "    # create LineCollection\n",
    "    segments = [np.column_stack([x, y]) for x, y in zip(xs, ys)]\n",
    "    lc = LineCollection(segments, **kwargs)\n",
    "\n",
    "    # set coloring of line segments\n",
    "    #    Note: I get an error if I pass c as a list here... not sure why.\n",
    "    lc.set_array(np.asarray(c))\n",
    "\n",
    "    # add lines to axes and rescale \n",
    "    #    Note: adding a collection doesn't autoscalee xlim/ylim\n",
    "    ax.add_collection(lc)\n",
    "    ax.autoscale()\n",
    "    return lc"
   ]
  },
  {
   "cell_type": "code",
   "execution_count": 196,
   "metadata": {},
   "outputs": [],
   "source": [
    "resultDF_sin = pd.read_csv(\"/Users/alexgagliano/Documents/Research/2020oi/data/derived_data/bestFit_singleBPASS_ExtUncertainty.csv\")"
   ]
  },
  {
   "cell_type": "code",
   "execution_count": 21,
   "metadata": {},
   "outputs": [],
   "source": [
    "bestAge = resultDF_sin.loc[resultDF_sin['chi_sq'] == np.nanmin(resultDF_sin['chi_sq']), 'logAge'].values[0]\n",
    "bestZ = resultDF_sin.loc[resultDF_sin['chi_sq'] == np.nanmin(resultDF_sin['chi_sq']), 'Z'].values[0]"
   ]
  },
  {
   "cell_type": "code",
   "execution_count": 190,
   "metadata": {},
   "outputs": [],
   "source": [
    "Ageval_prosp = 0.02511886\n",
    "Ageval_prosp2 =0.03111323\n",
    "Zval_prosp = -1.25\n",
    "Zval_prosp2 = -1.20\n",
    "Zsol = 0.02\n",
    "\n",
    "prosp_Age = np.log10(Ageval_prosp*1.e9)\n",
    "prosp_Age2 = np.log10(Ageval_prosp2*1.e9)\n",
    "prospZ = 10**(Zval_prosp)*Zsol\n",
    "prospZ2 = 10**(Zval_prosp2)*Zsol\n",
    "theta_bestFit = [bestAge, bestZ]\n",
    "theta_bestFitProspector = [prosp_Age, prospZ]\n",
    "theta_bestFitProspector2 = [prosp_Age2, prospZ2]"
   ]
  },
  {
   "cell_type": "code",
   "execution_count": 183,
   "metadata": {},
   "outputs": [
    {
     "data": {
      "text/plain": [
       "[6.6, 0.013999999999999999]"
      ]
     },
     "execution_count": 183,
     "metadata": {},
     "output_type": "execute_result"
    }
   ],
   "source": [
    "theta_bestFit"
   ]
  },
  {
   "cell_type": "code",
   "execution_count": 184,
   "metadata": {},
   "outputs": [
    {
     "data": {
      "text/plain": [
       "[7.399999925393822, 0.0011246826503806982]"
      ]
     },
     "execution_count": 184,
     "metadata": {},
     "output_type": "execute_result"
    }
   ],
   "source": [
    "theta_bestFitProspector"
   ]
  },
  {
   "cell_type": "code",
   "execution_count": 185,
   "metadata": {},
   "outputs": [
    {
     "name": "stdout",
     "output_type": "stream",
     "text": [
      "25.11886\n",
      "3.9810717055349696\n"
     ]
    }
   ],
   "source": [
    "print(10**theta_bestFitProspector[0]/1.e6)\n",
    "print(10**theta_bestFit[0]/1.e6)\n",
    "#age in Myr"
   ]
  },
  {
   "cell_type": "code",
   "execution_count": 186,
   "metadata": {},
   "outputs": [
    {
     "data": {
      "text/plain": [
       "0.05623413251903491"
      ]
     },
     "execution_count": 186,
     "metadata": {},
     "output_type": "execute_result"
    }
   ],
   "source": [
    "theta_bestFitProspector[1]/Zsol"
   ]
  },
  {
   "cell_type": "code",
   "execution_count": 187,
   "metadata": {},
   "outputs": [
    {
     "data": {
      "text/plain": [
       "0.7"
      ]
     },
     "execution_count": 187,
     "metadata": {},
     "output_type": "execute_result"
    }
   ],
   "source": [
    "theta_bestFit[1]/Zsol"
   ]
  },
  {
   "cell_type": "code",
   "execution_count": 188,
   "metadata": {},
   "outputs": [],
   "source": [
    "def newChi_sq(SED_wave, SED_flux, wave_obs, obs, obs_err):\n",
    "    chi_term = 0\n",
    "    for i in np.arange(len(obs)):\n",
    "        wspec = SED_wave\n",
    "    model_mag = SED_flux[wspec==find_nearest(wspec, wave_obs[i])][0]\n",
    "    chi_term += (np.abs(model_mag - obs[i])**2)/(obs_err[i]**2)\n",
    "    return chi_term"
   ]
  },
  {
   "cell_type": "code",
   "execution_count": 160,
   "metadata": {},
   "outputs": [],
   "source": [
    "SED_wave = SED.wave\n",
    "SED_flux = SED_BPASS_maggies\n",
    "\n",
    "BPASS_chisq = newChi_sq(SED_wave, SED_flux, wave, obs_maggies, obs_err_maggies)\n",
    "\n",
    "SED_wave = SED.wave\n",
    "SED_flux = SED_prosp_maggies\n",
    "\n",
    "Prosp_chisq = newChi_sq(SED_wave, SED_flux, wave, obs_maggies, obs_err_maggies)"
   ]
  },
  {
   "cell_type": "markdown",
   "metadata": {},
   "source": [
    " #A maggie is a linear measure of flux density; one maggie has an AB magnitude of 0, or a flux density of 3631 Jansky in any band. "
   ]
  },
  {
   "cell_type": "code",
   "execution_count": 195,
   "metadata": {},
   "outputs": [
    {
     "name": "stderr",
     "output_type": "stream",
     "text": [
      "/Users/alexgagliano/miniconda3/lib/python3.7/site-packages/ipykernel_launcher.py:33: DeprecationWarning: `np.float` is a deprecated alias for the builtin `float`. To silence this warning, use `float` by itself. Doing this will not modify any behavior and is safe. If you specifically wanted the numpy scalar type, use `np.float64` here.\n",
      "Deprecated in NumPy 1.20; for more details and guidance: https://numpy.org/devdocs/release/1.20.0-notes.html#deprecations\n",
      "/Users/alexgagliano/miniconda3/lib/python3.7/site-packages/pysynphot/units.py:824: RuntimeWarning: divide by zero encountered in log\n",
      "  return -1.085736 * N.log(arg) + ABZERO\n",
      "/Users/alexgagliano/miniconda3/lib/python3.7/site-packages/pysynphot/units.py:824: RuntimeWarning: divide by zero encountered in log\n",
      "  return -1.085736 * N.log(arg) + ABZERO\n"
     ]
    },
    {
     "data": {
      "image/png": "[encoded data removed]",
      "text/plain": [
       "<Figure size 1440x720 with 1 Axes>"
      ]
     },
     "metadata": {
      "needs_background": "light"
     },
     "output_type": "display_data"
    }
   ],
   "source": [
    "SED_prospOrig = pd.read_csv(\"/Users/alexgagliano/Documents/Research/2020oi/data/derived_data/prospectorEmceeMAPSED.csv\")\n",
    "\n",
    "sns.set_context(\"poster\")\n",
    "sns.set_palette(\"colorblind\")\n",
    "wave = np.array([ 8005.60843049, 15324.46877726,  4736.37692621,  5256.11107939,\n",
    "        7972.96177452,  8037.98253126,  5331.73210482,  3354.03701153,\n",
    "        7630.74012291])\n",
    "obs_err_maggies = np.array([3.20981202e-09, 2.31796209e-09, 4.24100791e-09, 3.76035704e-09,\n",
    "       2.74140200e-09, 2.32393795e-09, 3.76452776e-09, 5.10368072e-09,\n",
    "       2.62558331e-09])\n",
    "obs_maggies = 10**(-0.4*obs_set)\n",
    "\n",
    "SED = gen_SED(theta_bestFit)\n",
    "SED.convert(\"abmag\")\n",
    "SED_prosp = gen_SED(theta_bestFitProspector)\n",
    "SED_prosp.convert(\"abmag\")\n",
    "SED_prosp2 = gen_SED(theta_bestFitProspector2)\n",
    "SED_prosp2.convert(\"abmag\")\n",
    "\n",
    "SED_scale = SED.flux[np.abs(SED.wave-wave[2])<0.5][0]\n",
    "SEDprosp_scale = SED_prosp.flux[np.abs(SED_prosp.wave-wave[2])<0.5][0]\n",
    "SEDprosp_scale2 = SED_prosp2.flux[np.abs(SED_prosp2.wave-wave[2])<0.5][0]\n",
    "\n",
    "obs_scale = obs_set[2]\n",
    "\n",
    "SED_prosp_maggies = 10**(-0.4*(SED_prosp.flux)*(obs_scale/SEDprosp_scale))\n",
    "SED_prosp_maggies2 = 10**(-0.4*(SED_prosp2.flux)*(obs_scale/SEDprosp_scale2))\n",
    "\n",
    "SED_BPASS_maggies = 10**(-0.4*(SED.flux)*(obs_scale/SED_scale))\n",
    "\n",
    "sns.set_context(\"talk\")\n",
    "plt.figure(figsize=(20,10))\n",
    "plt.plot(SED_prospOrig['wave'], SED_prospOrig['flux'],label=r'First Prospector Fit')\n",
    "plt.plot(SED.wave, SED_BPASS_maggies, label=r'BPASS Fit (Scaled), $\\chi^2$ = %.2f'%BPASS_chisq)\n",
    "#plt.plot(SED_prosp.wave, SED_prosp_maggies2,ls='--', label=\"Second Prospector Fit\")\n",
    "plt.xscale(\"log\")\n",
    "plt.yscale(\"log\")\n",
    "plt.xlim((4.e3, 3.e4))\n",
    "plt.errorbar(wave, obs_maggies,yerr=obs_err_maggies, fmt='o',ms=10,c='k',zorder=100)\n",
    "plt.ylim((4.e-9, 8.e-8))\n",
    "plt.ylabel(\"Flux Density (maggies)\")\n",
    "plt.legend(fontsize=20)\n",
    "plt.xlabel(\"Wavelength (AA)\");"
   ]
  },
  {
   "cell_type": "code",
   "execution_count": 36,
   "metadata": {},
   "outputs": [
    {
     "data": {
      "text/plain": [
       "5.338694333806138e-16"
      ]
     },
     "execution_count": 36,
     "metadata": {},
     "output_type": "execute_result"
    }
   ],
   "source": [
    "BPASS_flux = SED.flux[np.where(SED.wave == 5556)][0]\n",
    "Prospector_flux = \n",
    "\n",
    "BPASS_flux = SED.flux"
   ]
  },
  {
   "cell_type": "code",
   "execution_count": null,
   "metadata": {},
   "outputs": [],
   "source": [
    "BPASS* (Prospector at 5556/BPASS at 5556)"
   ]
  },
  {
   "cell_type": "code",
   "execution_count": 162,
   "metadata": {},
   "outputs": [],
   "source": [
    "col_best = fit(theta_bestFit)"
   ]
  },
  {
   "cell_type": "code",
   "execution_count": 179,
   "metadata": {},
   "outputs": [],
   "source": [
    "t0 = 58854.2\n",
    "t1 = 58894 #feb 15\n",
    "t2 = 58921 #mar 13\n",
    "t3 = 58857"
   ]
  },
  {
   "cell_type": "code",
   "execution_count": 181,
   "metadata": {},
   "outputs": [
    {
     "name": "stdout",
     "output_type": "stream",
     "text": [
      "39.80000000000291\n",
      "66.80000000000291\n",
      "2.8000000000029104\n"
     ]
    }
   ],
   "source": [
    "print(t1 - t0)\n",
    "print(t2 - t0)\n",
    "print(t3 - t0)"
   ]
  },
  {
   "cell_type": "code",
   "execution_count": null,
   "metadata": {},
   "outputs": [],
   "source": [
    "February 15,2020\n",
    "March 13,2020"
   ]
  },
  {
   "cell_type": "code",
   "execution_count": 164,
   "metadata": {},
   "outputs": [
    {
     "data": {
      "text/plain": [
       "array([-0.25951835, -0.05458317,  0.56191518,  0.51875053, -0.25207878,\n",
       "       -0.30692027, -0.29524344,  0.24781367])"
      ]
     },
     "execution_count": 164,
     "metadata": {},
     "output_type": "execute_result"
    }
   ],
   "source": [
    "col_best"
   ]
  },
  {
   "cell_type": "code",
   "execution_count": 165,
   "metadata": {},
   "outputs": [],
   "source": [
    "central_waves = {'814_hrc':8035.76, '555_hrc':5326.63, '330_hrc':3368.32, '160_ir':15279.08, '555_wfc3':5234.60, '775_wfc3':7616.00, '475_wfc3':4732.43}  # wavelength in Angstroms\n",
    "\n",
    "col_means = np.array([(central_waves['814_hrc']+central_waves['555_hrc'])/2.,\n",
    "            (central_waves['330_hrc']+central_waves['555_hrc'])/2.,\n",
    "            (central_waves['160_ir']+central_waves['330_hrc'])/2.,\n",
    "            (central_waves['160_ir']+central_waves['555_hrc'])/2.,\n",
    "            (central_waves['555_hrc']+central_waves['775_wfc3'])/2.,\n",
    "            (central_waves['475_wfc3']+central_waves['775_wfc3'])/2.,\n",
    "            (central_waves['330_hrc']+central_waves['775_wfc3'])/2.,\n",
    "            (central_waves['160_ir']+central_waves['814_hrc'])/2.\n",
    "            ])"
   ]
  },
  {
   "cell_type": "code",
   "execution_count": 166,
   "metadata": {},
   "outputs": [],
   "source": [
    "import sys\n",
    "import os\n",
    "import traceback\n",
    "import optparse\n",
    "import time\n",
    "import logging\n",
    "\n",
    "\n",
    "def wavelength_to_rgb(wavelength_arr, gamma=0.8):\n",
    "    \n",
    "    col = []\n",
    "    wavelength_arr /= 10. #Angstroms to nm\n",
    "\n",
    "    '''This converts a given wavelength of light to an \n",
    "    approximate RGB color value. The wavelength must be given\n",
    "    in nanometers in the range from 380 nm through 750 nm\n",
    "    (789 THz through 400 THz).\n",
    "    \n",
    "    Based on code by Dan Bruton\n",
    "    http://www.physics.sfasu.edu/astro/color/spectra.html\n",
    "    '''\n",
    "    for wavelength in wavelength_arr:\n",
    "        wavelength = float(wavelength)\n",
    "        if wavelength >= 380 and wavelength <= 440:\n",
    "            attenuation = 0.3 + 0.7 * (wavelength - 380) / (440 - 380)\n",
    "            R = ((-(wavelength - 440) / (440 - 380)) * attenuation) ** gamma\n",
    "            G = 0.0\n",
    "            B = (1.0 * attenuation) ** gamma\n",
    "        elif wavelength >= 440 and wavelength <= 490:\n",
    "            R = 0.0\n",
    "            G = ((wavelength - 440) / (490 - 440)) ** gamma\n",
    "            B = 1.0\n",
    "        elif wavelength >= 490 and wavelength <= 510:\n",
    "            R = 0.0\n",
    "            G = 1.0\n",
    "            B = (-(wavelength - 510) / (510 - 490)) ** gamma\n",
    "        elif wavelength >= 510 and wavelength <= 580:\n",
    "            R = ((wavelength - 510) / (580 - 510)) ** gamma\n",
    "            G = 1.0\n",
    "            B = 0.0\n",
    "        elif wavelength >= 580 and wavelength <= 645:\n",
    "            R = 1.0\n",
    "            G = (-(wavelength - 645) / (645 - 580)) ** gamma\n",
    "            B = 0.0\n",
    "        elif wavelength >= 645 and wavelength <= 750:\n",
    "            attenuation = 0.3 + 0.7 * (750 - wavelength) / (750 - 645)\n",
    "            R = (1.0 * attenuation) ** gamma\n",
    "            G = 0.0\n",
    "            B = 0.0\n",
    "        else:\n",
    "            R = 0.0\n",
    "            G = 0.0\n",
    "            B = 0.0\n",
    "        R *= 255\n",
    "        G *= 255\n",
    "        B *= 255\n",
    "        col.append((int(R), int(G), int(B)))\n",
    "    return col"
   ]
  },
  {
   "cell_type": "code",
   "execution_count": 167,
   "metadata": {},
   "outputs": [],
   "source": [
    "#convert to color scale - 380 through 750 nm\n",
    "OldMax = np.nanmax(col_means)\n",
    "OldMin = np.nanmin(col_means)\n",
    "NewMin = 3800.\n",
    "NewMax = 7500.\n",
    "\n",
    "OldRange = (OldMax - OldMin)  \n",
    "NewRange = (NewMax - NewMin)  \n",
    "new_cols = (((col_means - OldMin) * NewRange) / OldRange) + NewMin"
   ]
  },
  {
   "cell_type": "code",
   "execution_count": 168,
   "metadata": {},
   "outputs": [
    {
     "data": {
      "text/plain": [
       "'#008040'"
      ]
     },
     "execution_count": 168,
     "metadata": {},
     "output_type": "execute_result"
    }
   ],
   "source": [
    "from colormap import rgb2hex\n",
    "rgb2hex(0, 128, 64)"
   ]
  },
  {
   "cell_type": "code",
   "execution_count": 169,
   "metadata": {},
   "outputs": [],
   "source": [
    "rgb_set = wavelength_to_rgb(new_cols.copy())\n",
    "col_set = np.array([rgb2hex(x[0], x[1], x[2]) for x in rgb_set])"
   ]
  },
  {
   "cell_type": "code",
   "execution_count": 170,
   "metadata": {},
   "outputs": [
    {
     "data": {
      "text/plain": [
       "array([4981.23515293, 3800.        , 6318.76484707, 6814.37370596,\n",
       "       4875.0023427 , 4724.62227828, 4379.39348381, 7500.        ])"
      ]
     },
     "execution_count": 170,
     "metadata": {},
     "output_type": "execute_result"
    }
   ],
   "source": [
    "new_cols"
   ]
  },
  {
   "cell_type": "code",
   "execution_count": 177,
   "metadata": {},
   "outputs": [
    {
     "data": {
      "text/plain": [
       "array(['F330_hrc - F555W', 'F330_hrc - F775W', 'F475W - F775W',\n",
       "       'F555W - F775W', 'F555W - F814W', 'F160_ir - F330W',\n",
       "       'F160_ir - F555W', 'F160_ir - F814W'], dtype='<U16')"
      ]
     },
     "execution_count": 177,
     "metadata": {},
     "output_type": "execute_result"
    }
   ],
   "source": [
    "col_names_sort"
   ]
  },
  {
   "cell_type": "code",
   "execution_count": 194,
   "metadata": {},
   "outputs": [
    {
     "data": {
      "text/plain": [
       "<matplotlib.legend.Legend at 0x7fe11935bcd0>"
      ]
     },
     "execution_count": 194,
     "metadata": {},
     "output_type": "execute_result"
    },
    {
     "data": {
      "image/png": "[encoded data removed]",
      "text/plain": [
       "<Figure size 720x504 with 1 Axes>"
      ]
     },
     "metadata": {
      "needs_background": "light"
     },
     "output_type": "display_data"
    }
   ],
   "source": [
    "sns.set_context(\"talk\")\n",
    "\n",
    "col_names = np.array([\"F555W - F814W\",\n",
    "\"F330_hrc - F555W\",\n",
    "\"F160_ir - F330W\",\n",
    "\"F160_ir - F555W\",\n",
    "\"F555W - F775W\",\n",
    "\"F475W - F775W\",\n",
    "\"F330_hrc - F775W\",\n",
    "\"F160_ir - F814W\"])\n",
    "    \n",
    "col_names_sort = col_names[np.argsort(new_cols)]\n",
    "col_best_sort = col_best[np.argsort(new_cols)]\n",
    "col_set_sort = col_set[np.argsort(new_cols)]\n",
    "obs_sort = obs[np.argsort(new_cols)]\n",
    "new_cols_sort = new_cols[np.argsort(new_cols)]\n",
    "obs_sig_sort = obs_sig[np.argsort(new_cols)]\n",
    "#flip the 160 colors \n",
    "obs_sort[5] = -obs_sort[5]\n",
    "obs_sort[6] = -obs_sort[6]\n",
    "obs_sort[7] = -obs_sort[7]\n",
    "\n",
    "col_best_sort[5] = -col_best_sort[5]\n",
    "col_best_sort[6] = -col_best_sort[6]\n",
    "col_best_sort[7] = -col_best_sort[7]\n",
    "\n",
    "col_names_sort[5] = 'F330W - F160_ir'\n",
    "col_names_sort[6] = 'F555W - F160_ir'\n",
    "col_names_sort[7] = 'F814W - F160_ir'       \n",
    "    \n",
    "x = np.linspace(-1, 1)\n",
    "plt.figure(figsize=(10,7))\n",
    "for i in np.arange(len(obs)):\n",
    "    plt.errorbar(obs_sort[i], col_best_sort[i], yerr=10*obs_sig_sort[i], fmt='o', label=col_names_sort[i], c=col_set_sort[i])\n",
    "plt.plot(x,x,ls='--',c='gray')\n",
    "plt.xlabel(\"Observed Color\")\n",
    "plt.ylabel(\"Best-Fit BPASS Color\")\n",
    "plt.legend()"
   ]
  },
  {
   "cell_type": "code",
   "execution_count": 192,
   "metadata": {},
   "outputs": [
    {
     "data": {
      "text/plain": [
       "array([3800.        , 4379.39348381, 4724.62227828, 4875.0023427 ,\n",
       "       4981.23515293, 6318.76484707, 6814.37370596, 7500.        ])"
      ]
     },
     "execution_count": 192,
     "metadata": {},
     "output_type": "execute_result"
    }
   ],
   "source": [
    "obs_sig_sort"
   ]
  },
  {
   "cell_type": "code",
   "execution_count": null,
   "metadata": {},
   "outputs": [],
   "source": [
    "resultDF_sin = pd.read_csv(\"/Users/alexgagliano/Documents/Research/2020oi/data/derived_data/bestFit_singleBPASS_ExtUncertainty.csv\")\n",
    "resultDF_bin = pd.read_csv(\"/Users/alexgagliano/Documents/Research/2020oi/data/derived_data/bestFit_binaryBPASS_HSTphot.csv\")"
   ]
  },
  {
   "cell_type": "code",
   "execution_count": null,
   "metadata": {},
   "outputs": [],
   "source": [
    "xs = []\n",
    "ys = []\n",
    "xs2 = []\n",
    "ys2 = []\n",
    "Z_sub = []\n",
    "\n",
    "metallicity_arr = [0.001, 0.002, 0.003, 0.004, 0.006, 0.008, 0.01, 0.014, 0.02, 0.03]\n",
    "logage_arr = np.linspace(6,11,51)\n",
    "#delay time for collapse - say 100 Myr? \n",
    "sns.set_style(\"ticks\", {\"xtick.major.size\": 20, \"ytick.major.size\": 40})\n",
    "sns.set_style(\"ticks\", {\"xtick.minor.size\": 8, \"ytick.minor.size\": 8})\n",
    "\n",
    "sns.set_context(\"poster\")\n",
    "sns.set(font_scale=4)\n",
    "sns.set_style(\"white\")\n",
    "\n",
    "for i in np.arange(len(metallicity_arr), step=1):\n",
    "    tempDF_sin = resultDF_sin[resultDF_sin['Z'] == metallicity_arr[i]]\n",
    "    tempDF_bin = resultDF_bin[resultDF_bin['Z'] == metallicity_arr[i]]\n",
    "\n",
    "    xs.append(tempDF_sin['logAge'].values)\n",
    "    ys.append(tempDF_sin['chi_sq'].values)\n",
    "    \n",
    "    xs2.append(tempDF_bin['logAge'].values)\n",
    "    ys2.append(tempDF_bin['chi_sq'].values)\n",
    "    \n",
    "    Z_sub.append(metallicity_arr[i])\n",
    "    \n",
    "n_lines = int(len(metallicity_arr)/2.)\n",
    "colors = np.arange(n_lines)\n",
    "\n",
    "#fig, (ax1, ax2) = plt.subplots(1, 2)\n",
    "fig, (ax1, ax2) = plt.subplots(1, 2, figsize=(40,16), gridspec_kw={'width_ratios': [1.5, 1]})\n",
    "lc = multiline(xs, ys, np.log10(Z_sub), cmap='BrBG', lw=4, ls='--', label='E(B-V) = 0.15')\n",
    "lc2 = multiline(xs2, ys2, np.log10(Z_sub), cmap='BrBG', lw=4, label='E(B-V) = 0.17')\n",
    "\n",
    "#6.76 +/- 0.18 \n",
    "#7.51 +/- 0.18\n",
    "\n",
    "plt.axvspan(xmin=6.58-0.06, xmax= 6.58+0.06, alpha=0.3, color='#3D315B')\n",
    "plt.axvspan(xmin=7.33-0.06, xmax=7.33+0.06, alpha=0.3, color='#3D315B')\n",
    "plt.subplots_adjust(wspace=0.01,hspace=0.01)\n",
    "plt.tick_params(which='major', axis='x', direction='in', top=True, bottom=True, length=16, width=2)\n",
    "plt.tick_params(which='major', axis='y', direction='in', left=True, right=True, length=16, width=2)\n",
    "plt.tick_params(which='minor', axis='x', direction='in', bottom=True, top=True, length=8, width=2)\n",
    "plt.minorticks_on()\n",
    "plt.tick_params(which='minor', axis='y', direction='in', left=True, right=True, length=8, width=2)\n",
    "plt.legend(loc='lower right')\n",
    "plt.xlim((6, 8))\n",
    "#plt.ylim((5.e3, 8.e5))\n",
    "axcb = fig.colorbar(lc)\n",
    "#axcb2 = fig.colorbar(lc2)\n",
    "plt.yscale(\"log\")\n",
    "plt.xlabel(r\"log($t_d$ [yr])\")\n",
    "plt.ylabel(r\"$\\chi^2$\")\n",
    "axcb.set_label('log(Z)')\n",
    "ax1.axis('off')\n",
    "img = mpimg.imread(\"/Users/alexgagliano/Documents/Research/2020oi/img/2020oi_Schematic.png\")\n",
    "ax1.imshow(img)\n",
    "#axcb2.set_label('log(Z)  (Binary Progenitors)')\n",
    "#plt.savefig(\"/Users/alexgagliano/Documents/Research/2020oi/img/Chisq_grid_LowExtinction.png\",dpi=300,bbox_inches=\"tight\")"
   ]
  },
  {
   "cell_type": "code",
   "execution_count": null,
   "metadata": {},
   "outputs": [],
   "source": [
    "from matplotlib import cm\n",
    "viridis = cm.get_cmap('viridis', len(metallicity_arr))\n",
    "cols = viridis(np.linspace(0, 1, len(metallicity_arr)))"
   ]
  },
  {
   "cell_type": "code",
   "execution_count": null,
   "metadata": {},
   "outputs": [],
   "source": [
    "data_wSiding[data_wSiding['MJD'] ==  58866.56400000001]"
   ]
  },
  {
   "cell_type": "code",
   "execution_count": null,
   "metadata": {},
   "outputs": [],
   "source": [
    "def chi_sq_arr(Z, age):\n",
    "    chi_arr = []\n",
    "    for i in np.arange(len(Z)):\n",
    "        chi_arr.append(chi_sq(np.array([Z[i], age[i]])))\n",
    "    return chi_arr"
   ]
  },
  {
   "cell_type": "code",
   "execution_count": null,
   "metadata": {},
   "outputs": [],
   "source": [
    "#### trying now with dynesty\n",
    "import numpy as np\n",
    "\n",
    "# Define the dimensionality of our problem.\n",
    "ndim = 3\n",
    "\n",
    "# Define our 3-D correlated multivariate normal likelihood.\n",
    "#C = np.identity(ndim)  # set covariance to identity matrix\n",
    "#C[C==0] = 0.95  # set off-diagonal terms\n",
    "#Cinv = np.linalg.inv(C)  # define the inverse (i.e. the precision matrix)\n",
    "#lnorm = -0.5 * (np.log(2 * np.pi) * ndim +\n",
    "#                np.log(np.linalg.det(C)))  # ln(normalization)\n",
    "\n",
    "# Define our uniform prior.\n",
    "def ptform(u):\n",
    "    \"\"\"Transforms the uniform random variable `u ~ Unif[0., 1.)`\n",
    "    to the parameter of interest `x ~ Unif[-10., 10.)`.\"\"\"\n",
    "    x = 2. * u[0] - 1.  # scale and shift to [-1., 1.)\n",
    "    x *= 2.5  # scale to [-2.5, 2.5)\n",
    "    x += 8.5 # scale to [6, 11] #age \n",
    "    \n",
    "    y = u[1]  # [0, 1.)\n",
    "    y *= 0.09999 + 1.e-5 #1.e-5 to 1.e-1\n",
    "    \n",
    "   # z = u[2]\n",
    "   # z *= 1.e2\n",
    "    \n",
    "#(6<=age<=11) and  (1.e-5<=Z<=4.e-3): \n",
    "    return np.array([x,y])"
   ]
  },
  {
   "cell_type": "code",
   "execution_count": null,
   "metadata": {},
   "outputs": [],
   "source": [
    "import dynesty\n",
    "\n",
    "# \"Static\" nested sampling.\n",
    "#from multiprocessing import Pool\n",
    "\n",
    "from schwimmbad import MultiPool\n",
    "with MultiPool() as pool:\n",
    "    sampler = dynesty.NestedSampler(loglike, ptform, ndim, pool=pool)\n",
    "    sampler.run_nested()\n",
    "    sresults = sampler.results\n",
    "\n",
    "#with MultiPool() as pool:\n",
    "#    sampler = dynesty.NestedSampler(loglike, ptform, ndim, pool=pool)\n",
    "#    sampler.run_nested()\n",
    "#    sresults = sampler.results\n",
    "\n",
    "# \"Dynamic\" nested sampling.\n",
    "#from multiprocessing import Pool\n",
    "#dsampler = dynesty.DynamicNestedSampler(loglike, ptform, ndim) #, pool=pool\n",
    "#dsampler.run_nested()\n",
    "#dresults = dsampler.results\n",
    "    \n",
    "#with MultiPool() as pool:\n",
    "#    dsampler = dynesty.DynamicNestedSampler(loglike, ptform, ndim, pool=pool)\n",
    "#    dsampler.run_nested(dlogz_init=0.05)\n",
    "#    #dsampler.run_nested()\n",
    "#    dresults = dsampler.results"
   ]
  },
  {
   "cell_type": "code",
   "execution_count": null,
   "metadata": {},
   "outputs": [],
   "source": [
    "from dynesty import utils as dyfunc\n",
    "dresults = sresults\n",
    "# Extract sampling results.\n",
    "samples = dresults.samples  # samples\n",
    "weights = np.exp(dresults.logwt - dresults.logz[-1])  # normalized weights\n",
    "\n",
    "# Compute 10%-90% quantiles.\n",
    "quantiles = [dyfunc.quantile(samps, [0.1, 0.9], weights=weights)\n",
    "             for samps in samples.T]\n",
    "\n",
    "# Compute weighted mean and covariance.\n",
    "mean, cov = dyfunc.mean_and_cov(samples, weights)\n",
    "\n",
    "# Resample weighted samples.\n",
    "samples_equal = dyfunc.resample_equal(samples, weights)\n",
    "\n",
    "# Generate a new set of results with statistical+sampling uncertainties.\n",
    "results_sim = dyfunc.simulate_run(dresults)"
   ]
  },
  {
   "cell_type": "code",
   "execution_count": null,
   "metadata": {},
   "outputs": [],
   "source": [
    "from dynesty import plotting as dyplot\n",
    "fig, axes = dyplot.traceplot(dresults, truths=np.zeros(ndim),\n",
    "                             truth_color='black', show_titles=True,\n",
    "                             trace_cmap='viridis', connect=True,\n",
    "                             connect_highlight=range(5))\n",
    "plt.tight_layout(pad=1.08, h_pad=None, w_pad=None, rect=None)"
   ]
  },
  {
   "cell_type": "code",
   "execution_count": null,
   "metadata": {},
   "outputs": [],
   "source": [
    "###### initialize figure\n",
    "#fig, axes = plt.subplots(2, 5, figsize=(25, 10))\n",
    "#axes = axes.reshape((2, 5))  # reshape axes\n",
    "\n",
    "# add white space\n",
    "#[a.set_frame_on(False) for a in axes[:, 2]]\n",
    "#[a.set_xticks([]) for a in axes[:, 2]]\n",
    "#[a.set_yticks([]) for a in axes[:, 2]]\n",
    "\n",
    "# plot initial run (res1; left)\n",
    "fg, ax = dyplot.cornerpoints(dresults, cmap='plasma', truths=[6.5, 0.04, 1.e5],\n",
    "                             kde=False)\n",
    "fg.set_figheight(10)\n",
    "fg.set_figwidth(10)"
   ]
  },
  {
   "cell_type": "code",
   "execution_count": null,
   "metadata": {},
   "outputs": [],
   "source": [
    "#finally, running in the traditional way with emcee\n",
    "import emcee\n",
    "\n",
    "#from multiprocessing import Pool\n",
    "from schwimmbad import MultiPool\n",
    "\n",
    "N = 1000\n",
    "pos = theta_init + 1.e-1*np.random.randn(N, 2)\n",
    "obs_sig = np.array([f814_hrc_err, f555_wfc2_err])\n",
    "obs = np.array([M_f814_hrc, M_f555_wfc2])\n",
    "\n",
    "nwalkers, ndim = pos.shape\n",
    "with MultiPool() as pool:\n",
    "    sampler = emcee.EnsembleSampler(nwalkers, ndim, log_posterior, args=(obs, obs_sig), pool=pool)\n",
    "    sampler.run_mcmc(pos, N, progress=True);#, store=True);"
   ]
  },
  {
   "cell_type": "code",
   "execution_count": null,
   "metadata": {},
   "outputs": [],
   "source": [
    "fig, axes = plt.subplots(2, figsize=(10, 7), sharex=True)\n",
    "samples = sampler.get_chain()\n",
    "\n",
    "labels = [r\"Age\", \"Metallicity\"]\n",
    "for i in range(2):\n",
    "    ax = axes[i]\n",
    "    ax.plot(samples[:, :, i], \"k\", alpha=0.3)\n",
    "    ax.set_xlim(0, len(samples))\n",
    "    ax.set_ylabel(labels[i])\n",
    "    ax.yaxis.set_label_coords(-0.1, 0.5)\n",
    "axes[-1].set_xlabel(\"step number\");"
   ]
  },
  {
   "cell_type": "code",
   "execution_count": null,
   "metadata": {},
   "outputs": [],
   "source": [
    "# show the full corner plot \n",
    "import corner\n",
    "samples_postBurnIn = samples[10:,:,:]\n",
    "samples_post = samples_postBurnIn.reshape((-1, 2))\n",
    "fig = corner.corner(samples_post, labels=labels,smooth=True);"
   ]
  }
 ],
 "metadata": {
  "kernelspec": {
   "display_name": "Python 3",
   "language": "python",
   "name": "python3"
  },
  "language_info": {
   "codemirror_mode": {
    "name": "ipython",
    "version": 3
   },
   "file_extension": ".py",
   "mimetype": "text/x-python",
   "name": "python",
   "nbconvert_exporter": "python",
   "pygments_lexer": "ipython3",
   "version": "3.7.6"
  }
 },
 "nbformat": 4,
 "nbformat_minor": 4
}
