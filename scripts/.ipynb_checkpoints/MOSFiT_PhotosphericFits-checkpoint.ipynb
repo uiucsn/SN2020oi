{
 "cells": [
  {
   "cell_type": "markdown",
   "metadata": {},
   "source": [
    "Alex Gagliano, 05/10/2020"
   ]
  },
  {
   "cell_type": "markdown",
   "metadata": {},
   "source": [
    "Let's start by importing our required packages."
   ]
  },
  {
   "cell_type": "code",
   "execution_count": 1,
   "metadata": {},
   "outputs": [],
   "source": [
    "import pandas as pd\n",
    "import numpy as np\n",
    "import matplotlib.pyplot as plt \n",
    "import seaborn as sns\n",
    "from astropy.time import Time\n",
    "from collections import Counter\n",
    "import glob\n",
    "import os \n",
    "\n",
    "sns.set_context(\"talk\")\n",
    "sns.set_style(\"white\")\n",
    "sns.set_palette(\"Dark2\")"
   ]
  },
  {
   "cell_type": "code",
   "execution_count": 2,
   "metadata": {},
   "outputs": [],
   "source": [
    "data = pd.read_csv(\"/Users/alexgagliano/Documents/Research/2020oi/data/derived_data/AT2020oi_cut_030121_noUV_BB_RphotTphot.csv\")"
   ]
  },
  {
   "cell_type": "code",
   "execution_count": 3,
   "metadata": {},
   "outputs": [
    {
     "data": {
      "text/plain": [
       "Index(['time (rest frame MJD from discovery)', 'Rphot min (cm)',\n",
       "       'Rphot max (cm)', 'Rphot median (cm)', 'Tphot min (K)', 'Tphot max (K)',\n",
       "       'Tphot median (K)'],\n",
       "      dtype='object')"
      ]
     },
     "execution_count": 3,
     "metadata": {},
     "output_type": "execute_result"
    }
   ],
   "source": [
    "data.columns"
   ]
  },
  {
   "cell_type": "code",
   "execution_count": 4,
   "metadata": {},
   "outputs": [],
   "source": [
    "peakMJD = data.loc[data['Rphot median (cm)']==np.nanmax(data['Rphot median (cm)']), 'time (rest frame MJD from discovery)'].values[0]"
   ]
  },
  {
   "cell_type": "code",
   "execution_count": 5,
   "metadata": {},
   "outputs": [],
   "source": [
    "rise = data.loc[data['time (rest frame MJD from discovery)'] < peakMJD]\n",
    "rise = rise[rise['time (rest frame MJD from discovery)'] > 0]"
   ]
  },
  {
   "cell_type": "code",
   "execution_count": 6,
   "metadata": {},
   "outputs": [],
   "source": [
    "t0 = rise['time (rest frame MJD from discovery)'].values[0]"
   ]
  },
  {
   "cell_type": "code",
   "execution_count": 7,
   "metadata": {},
   "outputs": [],
   "source": [
    "t_sec = (rise['time (rest frame MJD from discovery)'].values)*24*3600\n",
    "r_cm = rise['Rphot median (cm)'].values\n",
    "m, b = np.polyfit(rise['time (rest frame MJD from discovery)'].values, r_cm, 1)"
   ]
  },
  {
   "cell_type": "code",
   "execution_count": 8,
   "metadata": {},
   "outputs": [
    {
     "data": {
      "text/plain": [
       "[<matplotlib.lines.Line2D at 0x7f9d42ec21d0>]"
      ]
     },
     "execution_count": 8,
     "metadata": {},
     "output_type": "execute_result"
    },
    {
     "data": {
      "image/png": "[encoded data removed]",
      "text/plain": [
       "<Figure size 432x288 with 1 Axes>"
      ]
     },
     "metadata": {},
     "output_type": "display_data"
    }
   ],
   "source": [
    "plt.plot(rise['time (rest frame MJD from discovery)'].values, r_cm)"
   ]
  },
  {
   "cell_type": "code",
   "execution_count": 9,
   "metadata": {},
   "outputs": [
    {
     "data": {
      "text/plain": [
       "98372104033573.58"
      ]
     },
     "execution_count": 9,
     "metadata": {},
     "output_type": "execute_result"
    }
   ],
   "source": [
    "m"
   ]
  },
  {
   "cell_type": "code",
   "execution_count": 10,
   "metadata": {},
   "outputs": [],
   "source": [
    "#t=8 days\n",
    "#TBB= 9679 K.\n",
    "#t = 10days\n",
    "#s TBB= 9230 K\n",
    "#t = 16 days\n",
    "#s TBB= 7690 K\n",
    "#t = 19 days \n",
    "#TBB= 6999 K.\n",
    "# t = 20 days\n",
    "#TBB= 6774 K \n",
    "#t = 24 days\n",
    "#TBB= 6383 K\n",
    "# t = 38 days\n",
    "#TBB= 6129 K\n",
    "#from https://academic.oup.com/mnras/article/369/4/1939/1094448\n",
    "\n",
    "time_94I = [8, 10, 16, 19, 20, 24, 38] #time in days since explosion\n",
    "T_94I = [9679, 9230, 7690, 6999, 6774, 6383, 6129] #temperature of the blackbody photosphere in K"
   ]
  },
  {
   "cell_type": "code",
   "execution_count": null,
   "metadata": {},
   "outputs": [
    {
     "data": {
      "text/plain": [
       "[<matplotlib.lines.Line2D at 0x7f9d47eeab50>]"
      ]
     },
     "execution_count": 11,
     "metadata": {},
     "output_type": "execute_result"
    }
   ],
   "source": [
    "t0 = 58854.2\n",
    "\n",
    "sns.set_context(\"poster\")\n",
    "sns.set(font_scale=2)\n",
    "sns.set_style('white', {'axes.linewidth': 0.5})\n",
    "plt.rcParams['xtick.major.size'] = 15\n",
    "plt.rcParams['ytick.major.size'] = 15\n",
    "\n",
    "plt.rcParams['xtick.minor.size'] = 10\n",
    "plt.rcParams['ytick.minor.size'] = 10\n",
    "plt.rcParams['xtick.minor.width'] = 2\n",
    "plt.rcParams['ytick.minor.width'] = 2\n",
    "\n",
    "plt.rcParams['xtick.major.width'] = 2\n",
    "plt.rcParams['ytick.major.width'] = 2\n",
    "plt.rcParams['xtick.bottom'] = True\n",
    "#plt.rcParams['xtick.top'] = True\n",
    "plt.rcParams['ytick.left'] = True\n",
    "plt.rcParams['ytick.right'] = True\n",
    "\n",
    "plt.rcParams['xtick.minor.visible'] = True\n",
    "plt.rcParams['ytick.minor.visible'] = True\n",
    "plt.rcParams['xtick.direction'] = 'in'\n",
    "plt.rcParams['ytick.direction'] = 'in'\n",
    "\n",
    "xnew = np.linspace(-2, 50)\n",
    "\n",
    "def t0_to_mjd(x):\n",
    "    return x + t0\n",
    "\n",
    "def mjd_to_t0(x):\n",
    "    return x - t0\n",
    "\n",
    "fig, (ax1, ax2) = plt.subplots(2, 1,figsize=(13,15),sharex=True)\n",
    "# make a little extra space between the subplots\n",
    "fig.subplots_adjust(hspace=0.01)\n",
    "\n",
    "plt.rcParams.update({\n",
    "    \"text.usetex\": True,\n",
    "    \"font.family\": \"sans-serif\",\n",
    "    \"font.sans-serif\": [\"Helvetica\"]})\n",
    "## for Palatino and other serif fonts use:\n",
    "plt.rcParams.update({\n",
    "    \"text.usetex\": True,\n",
    "    \"font.family\": \"serif\",\n",
    "    \"font.serif\": [\"Palatino\"],\n",
    "})\n",
    "    \n",
    "xmax = 60\n",
    "ax1.text(4.6, 1., r\"$v_{ph}$ = %.2fc\"%(m/(3600*24)/2.998e10), color='gray', rotation=53, style='italic')\n",
    "ax1.grid(True)\n",
    "ax2.grid(True)\n",
    "ax1.set_ylim((0.0, 2.5))\n",
    "ax2.set_xlim((0, xmax))\n",
    "ax2.set_ylim((3500, 9900))\n",
    "#ax1.set_ylim(ymax=4.0)\n",
    "\n",
    "absMJD = ax1.secondary_xaxis('top', functions=(t0_to_mjd, mjd_to_t0))\n",
    "absMJD.set_xlabel('Time (MJD)')\n",
    "    \n",
    "absMJD.set_xlim((0+t0,xmax+t0))\n",
    "ax1.plot(xnew, (m*(xnew)+b)/1.e15, 'k--', alpha=0.5, lw=3)\n",
    "ax2.set_xlabel(\"Time From Explosion (days)\")\n",
    "ax1.set_ylabel(r\"$R \\ (10^{15}$ cm)\");\n",
    "ax2.set_ylabel(r\"$T_{eff}$ (K)\");\n",
    "sns.set_context(\"talk\")\n",
    "ax1.plot(data['time (rest frame MJD from discovery)'], data['Rphot median (cm)']/1.e15, c=sns.color_palette(\"colorblind\")[2])\n",
    "ax1.fill_between(data['time (rest frame MJD from discovery)'], data['Rphot min (cm)']/1.e15, data['Rphot max (cm)']/1.e15, alpha=0.4, color=sns.color_palette(\"colorblind\")[2])\n",
    "ax2.plot(data['time (rest frame MJD from discovery)'], data['Tphot median (K)'], c=sns.color_palette(\"colorblind\")[1])\n",
    "ax2.fill_between(data['time (rest frame MJD from discovery)'], data['Tphot min (K)'], data['Tphot max (K)'], alpha=0.4, color=sns.color_palette(\"colorblind\")[1])\n",
    "ax2.text(26, 6400, \"SN 1994I\", color='tab:blue',rotation=-5,fontsize=26, style='italic')\n",
    "plt.plot(time_94I, T_94I, 'o--', ms=15, lw=3)\n",
    "#plt.savefig(\"/Users/alexgagliano/Documents/Research/2020oi/img/PhotoFits_MOSFiT_FancyFont.png\",dpi=200, bbox_inches='tight')"
   ]
  },
  {
   "cell_type": "code",
   "execution_count": null,
   "metadata": {},
   "outputs": [],
   "source": []
  }
 ],
 "metadata": {
  "kernelspec": {
   "display_name": "Python 3",
   "language": "python",
   "name": "python3"
  },
  "language_info": {
   "codemirror_mode": {
    "name": "ipython",
    "version": 3
   },
   "file_extension": ".py",
   "mimetype": "text/x-python",
   "name": "python",
   "nbconvert_exporter": "python",
   "pygments_lexer": "ipython3",
   "version": "3.7.6"
  }
 },
 "nbformat": 4,
 "nbformat_minor": 4
}
